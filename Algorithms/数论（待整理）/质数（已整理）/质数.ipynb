{
 "cells": [
  {
   "cell_type": "code",
   "execution_count": 2,
   "metadata": {
    "ExecuteTime": {
     "end_time": "2018-12-15T15:53:08.125678Z",
     "start_time": "2018-12-15T15:53:08.110396Z"
    }
   },
   "outputs": [
    {
     "data": {
      "text/plain": [
       "'system: Microsoft Windows 10 教育版, 18363, 64 位'"
      ]
     },
     "execution_count": 2,
     "metadata": {},
     "output_type": "execute_result"
    },
    {
     "data": {
      "text/plain": [
       "'memory: 15.86G'"
      ]
     },
     "execution_count": 2,
     "metadata": {},
     "output_type": "execute_result"
    },
    {
     "data": {
      "text/plain": [
       "'cpu: 4'"
      ]
     },
     "execution_count": 2,
     "metadata": {},
     "output_type": "execute_result"
    },
    {
     "data": {
      "text/plain": [
       "'python: 3.7.1 (default, Oct 28 2018, 08:39:03) [MSC v.1912 64 bit (AMD64)]'"
      ]
     },
     "execution_count": 2,
     "metadata": {},
     "output_type": "execute_result"
    },
    {
     "data": {
      "text/plain": [
       "'2020-08-23 16:40:31'"
      ]
     },
     "execution_count": 2,
     "metadata": {},
     "output_type": "execute_result"
    }
   ],
   "source": [
    "import sys, time, wmi, psutil\n",
    "SYSTEM_INFO = wmi.WMI().Win32_OperatingSystem()[0]\n",
    "\"system: {0}, {1}, {2}\".format(SYSTEM_INFO.Caption, SYSTEM_INFO.BuildNumber, SYSTEM_INFO.OSArchitecture) \n",
    "\"memory: {}G\".format(round(psutil.virtual_memory().total / 1024**3, 2))\n",
    "\"cpu: {}\".format(psutil.cpu_count())\n",
    "\"python: {}\".format(sys.version)\n",
    "time.strftime('%Y-%m-%d %H:%M:%S', time.localtime(time.time()))"
   ]
  },
  {
   "cell_type": "markdown",
   "metadata": {},
   "source": [
    "- **@author**: run_walker\n",
    "- **@references**: \n",
    "    1. [Python Solution beats 99.80%](https://leetcode.com/problems/count-primes/discuss/134754/Python-Solution-beats-99.80)"
   ]
  },
  {
   "cell_type": "markdown",
   "metadata": {},
   "source": [
    "# 问题\n",
    "统计所有小于非负整数$n$的质数的数量。\n",
    "\n",
    "**示例：**输入10，输出4，因为小于 10 的质数一共有 4 个，分别为2、3、5、7。"
   ]
  },
  {
   "cell_type": "markdown",
   "metadata": {},
   "source": [
    "# python实现\n",
    "假设小于$n$的质数一共有$i$个，依次记为$a_1,~...,~a_i$。\n",
    "\n",
    "对比思路一和思路二，思路一要从2遍历到$n-1$，遇到合数找到第一个质因子会跳到下一个数进行判断，遇到质数$k$时需要试遍2到$\\lfloor\\sqrt k\\rfloor$中的所有质数；而思路二只需要从2遍历到$\\lfloor\\sqrt n\\rfloor$，遇到合数会直接跳过，遇到质数$k$时只需要标记从$k^2$到$n$中$k$的倍数为合数。思路二的效率要高于效率一。"
   ]
  },
  {
   "cell_type": "markdown",
   "metadata": {},
   "source": [
    "## 法一 \n",
    "依次从2到$n-1$进行遍历，分别判断每个数是否为质数。单独判断一个数$x$是否是质数的方式为：从2到$\\lfloor\\sqrt x\\rfloor$进行遍历，判断其中是否有$x$的因子，事实上只要判断其中的质数是否能成为$x$的因子即可，因为合数一定能分解为更小的质因子相乘，因为要统计小于$n$的质数的数量，所以在判断$x$是否为质数时可以知道之前的质数有哪些。"
   ]
  },
  {
   "cell_type": "code",
   "execution_count": 3,
   "metadata": {
    "ExecuteTime": {
     "end_time": "2018-12-15T18:29:21.856969Z",
     "start_time": "2018-12-15T18:29:21.829472Z"
    }
   },
   "outputs": [],
   "source": [
    "def countPrimes_method1(n):\n",
    "    if n <= 2:\n",
    "        return 0, []\n",
    "    zhishu = []\n",
    "    for i in range(2, n):\n",
    "        flag = 0\n",
    "        ub = int(i**0.5)\n",
    "        for j in zhishu:\n",
    "            if j > ub:\n",
    "                break\n",
    "            if not i % j:\n",
    "                flag = 1\n",
    "                break\n",
    "        if flag == 0:\n",
    "            zhishu.append(i)\n",
    "    return len(zhishu), zhishu"
   ]
  },
  {
   "cell_type": "code",
   "execution_count": 4,
   "metadata": {
    "ExecuteTime": {
     "end_time": "2018-12-15T18:29:49.177752Z",
     "start_time": "2018-12-15T18:29:49.171691Z"
    },
    "scrolled": true
   },
   "outputs": [
    {
     "name": "stdout",
     "output_type": "stream",
     "text": [
      "0: 0, []\n",
      "1: 0, []\n",
      "2: 0, []\n",
      "3: 1, [2]\n",
      "4: 2, [2, 3]\n",
      "5: 2, [2, 3]\n",
      "6: 3, [2, 3, 5]\n",
      "7: 3, [2, 3, 5]\n",
      "8: 4, [2, 3, 5, 7]\n",
      "9: 4, [2, 3, 5, 7]\n",
      "10: 4, [2, 3, 5, 7]\n",
      "11: 4, [2, 3, 5, 7]\n"
     ]
    }
   ],
   "source": [
    "for i in range(12):\n",
    "    l, zhishu = countPrimes_method1(i)\n",
    "    print(f'{i}: {l}, {zhishu}')"
   ]
  },
  {
   "cell_type": "markdown",
   "metadata": {},
   "source": [
    "## 法二：埃拉托斯特尼筛法\n",
    "[维基百科 > Sieve of Eratosthenes](https://en.wikipedia.org/wiki/Sieve_of_Eratosthenes) \n",
    "\n",
    "<img src=\"imgs/Sieve_of_Eratosthenes_animation.gif\" style=\"float:left\"></img>"
   ]
  },
  {
   "cell_type": "markdown",
   "metadata": {},
   "source": [
    "质数的倍数（超过一倍）一定为合数，合数$x$的质因子只可能为从2到$\\lfloor\\sqrt x\\rfloor$中的质数。因此我们可以从2出发向右遍历质数，将它们的倍数标记为合数，最后剩下来未被标记为合数的均为质数。\n",
    "\n",
    "**注意：**\n",
    "1. 合数的倍数没有必要标记为合数，因为遍历到它的质因子时已经标记过了。\n",
    "2. 对于质数$k$，以及$c < k$，没有必要标记$k*c$为合数，因为遍历到$c$的质因子时已经标记过了。"
   ]
  },
  {
   "cell_type": "code",
   "execution_count": 5,
   "metadata": {
    "ExecuteTime": {
     "end_time": "2018-12-16T03:49:13.974256Z",
     "start_time": "2018-12-16T03:49:13.964695Z"
    }
   },
   "outputs": [],
   "source": [
    "def countPrimes_method2(n):\n",
    "    if n <= 2: return 0, []\n",
    "    flags = [0, 0] + [1] * (n - 2)\n",
    "    for i in range(2, int(n**0.5) + 1):\n",
    "        if flags[i]:\n",
    "            flags[i * i: n: i] = [0] * ((n - 1) // i - i + 1)\n",
    "    return sum(flags), [i for i, flag in enumerate(flags) if flag]"
   ]
  },
  {
   "cell_type": "code",
   "execution_count": 6,
   "metadata": {
    "ExecuteTime": {
     "end_time": "2018-12-16T03:49:14.492015Z",
     "start_time": "2018-12-16T03:49:14.476695Z"
    }
   },
   "outputs": [
    {
     "name": "stdout",
     "output_type": "stream",
     "text": [
      "0: 0, []\n",
      "1: 0, []\n",
      "2: 0, []\n",
      "3: 1, [2]\n",
      "4: 2, [2, 3]\n",
      "5: 2, [2, 3]\n",
      "6: 3, [2, 3, 5]\n",
      "7: 3, [2, 3, 5]\n",
      "8: 4, [2, 3, 5, 7]\n",
      "9: 4, [2, 3, 5, 7]\n",
      "10: 4, [2, 3, 5, 7]\n",
      "11: 4, [2, 3, 5, 7]\n"
     ]
    }
   ],
   "source": [
    "for i in range(12):\n",
    "    l, zhishu = countPrimes_method2(i)\n",
    "    print(f'{i}: {l}, {zhishu}')"
   ]
  },
  {
   "cell_type": "markdown",
   "metadata": {},
   "source": [
    "### 改进\n",
    "在内存中存储一个全局变量，记录已经判断过的质数，当输入的n在此范围内时直接返回，否则在原来的基础上继续向后判断。当多次调用该函数进行判断时，可以略提升一点效率。"
   ]
  },
  {
   "cell_type": "code",
   "execution_count": 21,
   "metadata": {
    "ExecuteTime": {
     "end_time": "2018-12-16T06:05:19.410544Z",
     "start_time": "2018-12-16T06:05:19.388068Z"
    }
   },
   "outputs": [],
   "source": [
    "flags = [0, 0]\n",
    "def countPrimes_method3(n):\n",
    "    global flags\n",
    "    if n <= 2: return 0, []\n",
    "    l = len(flags)\n",
    "    if n > l:\n",
    "        flags += [1] * (n - l)\n",
    "        for i in range(2, int(n**0.5) + 1):\n",
    "            if flags[i]:\n",
    "                temp = max(i*i, l // i * i)\n",
    "                flags[temp: n: i] = [0] * ((n - temp - 1) // i + 1)\n",
    "    return sum(flags), [i for i, flag in enumerate(flags[:n]) if flag]"
   ]
  },
  {
   "cell_type": "markdown",
   "metadata": {},
   "source": [
    "并没有写成递归的方式，所以没法通过`functools.lru_cache(None)`设置缓存进行加速。"
   ]
  },
  {
   "cell_type": "code",
   "execution_count": 24,
   "metadata": {
    "ExecuteTime": {
     "end_time": "2018-12-16T06:05:35.805064Z",
     "start_time": "2018-12-16T06:05:35.799463Z"
    }
   },
   "outputs": [
    {
     "name": "stdout",
     "output_type": "stream",
     "text": [
      "0: 0, []\n",
      "1: 0, []\n",
      "2: 0, []\n",
      "3: 4, [2]\n",
      "4: 4, [2, 3]\n",
      "5: 4, [2, 3]\n",
      "6: 4, [2, 3, 5]\n",
      "7: 4, [2, 3, 5]\n",
      "8: 4, [2, 3, 5, 7]\n",
      "9: 4, [2, 3, 5, 7]\n",
      "10: 4, [2, 3, 5, 7]\n",
      "11: 4, [2, 3, 5, 7]\n",
      "12: 5, [2, 3, 5, 7, 11]\n",
      "13: 5, [2, 3, 5, 7, 11]\n",
      "14: 6, [2, 3, 5, 7, 11, 13]\n",
      "15: 6, [2, 3, 5, 7, 11, 13]\n",
      "16: 6, [2, 3, 5, 7, 11, 13]\n",
      "17: 6, [2, 3, 5, 7, 11, 13]\n",
      "18: 7, [2, 3, 5, 7, 11, 13, 17]\n",
      "19: 7, [2, 3, 5, 7, 11, 13, 17]\n"
     ]
    }
   ],
   "source": [
    "for i in range(20):\n",
    "    l, zhishu = countPrimes_method3(i)\n",
    "    print(f'{i}: {l}, {zhishu}')"
   ]
  },
  {
   "cell_type": "markdown",
   "metadata": {},
   "source": [
    "# 相关题目\n",
    "- [leetcode 204. Count Primes](https://leetcode-cn.com/problems/count-primes/)\n",
    "- [leetcode 1175. 质数排列]()"
   ]
  },
  {
   "cell_type": "code",
   "execution_count": null,
   "metadata": {},
   "outputs": [],
   "source": []
  }
 ],
 "metadata": {
  "kernelspec": {
   "display_name": "python37",
   "language": "python",
   "name": "python37"
  },
  "language_info": {
   "codemirror_mode": {
    "name": "ipython",
    "version": 3
   },
   "file_extension": ".py",
   "mimetype": "text/x-python",
   "name": "python",
   "nbconvert_exporter": "python",
   "pygments_lexer": "ipython3",
   "version": "3.7.1"
  },
  "toc": {
   "base_numbering": 1,
   "nav_menu": {},
   "number_sections": true,
   "sideBar": true,
   "skip_h1_title": false,
   "title_cell": "Table of Contents",
   "title_sidebar": "Contents",
   "toc_cell": false,
   "toc_position": {},
   "toc_section_display": true,
   "toc_window_display": false
  }
 },
 "nbformat": 4,
 "nbformat_minor": 4
}
