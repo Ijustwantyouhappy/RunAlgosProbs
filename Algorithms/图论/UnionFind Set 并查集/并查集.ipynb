{
 "cells": [
  {
   "cell_type": "code",
   "execution_count": 1,
   "metadata": {
    "ExecuteTime": {
     "end_time": "2019-02-10T10:45:01.952037Z",
     "start_time": "2019-02-10T10:45:00.972634Z"
    }
   },
   "outputs": [
    {
     "data": {
      "text/plain": [
       "'system: Microsoft Windows 10 教育版, 18363, 64 位'"
      ]
     },
     "execution_count": 1,
     "metadata": {},
     "output_type": "execute_result"
    },
    {
     "data": {
      "text/plain": [
       "'memory: 15.86G'"
      ]
     },
     "execution_count": 1,
     "metadata": {},
     "output_type": "execute_result"
    },
    {
     "data": {
      "text/plain": [
       "'cpu: 4'"
      ]
     },
     "execution_count": 1,
     "metadata": {},
     "output_type": "execute_result"
    },
    {
     "data": {
      "text/plain": [
       "'python: 3.7.1 (default, Oct 28 2018, 08:39:03) [MSC v.1912 64 bit (AMD64)]'"
      ]
     },
     "execution_count": 1,
     "metadata": {},
     "output_type": "execute_result"
    },
    {
     "data": {
      "text/plain": [
       "'2020-08-17 10:12:58'"
      ]
     },
     "execution_count": 1,
     "metadata": {},
     "output_type": "execute_result"
    }
   ],
   "source": [
    "import sys, time, wmi, psutil\n",
    "SYSTEM_INFO = wmi.WMI().Win32_OperatingSystem()[0]\n",
    "\"system: {0}, {1}, {2}\".format(SYSTEM_INFO.Caption, SYSTEM_INFO.BuildNumber, SYSTEM_INFO.OSArchitecture) \n",
    "\"memory: {}G\".format(round(psutil.virtual_memory().total / 1024**3, 2))\n",
    "\"cpu: {}\".format(psutil.cpu_count())\n",
    "\"python: {}\".format(sys.version)\n",
    "time.strftime('%Y-%m-%d %H:%M:%S', time.localtime(time.time()))"
   ]
  },
  {
   "cell_type": "markdown",
   "metadata": {},
   "source": [
    "- **@author**: run_walker\n",
    "- **@references**:\n",
    "    1. [数据结构--并查集的原理及实现](https://www.cnblogs.com/hapjin/p/5478352.html)\n",
    "    2. [数据结构4——并查集（入门）](https://www.cnblogs.com/xzxl/p/7226557.html)\n",
    "    3. [并查集（进阶）](https://www.cnblogs.com/xzxl/p/7341536.html)\n",
    "    4. [ackerman函数](https://baike.baidu.com/item/ackerman%E5%87%BD%E6%95%B0/2750194?fr=aladdin)"
   ]
  },
  {
   "cell_type": "markdown",
   "metadata": {},
   "source": [
    "# 数据结构\n",
    "1. 一簇点可以依据相互间的连通性（无向）被分为一个个**连通子集**，为每个点都记录一个**父元**。一个连通子集内，存在且仅存在一个点，其父元为其自身，这个点被称为该连通子集的**代表元**，其他点的父元为代表元（或者继续向上追溯父元，最终仍为该代表元）。\n",
    "2. 合并两个不连通的子集$A$和$B$时（在两个不连通的点间添加一条边），只需要将$A$的代表元$a$的父元赋为$B$的代表元$b$即可（反过来也可以）。\n",
    "3. 查找一个元素的代表元的同时进行**路径压缩**，将所有中间元的父元都赋为代表元。"
   ]
  },
  {
   "cell_type": "markdown",
   "metadata": {},
   "source": [
    "# 可视化"
   ]
  },
  {
   "cell_type": "code",
   "execution_count": 2,
   "metadata": {
    "ExecuteTime": {
     "end_time": "2019-03-06T02:32:54.178362Z",
     "start_time": "2019-03-06T02:32:54.173375Z"
    }
   },
   "outputs": [
    {
     "data": {
      "text/html": [
       "\n",
       "        <iframe\n",
       "            width=\"100%\"\n",
       "            height=\"400\"\n",
       "            src=\"https://visualgo.net/zh/ufds\"\n",
       "            frameborder=\"0\"\n",
       "            allowfullscreen\n",
       "        ></iframe>\n",
       "        "
      ],
      "text/plain": [
       "<IPython.lib.display.IFrame at 0x1e0321b69b0>"
      ]
     },
     "execution_count": 2,
     "metadata": {},
     "output_type": "execute_result"
    }
   ],
   "source": [
    "from IPython.display import IFrame\n",
    "\n",
    "IFrame(\"https://visualgo.net/zh/ufds\", \"100%\", 400)"
   ]
  },
  {
   "cell_type": "markdown",
   "metadata": {},
   "source": [
    "# python实现"
   ]
  },
  {
   "cell_type": "markdown",
   "metadata": {},
   "source": [
    "## 初步实现（unused）"
   ]
  },
  {
   "cell_type": "code",
   "execution_count": 37,
   "metadata": {
    "ExecuteTime": {
     "end_time": "2019-01-05T12:36:09.924067Z",
     "start_time": "2019-01-05T12:36:09.891155Z"
    },
    "code_folding": [
     2,
     10,
     23,
     33,
     42
    ]
   },
   "outputs": [],
   "source": [
    "from collections import defaultdict\n",
    "\n",
    "\n",
    "class DisjointSet(dict):\n",
    "    \"\"\"并查集\"\"\"\n",
    "    def __init__(self, iters):\n",
    "        \"\"\"\n",
    "        初始化，每个点的父元都赋为自身\n",
    "        :param iters:\n",
    "        \"\"\"\n",
    "        for x in iters:\n",
    "            self[x] = x\n",
    "            \n",
    "    def union(self, items):\n",
    "        \"\"\"\n",
    "        将一簇点连通起来\n",
    "        :param items:\n",
    "        :return:\n",
    "        \"\"\"\n",
    "        items = list(items)\n",
    "        f = self.find(items[0])\n",
    "        for item in items[1:]:\n",
    "            itemf = self.find(item)\n",
    "            if itemf != f:\n",
    "                self[itemf] = f \n",
    "\n",
    "    def find(self, item):\n",
    "        \"\"\"\n",
    "        查找代表元，同时进行路径压缩\n",
    "        :param item:\n",
    "        :return:\n",
    "        \"\"\"\n",
    "        if self[item] != item:\n",
    "            self[item] = self.find(self[item])  # 若 a -> b -> c -> 代表元x，则将a、b、c的父元均修改为x\n",
    "        return self[item]\n",
    "    \n",
    "    def is_connected(self, u, v):\n",
    "        \"\"\"\n",
    "        判断两个点是否连通\n",
    "        :param u:\n",
    "        :param v:\n",
    "        :return:\n",
    "        \"\"\"\n",
    "        return self.find(u) == self.find(v)\n",
    "\n",
    "    def get_cluster(self, item=None):\n",
    "        \"\"\"\n",
    "        获得指定元素的所在的连通子集，如无指定，则统计所有连通子集\n",
    "        :return: \n",
    "        \"\"\"\n",
    "        if item is None:\n",
    "            clusters = defaultdict(set)\n",
    "            for item in self:\n",
    "                clusters[self.find(item)].add(item)\n",
    "            return clusters\n",
    "        else:\n",
    "            sets = set()\n",
    "            itemf = self.find(item)\n",
    "            for k in self:\n",
    "                if self.find(k) == itemf:\n",
    "                    sets.add(k)\n",
    "            return sets\n",
    "    \n",
    "    def count(self):\n",
    "        \"\"\"返回连通子集个数\"\"\"\n",
    "        return len(self.get_cluster())"
   ]
  },
  {
   "cell_type": "code",
   "execution_count": 38,
   "metadata": {},
   "outputs": [
    {
     "data": {
      "text/plain": [
       "13"
      ]
     },
     "execution_count": 38,
     "metadata": {},
     "output_type": "execute_result"
    }
   ],
   "source": [
    "d = DisjointSet(range(13))\n",
    "d.count()"
   ]
  },
  {
   "cell_type": "code",
   "execution_count": 39,
   "metadata": {
    "ExecuteTime": {
     "end_time": "2019-01-05T12:36:10.699993Z",
     "start_time": "2019-01-05T12:36:10.693040Z"
    }
   },
   "outputs": [
    {
     "data": {
      "text/plain": [
       "{0: 0,\n",
       " 1: 0,\n",
       " 2: 0,\n",
       " 3: 3,\n",
       " 4: 3,\n",
       " 5: 5,\n",
       " 6: 5,\n",
       " 7: 5,\n",
       " 8: 8,\n",
       " 9: 8,\n",
       " 10: 8,\n",
       " 11: 8,\n",
       " 12: 12}"
      ]
     },
     "execution_count": 39,
     "metadata": {},
     "output_type": "execute_result"
    }
   ],
   "source": [
    "sets = [{0, 1, 2}, {3, 4}, {5, 6, 7}, {8, 9, 10, 11}, {12}]\n",
    "for items in sets:\n",
    "    d.union(items)\n",
    "\n",
    "d "
   ]
  },
  {
   "cell_type": "code",
   "execution_count": 40,
   "metadata": {},
   "outputs": [
    {
     "data": {
      "text/plain": [
       "5"
      ]
     },
     "execution_count": 40,
     "metadata": {},
     "output_type": "execute_result"
    }
   ],
   "source": [
    "d.count()"
   ]
  },
  {
   "cell_type": "code",
   "execution_count": 41,
   "metadata": {
    "ExecuteTime": {
     "end_time": "2019-01-05T12:36:28.393725Z",
     "start_time": "2019-01-05T12:36:28.380760Z"
    },
    "scrolled": true
   },
   "outputs": [
    {
     "data": {
      "text/plain": [
       "8"
      ]
     },
     "execution_count": 41,
     "metadata": {},
     "output_type": "execute_result"
    },
    {
     "data": {
      "text/plain": [
       "True"
      ]
     },
     "execution_count": 41,
     "metadata": {},
     "output_type": "execute_result"
    },
    {
     "data": {
      "text/plain": [
       "False"
      ]
     },
     "execution_count": 41,
     "metadata": {},
     "output_type": "execute_result"
    },
    {
     "data": {
      "text/plain": [
       "defaultdict(set,\n",
       "            {0: {0, 1, 2},\n",
       "             3: {3, 4},\n",
       "             5: {5, 6, 7},\n",
       "             8: {8, 9, 10, 11},\n",
       "             12: {12}})"
      ]
     },
     "execution_count": 41,
     "metadata": {},
     "output_type": "execute_result"
    },
    {
     "data": {
      "text/plain": [
       "{0, 1, 2}"
      ]
     },
     "execution_count": 41,
     "metadata": {},
     "output_type": "execute_result"
    }
   ],
   "source": [
    "d.find(11)\n",
    "\n",
    "d.is_connected(0, 1)\n",
    "d.is_connected(0, 3)\n",
    "\n",
    "d.get_cluster()\n",
    "\n",
    "d.get_cluster(2)"
   ]
  },
  {
   "cell_type": "markdown",
   "metadata": {},
   "source": [
    "## 优化"
   ]
  },
  {
   "cell_type": "markdown",
   "metadata": {},
   "source": [
    "### 去除合并中的随机性（unused）\n",
    "初步实现中合并两个连通子集时是随机修改代表元的父元的，当待合并的两个连通子集作为树（连边前对代表元是否相等的检查，保证了不会生成环）的深度差异很大时，如果碰巧将深树挂在了浅树下，后续的查找操作将会更耗时。\n",
    "\n",
    "所以初始化时将每个元素的深度置为0，当合并两个连通子集时，将浅树的代表元的父元修改为深树的代表元，同时将浅树从深度记录中移除。特别地，如果深度一致，则随机选择，并且需要将树的深度增加1。\n",
    "\n",
    "这样做的另一个好处是，可以很容易地从深度记录中知道当前连通子集的个数。缺点是增加了空间开销。"
   ]
  },
  {
   "cell_type": "markdown",
   "metadata": {},
   "source": [
    "<div class=\"alert alert-block alert-warning\">\n",
    "    <i class=\"fa fa-sticky-note\" aria-hidden=\"true\"><b> Note:</b></i>\n",
    "    并查集在查找元素代表元的时候会压缩路径，也即是说有可能会改变树深，而此时难以做到同步维护深度记录，所以经过一些查找后，树深记录已经不再可靠，该优化意义不大，建议不做。\n",
    "</div>"
   ]
  },
  {
   "cell_type": "code",
   "execution_count": 14,
   "metadata": {
    "ExecuteTime": {
     "end_time": "2019-01-14T03:58:44.630960Z",
     "start_time": "2019-01-14T03:58:44.512272Z"
    },
    "code_folding": [
     2,
     10,
     31,
     41,
     50,
     73
    ]
   },
   "outputs": [],
   "source": [
    "from collections import defaultdict\n",
    "\n",
    "\n",
    "class DisjointSet:\n",
    "    \"\"\"并查集\"\"\"\n",
    "    def __init__(self, iters):\n",
    "        \"\"\"\n",
    "        初始化，每个点的父元都赋为自身，深度都置为0\n",
    "        :param iters: 可迭代对象 \n",
    "        \"\"\"\n",
    "        self.father = {x: x for x in iters}\n",
    "        self.depth = dict.fromkeys(iters, 0)\n",
    "    \n",
    "    def union(self, items):\n",
    "        \"\"\"\n",
    "        将一簇点连通起来\n",
    "        :param items:\n",
    "        :return:\n",
    "        \"\"\"\n",
    "        items = list(items)\n",
    "        f = self.find(items[0])\n",
    "        for item in items[1:]:\n",
    "            itemf = self.find(item)\n",
    "            if itemf == f: \n",
    "                continue\n",
    "            if self.depth[itemf] > self.depth[f]:\n",
    "                self.father[f] = itemf\n",
    "                self.depth.pop(f)\n",
    "                f = itemf\n",
    "            else:\n",
    "                if self.depth[itemf] == self.depth[f]:\n",
    "                    self.depth[f] += 1\n",
    "                self.father[itemf] = f\n",
    "                self.depth.pop(itemf)\n",
    "\n",
    "    def find(self, item):\n",
    "        \"\"\"\n",
    "        查找代表元，同时进行路径压缩\n",
    "        :param item:\n",
    "        :return:\n",
    "        \"\"\"\n",
    "        if self.father[item] != item:\n",
    "            self.father[item] = self.find(self.father[item])  # 若 a -> b -> c -> 代表元x，则将a、b、c的父元均修改为x\n",
    "        return self.father[item]\n",
    "    \n",
    "    def is_connected(self, u, v):\n",
    "        \"\"\"\n",
    "        判断两个点是否连通\n",
    "        :param u:\n",
    "        :param v:\n",
    "        :return:\n",
    "        \"\"\"\n",
    "        return self.find(u) == self.find(v)\n",
    "    \n",
    "    def get_cluster(self, item=None):\n",
    "        \"\"\"\n",
    "        获得指定元素的所在的连通子集，如无指定，则统计所有连通子集\n",
    "        :return: \n",
    "        \"\"\"\n",
    "        if item is None:\n",
    "            clusters = defaultdict(set)\n",
    "            for item in self.father:\n",
    "                clusters[self.find(item)].add(item)\n",
    "            return clusters\n",
    "        else:\n",
    "            sets = set()\n",
    "            itemf = self.find(item)\n",
    "            for k in self.father:\n",
    "                if self.find(k) == itemf:\n",
    "                    sets.add(k)\n",
    "            return sets\n",
    "        \n",
    "    def count(self):\n",
    "        \"\"\"返回连通子集个数\"\"\"\n",
    "        return len(self.depth)"
   ]
  },
  {
   "cell_type": "code",
   "execution_count": 26,
   "metadata": {},
   "outputs": [
    {
     "data": {
      "text/plain": [
       "13"
      ]
     },
     "execution_count": 26,
     "metadata": {},
     "output_type": "execute_result"
    }
   ],
   "source": [
    "d = DisjointSet(range(13))\n",
    "d.count()"
   ]
  },
  {
   "cell_type": "code",
   "execution_count": 27,
   "metadata": {
    "ExecuteTime": {
     "end_time": "2019-01-14T03:58:45.919579Z",
     "start_time": "2019-01-14T03:58:45.909590Z"
    }
   },
   "outputs": [
    {
     "data": {
      "text/plain": [
       "5"
      ]
     },
     "execution_count": 27,
     "metadata": {},
     "output_type": "execute_result"
    }
   ],
   "source": [
    "sets = [{0, 1, 2}, {3, 4}, {5, 6, 7}, {8, 9, 10, 11}, {12}]\n",
    "for items in sets:\n",
    "    d.union(items)\n",
    "d.count()"
   ]
  },
  {
   "cell_type": "code",
   "execution_count": 28,
   "metadata": {},
   "outputs": [
    {
     "data": {
      "text/plain": [
       "{0: 1, 3: 1, 5: 1, 8: 1, 12: 0}"
      ]
     },
     "execution_count": 28,
     "metadata": {},
     "output_type": "execute_result"
    }
   ],
   "source": [
    "d.depth"
   ]
  },
  {
   "cell_type": "code",
   "execution_count": 29,
   "metadata": {},
   "outputs": [
    {
     "data": {
      "text/plain": [
       "{0: 1, 3: 2, 8: 1, 12: 0}"
      ]
     },
     "execution_count": 29,
     "metadata": {},
     "output_type": "execute_result"
    }
   ],
   "source": [
    "d.union([3, 5])\n",
    "d.depth"
   ]
  },
  {
   "cell_type": "code",
   "execution_count": 30,
   "metadata": {},
   "outputs": [
    {
     "data": {
      "text/plain": [
       "{0: 1, 3: 2, 12: 0}"
      ]
     },
     "execution_count": 30,
     "metadata": {},
     "output_type": "execute_result"
    }
   ],
   "source": [
    "d.union([3, 8])\n",
    "d.depth"
   ]
  },
  {
   "cell_type": "code",
   "execution_count": 31,
   "metadata": {},
   "outputs": [
    {
     "data": {
      "text/plain": [
       "{3: 2, 12: 0}"
      ]
     },
     "execution_count": 31,
     "metadata": {},
     "output_type": "execute_result"
    }
   ],
   "source": [
    "d.union([0, 3])\n",
    "d.depth"
   ]
  },
  {
   "cell_type": "code",
   "execution_count": 32,
   "metadata": {
    "ExecuteTime": {
     "end_time": "2019-01-14T03:59:11.284290Z",
     "start_time": "2019-01-14T03:59:11.270353Z"
    }
   },
   "outputs": [
    {
     "data": {
      "text/plain": [
       "defaultdict(set, {3: {0, 1, 2, 3, 4, 5, 6, 7, 8, 9, 10, 11}, 12: {12}})"
      ]
     },
     "execution_count": 32,
     "metadata": {},
     "output_type": "execute_result"
    }
   ],
   "source": [
    "d.get_cluster()"
   ]
  },
  {
   "cell_type": "code",
   "execution_count": 33,
   "metadata": {},
   "outputs": [
    {
     "data": {
      "text/plain": [
       "{0, 1, 2, 3, 4, 5, 6, 7, 8, 9, 10, 11}"
      ]
     },
     "execution_count": 33,
     "metadata": {},
     "output_type": "execute_result"
    }
   ],
   "source": [
    "d.get_cluster(7)"
   ]
  },
  {
   "cell_type": "code",
   "execution_count": 34,
   "metadata": {},
   "outputs": [
    {
     "data": {
      "text/plain": [
       "False"
      ]
     },
     "execution_count": 34,
     "metadata": {},
     "output_type": "execute_result"
    }
   ],
   "source": [
    "d.is_connected(3, 12)"
   ]
  },
  {
   "cell_type": "code",
   "execution_count": 35,
   "metadata": {},
   "outputs": [
    {
     "data": {
      "text/plain": [
       "{3: 2, 12: 0}"
      ]
     },
     "execution_count": 35,
     "metadata": {},
     "output_type": "execute_result"
    }
   ],
   "source": [
    "d.depth"
   ]
  },
  {
   "cell_type": "code",
   "execution_count": 36,
   "metadata": {},
   "outputs": [
    {
     "data": {
      "text/plain": [
       "{0: 3,\n",
       " 1: 3,\n",
       " 2: 3,\n",
       " 3: 3,\n",
       " 4: 3,\n",
       " 5: 3,\n",
       " 6: 3,\n",
       " 7: 3,\n",
       " 8: 3,\n",
       " 9: 3,\n",
       " 10: 3,\n",
       " 11: 3,\n",
       " 12: 12}"
      ]
     },
     "execution_count": 36,
     "metadata": {},
     "output_type": "execute_result"
    }
   ],
   "source": [
    "d.father"
   ]
  },
  {
   "cell_type": "markdown",
   "metadata": {},
   "source": [
    "### 去除了对全体的初始化\n",
    "代码最为简洁，效率也没有提升。"
   ]
  },
  {
   "cell_type": "code",
   "execution_count": 42,
   "metadata": {
    "ExecuteTime": {
     "end_time": "2019-02-19T03:26:39.299014Z",
     "start_time": "2019-02-19T03:26:39.227206Z"
    },
    "code_folding": [
     4,
     9,
     22,
     43,
     52,
     72
    ]
   },
   "outputs": [],
   "source": [
    "from collections import defaultdict\n",
    "\n",
    "\n",
    "class DisjointSet(dict):\n",
    "    \"\"\"并查集\"\"\"\n",
    "    \n",
    "    def find(self, item):\n",
    "        \"\"\"\n",
    "        查找代表元，同时进行路径压缩\n",
    "        :param item:\n",
    "        :return:\n",
    "        \"\"\"\n",
    "        father = self.setdefault(item, item)\n",
    "        if father != item:\n",
    "            self[item] = self.find(father)  # 若 a -> b -> c -> 代表元x，则将a、b、c的父元均修改为x\n",
    "        return self[item]\n",
    "    \n",
    "    def union(self, items):\n",
    "        \"\"\"\n",
    "        将一簇点连通起来\n",
    "        :param items:\n",
    "        :return:\n",
    "        \"\"\"\n",
    "        items = list(items)\n",
    "        f = self.find(items[0])\n",
    "        for item in items[1:]:\n",
    "            itemf = self.find(item)\n",
    "            if itemf != f:  # 否则存在环\n",
    "                self[itemf] = f \n",
    "\n",
    "    def is_connected(self, u, v):\n",
    "        \"\"\"\n",
    "        判断两个点是否连通\n",
    "        :param u:\n",
    "        :param v:\n",
    "        :return:\n",
    "        \"\"\"\n",
    "        return self.find(u) == self.find(v)\n",
    "\n",
    "    def get_cluster(self, item=None):\n",
    "        \"\"\"\n",
    "        获得指定元素的所在的连通子集，如无指定，则统计所有连通子集\n",
    "        :return: \n",
    "        \"\"\"\n",
    "        if item is None:\n",
    "            clusters = defaultdict(set)\n",
    "            for item in self:\n",
    "                clusters[self.find(item)].add(item)\n",
    "            return clusters\n",
    "        else:\n",
    "            sets = set()\n",
    "            itemf = self.find(item)\n",
    "            for k in self:\n",
    "                if self.find(k) == itemf:\n",
    "                    sets.add(k)\n",
    "            return sets\n",
    "    \n",
    "    def count(self):\n",
    "        \"\"\"返回连通子集个数\"\"\"\n",
    "        return len(self.get_cluster())"
   ]
  },
  {
   "cell_type": "code",
   "execution_count": 45,
   "metadata": {},
   "outputs": [
    {
     "data": {
      "text/plain": [
       "{}"
      ]
     },
     "execution_count": 45,
     "metadata": {},
     "output_type": "execute_result"
    },
    {
     "data": {
      "text/plain": [
       "0"
      ]
     },
     "execution_count": 45,
     "metadata": {},
     "output_type": "execute_result"
    }
   ],
   "source": [
    "d = DisjointSet()\n",
    "d\n",
    "d.count() "
   ]
  },
  {
   "cell_type": "code",
   "execution_count": 46,
   "metadata": {
    "ExecuteTime": {
     "end_time": "2019-02-19T03:26:40.094914Z",
     "start_time": "2019-02-19T03:26:40.085910Z"
    }
   },
   "outputs": [
    {
     "data": {
      "text/plain": [
       "{0: 0,\n",
       " 1: 0,\n",
       " 2: 0,\n",
       " 3: 3,\n",
       " 4: 3,\n",
       " 5: 5,\n",
       " 6: 5,\n",
       " 7: 5,\n",
       " 8: 8,\n",
       " 9: 8,\n",
       " 10: 8,\n",
       " 11: 8,\n",
       " 12: 12}"
      ]
     },
     "execution_count": 46,
     "metadata": {},
     "output_type": "execute_result"
    },
    {
     "data": {
      "text/plain": [
       "5"
      ]
     },
     "execution_count": 46,
     "metadata": {},
     "output_type": "execute_result"
    }
   ],
   "source": [
    "sets = [{0, 1, 2}, {3, 4}, {5, 6, 7}, {8, 9, 10, 11}, {12}]\n",
    "for items in sets:\n",
    "    d.union(items)\n",
    "d\n",
    "d.count()"
   ]
  },
  {
   "cell_type": "code",
   "execution_count": 47,
   "metadata": {
    "ExecuteTime": {
     "end_time": "2019-02-19T03:26:42.019736Z",
     "start_time": "2019-02-19T03:26:42.004776Z"
    }
   },
   "outputs": [
    {
     "data": {
      "text/plain": [
       "8"
      ]
     },
     "execution_count": 47,
     "metadata": {},
     "output_type": "execute_result"
    },
    {
     "data": {
      "text/plain": [
       "True"
      ]
     },
     "execution_count": 47,
     "metadata": {},
     "output_type": "execute_result"
    },
    {
     "data": {
      "text/plain": [
       "False"
      ]
     },
     "execution_count": 47,
     "metadata": {},
     "output_type": "execute_result"
    },
    {
     "data": {
      "text/plain": [
       "defaultdict(set,\n",
       "            {0: {0, 1, 2},\n",
       "             3: {3, 4},\n",
       "             5: {5, 6, 7},\n",
       "             8: {8, 9, 10, 11},\n",
       "             12: {12}})"
      ]
     },
     "execution_count": 47,
     "metadata": {},
     "output_type": "execute_result"
    },
    {
     "data": {
      "text/plain": [
       "{0, 1, 2}"
      ]
     },
     "execution_count": 47,
     "metadata": {},
     "output_type": "execute_result"
    }
   ],
   "source": [
    "d.find(11)\n",
    "\n",
    "d.is_connected(0, 1)\n",
    "d.is_connected(0, 3)\n",
    "\n",
    "d.get_cluster()\n",
    "\n",
    "d.get_cluster(2)"
   ]
  },
  {
   "cell_type": "markdown",
   "metadata": {},
   "source": [
    "# 复杂度（待研究）\n",
    "$n$次合并$m$次查找的时间复杂度为$O(m*\\alpha(n))$，其中$\\alpha$是Ackerman函数的某个反函数，在很大的范围内（人类目前观测到的宇宙范围估算有$10^{80}$个原子，这小于前面所说的范围）这个函数的值可以看成是不大于4的，所以并查集的操作可以看作是线性的。详细证明见 [DisjointSet.pdf](documents/DisjointSet.pdf)。"
   ]
  },
  {
   "cell_type": "code",
   "execution_count": 48,
   "metadata": {
    "ExecuteTime": {
     "end_time": "2019-01-05T09:34:58.433274Z",
     "start_time": "2019-01-05T09:34:58.102153Z"
    }
   },
   "outputs": [],
   "source": [
    "def ackerman(m, n):\n",
    "    # 百度百科中的定义\n",
    "    if (m, n) == (1, 0):\n",
    "        return 2\n",
    "    if m == 0:\n",
    "        return 1\n",
    "    if n == 0:\n",
    "        return m + 2\n",
    "    return ackerman(ackerman(m - 1, n), n - 1)"
   ]
  },
  {
   "cell_type": "code",
   "execution_count": 49,
   "metadata": {
    "ExecuteTime": {
     "end_time": "2019-01-05T09:35:44.214895Z",
     "start_time": "2019-01-05T09:35:44.203925Z"
    }
   },
   "outputs": [
    {
     "data": {
      "text/plain": [
       "2"
      ]
     },
     "execution_count": 49,
     "metadata": {},
     "output_type": "execute_result"
    },
    {
     "data": {
      "text/plain": [
       "1"
      ]
     },
     "execution_count": 49,
     "metadata": {},
     "output_type": "execute_result"
    },
    {
     "data": {
      "text/plain": [
       "12"
      ]
     },
     "execution_count": 49,
     "metadata": {},
     "output_type": "execute_result"
    },
    {
     "data": {
      "text/plain": [
       "10"
      ]
     },
     "execution_count": 49,
     "metadata": {},
     "output_type": "execute_result"
    }
   ],
   "source": [
    "ackerman(1, 0)\n",
    "ackerman(0, 10)\n",
    "ackerman(10, 0)\n",
    "ackerman(5, 1)"
   ]
  },
  {
   "cell_type": "markdown",
   "metadata": {},
   "source": [
    "# 应用"
   ]
  },
  {
   "cell_type": "markdown",
   "metadata": {},
   "source": [
    "## 维护无向图的连通性\n",
    "- 判断两个点是否在同一连通子集内。\n",
    "- 判断无向图中是否存在环。如果在给两个顶点添加边的时候，发现这两个顶点已经连通了，那么就存在环。"
   ]
  },
  {
   "cell_type": "markdown",
   "metadata": {},
   "source": [
    "## 最小生成树 *Kruskal*算法"
   ]
  },
  {
   "cell_type": "markdown",
   "metadata": {},
   "source": [
    "## 最近公共祖先 *LCA*"
   ]
  },
  {
   "cell_type": "markdown",
   "metadata": {},
   "source": [
    "# 例题\n",
    "1. [LeetCode 并查集](https://leetcode-cn.com/tag/union-find/)\n",
    "2. [【LeetCode】并查集 union-find（共16题）](http://www.cnblogs.com/zhangwanying/p/9964303.html)"
   ]
  },
  {
   "cell_type": "markdown",
   "metadata": {},
   "source": [
    "- **入门**\n",
    "    - [How Many Tables](http://acm.hdu.edu.cn/showproblem.php?pid=1213)\n",
    "    - [1232 畅通工程](http://acm.hdu.edu.cn/showproblem.php?pid=1232)\n",
    "    - [LeetCode 547. 朋友圈](https://leetcode-cn.com/problems/friend-circles/)\n",
    "- **中等**\n",
    "    - [LeetCode 130. 被围绕的区域](https://leetcode-cn.com/problems/surrounded-regions)\n",
    "    - [LeetCode 200. 岛屿的个数](https://leetcode-cn.com/problems/number-of-islands/)\n",
    "    - LeetCode 305. 岛屿的个数 II（未解锁）：[[leetcode] 305. Number of Islands II 解题报告](https://blog.csdn.net/qq508618087/article/details/50985158)\n",
    "    - [LeetCode 684. 冗余连接](https://leetcode-cn.com/problems/redundant-connection/)\n",
    "    - [LeetCode 685. 冗余连接 II](https://leetcode-cn.com/problems/redundant-connection-ii/submissions/)\n",
    "    - [LeetCode 721. 账户合并](https://leetcode-cn.com/problems/accounts-merge/)\n",
    "    - [LeetCode 778. 水位上升的泳池中游泳](https://leetcode-cn.com/problems/swim-in-rising-water/)\n",
    "- **困难**\n",
    "    - [803. 打砖块](https://leetcode-cn.com/problems/bricks-falling-when-hit/submissions/)"
   ]
  },
  {
   "cell_type": "code",
   "execution_count": null,
   "metadata": {},
   "outputs": [],
   "source": []
  }
 ],
 "metadata": {
  "anaconda-cloud": {},
  "hide_input": false,
  "kernelspec": {
   "display_name": "python37",
   "language": "python",
   "name": "python37"
  },
  "language_info": {
   "codemirror_mode": {
    "name": "ipython",
    "version": 3
   },
   "file_extension": ".py",
   "mimetype": "text/x-python",
   "name": "python",
   "nbconvert_exporter": "python",
   "pygments_lexer": "ipython3",
   "version": "3.7.1"
  },
  "latex_envs": {
   "LaTeX_envs_menu_present": true,
   "autoclose": false,
   "autocomplete": true,
   "bibliofile": "biblio.bib",
   "cite_by": "apalike",
   "current_citInitial": 1,
   "eqLabelWithNumbers": true,
   "eqNumInitial": 1,
   "hotkeys": {
    "equation": "Ctrl-E",
    "itemize": "Ctrl-I"
   },
   "labels_anchors": false,
   "latex_user_defs": false,
   "report_style_numbering": false,
   "user_envs_cfg": false
  },
  "toc": {
   "base_numbering": 1,
   "nav_menu": {},
   "number_sections": true,
   "sideBar": true,
   "skip_h1_title": false,
   "title_cell": "Table of Contents",
   "title_sidebar": "Contents",
   "toc_cell": false,
   "toc_position": {
    "height": "calc(100% - 180px)",
    "left": "10px",
    "top": "150px",
    "width": "286px"
   },
   "toc_section_display": true,
   "toc_window_display": true
  },
  "varInspector": {
   "cols": {
    "lenName": 16,
    "lenType": 16,
    "lenVar": 40
   },
   "kernels_config": {
    "python": {
     "delete_cmd_postfix": "",
     "delete_cmd_prefix": "del ",
     "library": "var_list.py",
     "varRefreshCmd": "print(var_dic_list())"
    },
    "r": {
     "delete_cmd_postfix": ") ",
     "delete_cmd_prefix": "rm(",
     "library": "var_list.r",
     "varRefreshCmd": "cat(var_dic_list()) "
    }
   },
   "types_to_exclude": [
    "module",
    "function",
    "builtin_function_or_method",
    "instance",
    "_Feature"
   ],
   "window_display": false
  }
 },
 "nbformat": 4,
 "nbformat_minor": 4
}
