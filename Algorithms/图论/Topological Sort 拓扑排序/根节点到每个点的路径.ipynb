{
 "cells": [
  {
   "cell_type": "code",
   "execution_count": 1,
   "metadata": {
    "ExecuteTime": {
     "end_time": "2019-01-03T02:42:08.706791Z",
     "start_time": "2019-01-03T02:42:07.833163Z"
    }
   },
   "outputs": [
    {
     "data": {
      "text/plain": [
       "'system: Microsoft Windows 10 教育版, 18363, 64 位'"
      ]
     },
     "execution_count": 1,
     "metadata": {},
     "output_type": "execute_result"
    },
    {
     "data": {
      "text/plain": [
       "'memory: 15.86G'"
      ]
     },
     "execution_count": 1,
     "metadata": {},
     "output_type": "execute_result"
    },
    {
     "data": {
      "text/plain": [
       "'cpu: 4'"
      ]
     },
     "execution_count": 1,
     "metadata": {},
     "output_type": "execute_result"
    },
    {
     "data": {
      "text/plain": [
       "'python: 3.7.1 (default, Oct 28 2018, 08:39:03) [MSC v.1912 64 bit (AMD64)]'"
      ]
     },
     "execution_count": 1,
     "metadata": {},
     "output_type": "execute_result"
    },
    {
     "data": {
      "text/plain": [
       "'2020-08-13 22:14:58'"
      ]
     },
     "execution_count": 1,
     "metadata": {},
     "output_type": "execute_result"
    }
   ],
   "source": [
    "import sys, time, wmi, psutil\n",
    "SYSTEM_INFO = wmi.WMI().Win32_OperatingSystem()[0]\n",
    "\"system: {0}, {1}, {2}\".format(SYSTEM_INFO.Caption, SYSTEM_INFO.BuildNumber, SYSTEM_INFO.OSArchitecture) \n",
    "\"memory: {}G\".format(round(psutil.virtual_memory().total / 1024**3, 2))\n",
    "\"cpu: {}\".format(psutil.cpu_count())\n",
    "\"python: {}\".format(sys.version)\n",
    "time.strftime('%Y-%m-%d %H:%M:%S', time.localtime(time.time()))"
   ]
  },
  {
   "cell_type": "markdown",
   "metadata": {},
   "source": [
    "- **@author**: run_walker\n",
    "- **@references**:\n",
    "    1. [topological sort](https://en.wikipedia.org/wiki/Topological_sorting#Application_to_shortest_path_finding)\n",
    "    2. [最长路径算法](https://www.jianshu.com/p/398e2697fd00)    "
   ]
  },
  {
   "cell_type": "markdown",
   "metadata": {},
   "source": [
    "# 最短路径算法\n",
    "对于加权有向无环图$G=(V,E)$，假设顶点集$V$的顺序已经为拓扑排序，入度为0的顶点全体记作$S$。维基百科的伪代码如下（稍作了改动）：\n",
    "- Let $d$ be an array of the same length as $V$, this will hold the shortest-path distances from $S$. Set $d[s] = 0,~\\forall s\\in S$, all other $d[u]=+\\infty$.\n",
    "- Initial $p$ to an empty dict. Each $p[u]$ will hold the predecessor of $u$ in the shortest path from $s$ to $u$.\n",
    "- Loop over the vertices $u$ as ordered in $V$, starting from $S$:\n",
    "    * For each vertex $v$ directly following $u$ (i.e., there exists an edge from $u$ to $v$):\n",
    "        - Let $w$ be the weight of the edge from $u$ to $v$.\n",
    "        - Relax the edge: if $d[v] > d[u] + w$, set\n",
    "            * $d[v] \\leftarrow d[u] + w$,\n",
    "            * $p[v] \\leftarrow u$.\n",
    "            \n",
    "时间复杂度为$O(|E|+|V|)$"
   ]
  },
  {
   "cell_type": "markdown",
   "metadata": {
    "toc-hr-collapsed": false
   },
   "source": [
    "# 最长路径算法\n",
    "对于加权有向无环图$G=(V,E)$，假设顶点集$V$的顺序已经为拓扑排序，入度为0的顶点全体记作$S$。算法伪代码如下：\n",
    "- Let $d$ be an array of the same length as $V$, this will hold the longest-path distances from $S$. Set $d[s] = 0,~\\forall s\\in S$, all other $d[u]=-\\infty$.\n",
    "- Initial $p$ to an empty dict. Each $p[u]$ will hold the predecessor of $u$ in the longest path from $s$ to $u$.\n",
    "- Loop over the vertices $u$ as ordered in $V$, starting from $S$:\n",
    "    * For each vertex $v$ directly following $u$ (i.e., there exists an edge from $u$ to $v$):\n",
    "        - Let $w$ be the weight of the edge from $u$ to $v$.\n",
    "        - Relax the edge: if $d[v] < d[u] + w$, set\n",
    "            * $d[v] \\leftarrow d[u] + w$,\n",
    "            * $p[v] \\leftarrow u$.\n",
    "            \n",
    "类似于最短路径算法，只是在初始化时将所有距离置为负无穷，之后遍历时如果判断的方向变成小于。时间复杂度同样为$O(|E|+|V|)$。"
   ]
  },
  {
   "cell_type": "markdown",
   "metadata": {},
   "source": [
    "## python实现"
   ]
  },
  {
   "cell_type": "code",
   "execution_count": 1,
   "metadata": {
    "ExecuteTime": {
     "end_time": "2018-12-21T10:56:25.502760Z",
     "start_time": "2018-12-21T10:56:25.334225Z"
    },
    "code_folding": [
     5,
     29,
     44,
     106
    ]
   },
   "outputs": [],
   "source": [
    "from collections import defaultdict\n",
    "\n",
    "\n",
    "class GraphPath:\n",
    "    \"\"\"\n",
    "    加权有向无环图的拓扑排序、最短及最长路径\n",
    "    \"\"\"\n",
    "\n",
    "    def __init__(self, edges, in_degree_0=None):\n",
    "        \"\"\"\n",
    "\n",
    "        :param edges: [(u1, v1, weight), ...]\n",
    "        :param in_degree_0: 入度为0的顶点集合\n",
    "        \"\"\"\n",
    "        self.nodes = set()  # 顶点集\n",
    "        self.node_edges = defaultdict(set)  # 顶点的出边\n",
    "        self.edge_weight = {}  # 边的权重\n",
    "        for u, v, w in edges:\n",
    "            self.nodes.update({u, v})\n",
    "            self.node_edges[u].add(v)\n",
    "            if v not in self.node_edges:\n",
    "                self.node_edges[v] = set()\n",
    "            self.edge_weight[u, v] = w\n",
    "        #\n",
    "        self.node_num = len(self.nodes)\n",
    "        self.topo_order_list = None\n",
    "        self.in_degree = None\n",
    "        self.in_degree_0 = in_degree_0\n",
    "\n",
    "    def gen_in_degree_0(self, S=None):\n",
    "        \"\"\"\n",
    "        传入或者筛选入度为0的节点\n",
    "        :param S: 如果不传入S的话根据基本信息进行筛选\n",
    "        \"\"\"\n",
    "        if self.in_degree_0 is None:\n",
    "            if S is None:\n",
    "                self.in_degree = dict.fromkeys(self.nodes, 0)\n",
    "                for u, vs in self.node_edges.items():\n",
    "                    for v in vs:\n",
    "                        self.in_degree[v] += 1\n",
    "                self.in_degree_0 = {v for v, d in self.in_degree.items() if d == 0}\n",
    "            else:\n",
    "                self.in_degree_0 = S.copy()\n",
    "\n",
    "    def topological_sort(self):\n",
    "        \"\"\"\n",
    "        这里采取之前实验中表现最快的拓扑排序算法：不通过networkx模块的、基于dfs的、递归的实现\n",
    "        :return:\n",
    "        \"\"\"\n",
    "        if self.topo_order_list is None:\n",
    "            #\n",
    "            tem = set()\n",
    "            per = set()\n",
    "            L = []\n",
    "            #\n",
    "            def _dfs(u):\n",
    "                if u in per: return  # 是否位于per的判断要先于tem\n",
    "                if u in tem:\n",
    "                    raise Exception(f\"exists cycle, contains: {tem - per}\")\n",
    "                tem.add(u)\n",
    "                for v in self.node_edges[u]:\n",
    "                    _dfs(v)\n",
    "                per.add(u)\n",
    "                L.append(u)\n",
    "            #\n",
    "            for node in self.nodes:\n",
    "                _dfs(node)\n",
    "            self.topo_order_list = L[::-1]\n",
    "\n",
    "    def cal_each_node_shortest_path_length(self, cal_path=False):\n",
    "        \"\"\"\n",
    "        为每个节点计算最短路径的长度（及具体路径）\n",
    "        :param cal_path: 是否计算具体路径，默认为False\n",
    "        :return: dict\n",
    "        \"\"\"\n",
    "        self.topological_sort()\n",
    "        self.gen_in_degree_0()\n",
    "        #\n",
    "        distTo = {node: float(\"inf\") for node in self.nodes}\n",
    "        for s in self.in_degree_0:\n",
    "            distTo[s] = 0\n",
    "        edgeTo = {}\n",
    "        # 松弛\n",
    "        for v in self.topo_order_list:\n",
    "            for w in self.node_edges[v]:\n",
    "                temp = distTo[v] + self.edge_weight[v, w]\n",
    "                if distTo[w] > temp:\n",
    "                    distTo[w] = temp\n",
    "                    edgeTo[w] = v\n",
    "        # 求最短路径\n",
    "        if cal_path:\n",
    "            pathTo = {}\n",
    "            for node in self.topo_order_list:\n",
    "                path = [node]\n",
    "                if node in edgeTo:\n",
    "                    path = pathTo[edgeTo[node]] + path\n",
    "                pathTo[node] = path\n",
    "            return {'pathTo': pathTo, 'distTo': distTo}\n",
    "\n",
    "        return {'distTo': distTo}\n",
    "\n",
    "    def cal_each_node_longest_path_length(self, cal_path=False):\n",
    "        \"\"\"\n",
    "        为每个节点计算最长路径的长度（及具体路径）\n",
    "        （也可以为距离取相反数调用求最短路径的函数）\n",
    "        :param cal_path: 是否计算具体路径，默认为False，不进行计算\n",
    "        :return: dict\n",
    "        \"\"\"\n",
    "        self.topological_sort()\n",
    "        self.gen_in_degree_0()\n",
    "        #\n",
    "        distTo = {node: -float(\"inf\") for node in self.nodes}\n",
    "        for s in self.in_degree_0:\n",
    "            distTo[s] = 0\n",
    "        edgeTo = {}\n",
    "        # 逆松弛\n",
    "        for v in self.topo_order_list:\n",
    "            for w in self.node_edges[v]:\n",
    "                temp = distTo[v] + self.edge_weight[v, w]\n",
    "                if distTo[w] < temp:\n",
    "                    distTo[w] = temp\n",
    "                    edgeTo[w] = v\n",
    "        # 求最长路径\n",
    "        if cal_path:\n",
    "            pathTo = {}\n",
    "            for node in self.topo_order_list:\n",
    "                path = [node]\n",
    "                if node in edgeTo:\n",
    "                    path = pathTo[edgeTo[node]] + path\n",
    "                pathTo[node] = path\n",
    "            return {'pathTo': pathTo, 'distTo': distTo}\n",
    "\n",
    "        return {'distTo': distTo}"
   ]
  },
  {
   "cell_type": "code",
   "execution_count": 2,
   "metadata": {
    "ExecuteTime": {
     "end_time": "2018-12-21T10:56:26.113126Z",
     "start_time": "2018-12-21T10:56:26.108128Z"
    }
   },
   "outputs": [],
   "source": [
    "edges = [('a', 'b', 1), ('a', 'c', 1), ('a', 'd', 1), ('b', 'c', 1),\n",
    "         ('c', 'e', 1), ('d', 'f', 1), ('d', 'b', 1), ('f', 'c', 1)]"
   ]
  },
  {
   "cell_type": "code",
   "execution_count": 5,
   "metadata": {
    "ExecuteTime": {
     "end_time": "2018-12-21T10:56:26.601854Z",
     "start_time": "2018-12-21T10:56:26.597818Z"
    }
   },
   "outputs": [
    {
     "data": {
      "image/png": "[encoded data removed]",
      "text/plain": [
       "<Figure size 432x288 with 1 Axes>"
      ]
     },
     "metadata": {},
     "output_type": "display_data"
    }
   ],
   "source": [
    "import networkx as nx\n",
    "import matplotlib.pyplot as plt\n",
    "import warnings\n",
    "warnings.filterwarnings(\"ignore\")\n",
    "\n",
    "g = nx.DiGraph() \n",
    "g.add_weighted_edges_from(edges)\n",
    "layout = nx.layout.spring_layout(g)\n",
    "nx.draw(g, layout, with_labels=True, node_color=\"red\")\n",
    "# plt.show();"
   ]
  },
  {
   "cell_type": "code",
   "execution_count": 6,
   "metadata": {
    "ExecuteTime": {
     "end_time": "2018-12-21T10:56:36.456445Z",
     "start_time": "2018-12-21T10:56:36.450461Z"
    }
   },
   "outputs": [
    {
     "data": {
      "text/plain": [
       "{'pathTo': {'a': ['a'],\n",
       "  'd': ['a', 'd'],\n",
       "  'b': ['a', 'b'],\n",
       "  'f': ['a', 'd', 'f'],\n",
       "  'c': ['a', 'c'],\n",
       "  'e': ['a', 'c', 'e']},\n",
       " 'distTo': {'a': 0, 'd': 1, 'f': 2, 'b': 1, 'e': 2, 'c': 1}}"
      ]
     },
     "execution_count": 6,
     "metadata": {},
     "output_type": "execute_result"
    }
   ],
   "source": [
    "gp = GraphPath(edges, {'a'})\n",
    "res = gp.cal_each_node_shortest_path_length(True)\n",
    "\n",
    "res"
   ]
  },
  {
   "cell_type": "code",
   "execution_count": 7,
   "metadata": {},
   "outputs": [
    {
     "data": {
      "text/plain": [
       "NodeView(('a', 'b', 'c', 'd', 'e', 'f'))"
      ]
     },
     "execution_count": 7,
     "metadata": {},
     "output_type": "execute_result"
    }
   ],
   "source": [
    "g.nodes"
   ]
  },
  {
   "cell_type": "code",
   "execution_count": 8,
   "metadata": {},
   "outputs": [
    {
     "data": {
      "image/png": "[encoded data removed]",
      "text/plain": [
       "<Figure size 432x288 with 1 Axes>"
      ]
     },
     "metadata": {},
     "output_type": "display_data"
    }
   ],
   "source": [
    "nx.draw(g, layout, with_labels=True, \n",
    "        node_color=['green' if x in res['pathTo']['f'] else 'red' for x in g.nodes])"
   ]
  },
  {
   "cell_type": "code",
   "execution_count": 9,
   "metadata": {
    "ExecuteTime": {
     "end_time": "2018-12-21T10:56:39.950132Z",
     "start_time": "2018-12-21T10:56:39.945141Z"
    }
   },
   "outputs": [
    {
     "data": {
      "text/plain": [
       "['a', 'd', 'b', 'f', 'c', 'e']"
      ]
     },
     "execution_count": 9,
     "metadata": {},
     "output_type": "execute_result"
    }
   ],
   "source": [
    "gp.topo_order_list"
   ]
  },
  {
   "cell_type": "code",
   "execution_count": 10,
   "metadata": {
    "ExecuteTime": {
     "end_time": "2018-12-21T10:56:41.861985Z",
     "start_time": "2018-12-21T10:56:41.857031Z"
    }
   },
   "outputs": [
    {
     "data": {
      "text/plain": [
       "{'distTo': {'a': 0, 'd': 1, 'f': 2, 'b': 2, 'e': 4, 'c': 3}}"
      ]
     },
     "execution_count": 10,
     "metadata": {},
     "output_type": "execute_result"
    }
   ],
   "source": [
    "gp.cal_each_node_longest_path_length()"
   ]
  },
  {
   "cell_type": "markdown",
   "metadata": {},
   "source": [
    "# 实际应用"
   ]
  },
  {
   "cell_type": "code",
   "execution_count": 11,
   "metadata": {},
   "outputs": [],
   "source": [
    "import pandas as pd\n",
    "\n",
    "df = pd.DataFrame({'a': [1, 2, 3], 'b': [3, 4, 5]})"
   ]
  },
  {
   "cell_type": "code",
   "execution_count": 12,
   "metadata": {},
   "outputs": [
    {
     "data": {
      "image/png": "[encoded data removed]",
      "text/plain": [
       "<Figure size 432x288 with 1 Axes>"
      ]
     },
     "metadata": {
      "needs_background": "light"
     },
     "output_type": "display_data"
    }
   ],
   "source": [
    "import matplotlib.pyplot as plt\n",
    "fig = plt.figure()\n",
    "plt.plot(range(5), range(5));"
   ]
  },
  {
   "cell_type": "markdown",
   "metadata": {},
   "source": [
    "## 优先级限制下的并行调度问题\n",
    "1. 对于有$V$个任务的优先级调度问题，创建$2V+2$个顶点（1个起点$s$，1个终点$t$，每个任务2个顶点$v$和$v'$）\n",
    "2. 每个任务添加一条从$v\\rightarrow v'$的边，权重为任务所需时间；\n",
    "3. 对于每条优先级限制$v\\rightarrow w$，添加一条从$v$的结束顶点$v'$到$w$的起始顶点的权重为$0$的边，即$v'\\rightarrow w$；\n",
    "4. 每个任务$v$还要添加：$s\\rightarrow v$的权重为$0$的边、$v'\\rightarrow t$的权重为$0$的边。\n",
    "\n",
    "经过上述处理后，每个任务$v$的开始时间就是从起点$s$到$v$的起始顶点的最长路径。"
   ]
  },
  {
   "cell_type": "markdown",
   "metadata": {},
   "source": [
    "## 生产排程中的惩罚系数设置\n",
    "**背景：**\n",
    "* 在实际生产中，一个父件通常由数种不同的子件以各自的配比制成（例如：一台台式机通常由一个主机、一个显示屏、一个鼠标、一个键盘、两个音响组装构成），子件通常既可以用以自身的交货（例如有订单单独购买鼠标），也可以用来生产父件。\n",
    "* 在制造行业中，经常需要对订单根据产品自身类型和需求类型及需求时间等特征进行优先级管理。例如：实际订单优先级高于预测订单；时间较近的订单优先级高于未来订单；对任一产品自身订单优先于自身作为零件的父项订单；原材料的订单低于其他所有组装件的订单；料本高的产品订单优先级高于料本低的产品订单。\n",
    "* 通常通过调节惩罚系数来满足优先级的要求。比如说：我们需要所有具有父项-子项关系的item，子项的惩罚项都高于父项。\n",
    "\n",
    "**解决方案：**\n",
    "1. 首先，将所有父件-子件的关系建立成图（易知这一定是一个有向无环图），边的权值设置为正数，然后建立一个虚拟的根节点，令其指向所有的顶层父件（也即该件不存在父件），边的权值设置为顶层父件的惩罚系数。\n",
    "2. 拓扑排序，然后计算根节点到所有顶点的最长路径，将次最长路径作为惩罚系数。"
   ]
  },
  {
   "cell_type": "markdown",
   "metadata": {},
   "source": [
    "## 生成排程中的最晚开工日期（LPST）确定\n",
    "需求的根本来源通常为订单，当现有库存不足以提供时，需要提前开工进行生产来满足交货日的需求。因此**需求**有两种：\n",
    "1. Order，订单。\n",
    "2. Csmp，生产父件对子件的消耗。\n",
    "\n",
    "常见的**供应**通常有5种：\n",
    "1. INV。排程开始时的初始库存。\n",
    "2. WIP/PO。在排程期间新的到货。\n",
    "3. MFG。生产出来的父件可以用于满足父件的需求。\n",
    "4. Transit，转运。`plant1 -> plant2`，将item从工厂1转运到工厂2，满足发生在工厂2的需求。\n",
    "5. Transfer，转移。`item1 -> item2`，多出现在不同品牌间，如一台电脑需要金士顿的内存条，可以用三星的内存条替代其进行生产。\n",
    "\n",
    "其中前两种的supply是无法再追查下去的，而后两种supply可以继续向下搜寻至前三种。（例如，假设有一笔从plant1到plant2的Transit，那么在plant1内作为Transit_out，这是一条demand，由plant1内的INV进行提供；而在plant2内作为Transit_in，这又是一条supply，供应了plant2内的Order交付）。\n",
    "\n",
    "假定我们已经确定了所有的supply-demand关系，易知这是一个有向无环图，我们可以由Order的交货时间来倒推MFG的最晚开工日期。类似地，先建立图结构，不同的是这张图并没有边的权值这一概念，而是每个节点有自己的属性（INV，WIP/PO，MFG，Transit，Transfer，Order）。所有的顶层父项也即订单需求，它们名义上的LPST也即它们的交货时间，再进行拓扑排序后依次向下进行传播，由父项的LPST和子项的属性，可以推出由于这一条边的制约子项的LPST，我们要取的就是这个节点最早的LPST。"
   ]
  },
  {
   "cell_type": "code",
   "execution_count": null,
   "metadata": {},
   "outputs": [],
   "source": []
  }
 ],
 "metadata": {
  "anaconda-cloud": {},
  "hide_input": false,
  "kernelspec": {
   "display_name": "python37",
   "language": "python",
   "name": "python37"
  },
  "language_info": {
   "codemirror_mode": {
    "name": "ipython",
    "version": 3
   },
   "file_extension": ".py",
   "mimetype": "text/x-python",
   "name": "python",
   "nbconvert_exporter": "python",
   "pygments_lexer": "ipython3",
   "version": "3.7.1"
  },
  "latex_envs": {
   "LaTeX_envs_menu_present": true,
   "autoclose": false,
   "autocomplete": true,
   "bibliofile": "biblio.bib",
   "cite_by": "apalike",
   "current_citInitial": 1,
   "eqLabelWithNumbers": true,
   "eqNumInitial": 1,
   "hotkeys": {
    "equation": "Ctrl-E",
    "itemize": "Ctrl-I"
   },
   "labels_anchors": false,
   "latex_user_defs": false,
   "report_style_numbering": false,
   "user_envs_cfg": false
  },
  "toc": {
   "base_numbering": 1,
   "nav_menu": {},
   "number_sections": true,
   "sideBar": true,
   "skip_h1_title": false,
   "title_cell": "Table of Contents",
   "title_sidebar": "Contents",
   "toc_cell": false,
   "toc_position": {
    "height": "calc(100% - 180px)",
    "left": "10px",
    "top": "150px",
    "width": "331.8px"
   },
   "toc_section_display": true,
   "toc_window_display": true
  },
  "toc-autonumbering": true,
  "toc-showtags": false,
  "varInspector": {
   "cols": {
    "lenName": 16,
    "lenType": 16,
    "lenVar": 40
   },
   "kernels_config": {
    "python": {
     "delete_cmd_postfix": "",
     "delete_cmd_prefix": "del ",
     "library": "var_list.py",
     "varRefreshCmd": "print(var_dic_list())"
    },
    "r": {
     "delete_cmd_postfix": ") ",
     "delete_cmd_prefix": "rm(",
     "library": "var_list.r",
     "varRefreshCmd": "cat(var_dic_list()) "
    }
   },
   "types_to_exclude": [
    "module",
    "function",
    "builtin_function_or_method",
    "instance",
    "_Feature"
   ],
   "window_display": false
  }
 },
 "nbformat": 4,
 "nbformat_minor": 4
}
