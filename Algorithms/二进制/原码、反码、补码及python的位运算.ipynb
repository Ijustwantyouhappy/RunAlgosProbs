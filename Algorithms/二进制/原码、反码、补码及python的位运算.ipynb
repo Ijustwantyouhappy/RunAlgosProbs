{
 "cells": [
  {
   "cell_type": "code",
   "execution_count": 1,
   "metadata": {
    "ExecuteTime": {
     "end_time": "2019-01-01T15:02:52.188102Z",
     "start_time": "2019-01-01T15:02:51.610617Z"
    }
   },
   "outputs": [
    {
     "data": {
      "text/plain": [
       "'system: Microsoft Windows 10 企业版, 17134, 64 位'"
      ]
     },
     "execution_count": 1,
     "metadata": {},
     "output_type": "execute_result"
    },
    {
     "data": {
      "text/plain": [
       "'memory: 15.86G'"
      ]
     },
     "execution_count": 1,
     "metadata": {},
     "output_type": "execute_result"
    },
    {
     "data": {
      "text/plain": [
       "'cpu: 4'"
      ]
     },
     "execution_count": 1,
     "metadata": {},
     "output_type": "execute_result"
    },
    {
     "data": {
      "text/plain": [
       "'python: 3.6.1 |Anaconda custom (64-bit)| (default, May 11 2017, 13:25:24) [MSC v.1900 64 bit (AMD64)]'"
      ]
     },
     "execution_count": 1,
     "metadata": {},
     "output_type": "execute_result"
    },
    {
     "data": {
      "text/plain": [
       "'2019-01-01 23:02:52'"
      ]
     },
     "execution_count": 1,
     "metadata": {},
     "output_type": "execute_result"
    }
   ],
   "source": [
    "import sys, time, wmi, psutil\n",
    "SYSTEM_INFO = wmi.WMI().Win32_OperatingSystem()[0]\n",
    "\"system: {0}, {1}, {2}\".format(SYSTEM_INFO.Caption, SYSTEM_INFO.BuildNumber, SYSTEM_INFO.OSArchitecture) \n",
    "\"memory: {}G\".format(round(psutil.virtual_memory().total / 1024**3, 2))\n",
    "\"cpu: {}\".format(psutil.cpu_count())\n",
    "\"python: {}\".format(sys.version)\n",
    "time.strftime('%Y-%m-%d %H:%M:%S', time.localtime(time.time()))"
   ]
  },
  {
   "cell_type": "markdown",
   "metadata": {},
   "source": [
    "- **@author**: run_walker\n",
    "- **@references**:\n",
    "    1. [原码, 反码, 补码 详解](https://www.cnblogs.com/zhangziqiu/archive/2011/03/30/ComputerCode.html)\n",
    "    2. [原码 反码 补码 及 python的位运算](https://blog.csdn.net/u013061183/article/details/78525807)\n",
    "    3. [Python小技巧：负数的补码表示](https://www.jianshu.com/p/96ea0b077051)\n",
    "    4. [你不知道的按位运算](http://python.jobbole.com/85168/)\n",
    "    5. [为什么8位有符号类型的数值范围是-128~127](https://www.jianshu.com/p/0ad27ad30a43)\n",
    "    6. [位操作基础篇之位操作全面总结](https://blog.csdn.net/morewindows/article/details/7354571)\n",
    "    7. [Python 运算符](http://www.runoob.com/python/python-operators.html)"
   ]
  },
  {
   "cell_type": "markdown",
   "metadata": {},
   "source": [
    "注意：\n",
    "1. 尽管$-2^{31}$在原码和反码中无法表示，但是补码却可以表示为$\\overline{10\\cdots0}$，由$-2^{31}+1$的补码$\\overline{10\\cdots01}$减去$1$得到。\n",
    "2. 按照正整数和负整数两种规则，$0$有两种原码和反码，但是补码只有一种，为$\\overline{0\\cdots0}$\n",
    "\n",
    "因为计算机中数值以补码形式储存和运算，所以32位有符号整数的范围为$[-2^{31},~2^{31}-1]$。"
   ]
  },
  {
   "cell_type": "markdown",
   "metadata": {},
   "source": [
    "# 补码"
   ]
  },
  {
   "cell_type": "markdown",
   "metadata": {},
   "source": [
    "## 定义\n",
    "1. 正整数的符号位为0，反码和补码仍为原码\n",
    "2. 负数的符号位为1，反码为原码除符号位外取反（1取0，0取1），补码为其反码加1。也即对于$k>0$，有$(-k)_{\\mbox{补}}=\\sim k_{\\mbox{原}}+1$。"
   ]
  },
  {
   "cell_type": "markdown",
   "metadata": {},
   "source": [
    "## 性质\n",
    "1. 奇数的补码最后一位为1，偶数的补码最后一位为0。\n",
    "2. 对于整数$k$，记其补码为$\\overline{x_0x_1\\cdots x_{31}}$，则有$k=\\overline{0x_1\\cdots x_{31}}-x_0*2^{31}$\n",
    "3. 求补码的运算迭代两次后，得到的结果为原码。"
   ]
  },
  {
   "cell_type": "markdown",
   "metadata": {},
   "source": [
    "Proof 2:\n",
    "1. 若$k$为非负整数，该结论是显然的。\n",
    "2. 当$k$为负整数时，$x_1$到$x_{31}$中至少存在一个1，记其反码为$\\overline{1y_1\\cdots y_{31}}$，则有\n",
    "$$\\overline{0x_1\\cdots x_{31}}-1=\\overline{0y_1\\cdots y_{31}}$$\n",
    "记其原码为$\\overline{1z_1\\cdots z_{31}}$，则有\n",
    "$$\\overline{0y_1\\cdots y_{31}}+\\overline{0z_1\\cdots z_{31}}=\\overline{1\\cdots1}=2^{31}-1$$\n",
    "则有\n",
    "$$k=-\\overline{0z_1\\cdots z_{31}}=\\overline{0x_1\\cdots x_{31}}-2^{31}$$"
   ]
  },
  {
   "cell_type": "markdown",
   "metadata": {},
   "source": [
    "Proof 3:\n",
    "\n",
    "1. 对于非负整数，显然。\n",
    "2. 对于负整数$-k$，记其原码为$\\overline{1x_1\\cdots x_{31}}$，补码为$\\overline{1y_1\\cdots y_{31}}$，设$a_i=1-x_i,~b_i=1-y_i,~\\forall 1\\leq i\\leq 31$。则由补码的定义2可知\n",
    "$$\\overline{1y_1\\cdots y_{31}}=\\sim \\overline{0x_1\\cdots x_{31}}+1=\\overline{1a_1\\cdots a_{31}}+1$$\n",
    "则有\n",
    "$$\\overline{0y_1\\cdots y_{31}}=\\overline{0a_1\\cdots 0_{31}}+1$$\n",
    "两边乘以$-1$后同时加上$\\overline{1\\cdots1}$可得\n",
    "$$\\overline{1b_1\\cdots b_{31}}=\\overline{1x_1\\cdots x_{31}}-1$$\n",
    "对其补码再做补码运算可以得到$\\sim \\overline{0y_1\\cdots y_{31}}+1$，同样地有，\n",
    "$$\n",
    "\\sim \\overline{0y_1\\cdots y_{31}}+1=\\overline{1b_1\\cdots b_{31}} + 1=\\overline{1x_1\\cdots x_{31}}\n",
    "$$\n"
   ]
  },
  {
   "cell_type": "markdown",
   "metadata": {},
   "source": [
    "## 转换\n",
    "对于负整数$-k$，记其原码为$\\overline{1x_1\\cdots x_{31}}$，补码为$\\overline{1y_1\\cdots y_{31}}$，总结上述的定义和性质，可以得到他们它们间的转换如下：\n",
    "\n",
    "1. 数值和原码之间。将正整数$k$的二进制表示的符号位置为1则为负整数$-k$的原码，$k=\\overline{0x_1\\cdots x_{31}}$。\n",
    "2. 原码和补码之间。由定义2和性质3可知：补码$\\overline{1y_1\\cdots y_{31}}=\\sim\\overline{0x_1\\cdots x_{31}}+1$，原码$\\overline{1x_1\\cdots x_{31}}=\\sim\\overline{0y_1\\cdots y_{31}}+1$。\n",
    "3. 补码和数值之间。由性质2可知：$-k=\\overline{0y_1\\cdots y_{31}}-2^{31}$。"
   ]
  },
  {
   "cell_type": "code",
   "execution_count": 32,
   "metadata": {
    "ExecuteTime": {
     "end_time": "2019-01-07T13:08:02.835108Z",
     "start_time": "2019-01-07T13:08:02.829125Z"
    }
   },
   "outputs": [],
   "source": [
    "def intToBin32(num):\n",
    "    \"\"\"\n",
    "    10进制有符号整数 -> 32位补码\n",
    "    \"\"\"\n",
    "    return (bin(0xFFFFFFFF & num)[2:]).zfill(32)\n",
    "\n",
    "\n",
    "def bin32ToInt(s):\n",
    "    \"\"\"\n",
    "    32位补码 -> 10进制有符号整数\n",
    "    \"\"\"\n",
    "    return int(s[1:], 2) - int(s[0]) * (1 << 31)"
   ]
  },
  {
   "cell_type": "code",
   "execution_count": 31,
   "metadata": {
    "ExecuteTime": {
     "end_time": "2018-12-26T09:54:09.550158Z",
     "start_time": "2018-12-26T09:54:09.536163Z"
    },
    "scrolled": true
   },
   "outputs": [
    {
     "data": {
      "text/plain": [
       "'00000000000000000000000000000000'"
      ]
     },
     "execution_count": 31,
     "metadata": {},
     "output_type": "execute_result"
    },
    {
     "data": {
      "text/plain": [
       "'00000000000000000000000000000001'"
      ]
     },
     "execution_count": 31,
     "metadata": {},
     "output_type": "execute_result"
    },
    {
     "data": {
      "text/plain": [
       "'11111111111111111111111111111111'"
      ]
     },
     "execution_count": 31,
     "metadata": {},
     "output_type": "execute_result"
    },
    {
     "data": {
      "text/plain": [
       "'00000000000000000000000001111111'"
      ]
     },
     "execution_count": 31,
     "metadata": {},
     "output_type": "execute_result"
    },
    {
     "data": {
      "text/plain": [
       "'11111111111111111111111110000001'"
      ]
     },
     "execution_count": 31,
     "metadata": {},
     "output_type": "execute_result"
    }
   ],
   "source": [
    "intToBin32(0)\n",
    "intToBin32(1)\n",
    "intToBin32(-1)\n",
    "intToBin32(127)\n",
    "intToBin32(-127)"
   ]
  },
  {
   "cell_type": "code",
   "execution_count": 39,
   "metadata": {
    "ExecuteTime": {
     "end_time": "2018-12-27T08:31:41.122853Z",
     "start_time": "2018-12-27T08:31:41.107895Z"
    }
   },
   "outputs": [
    {
     "data": {
      "text/plain": [
       "0"
      ]
     },
     "execution_count": 39,
     "metadata": {},
     "output_type": "execute_result"
    },
    {
     "data": {
      "text/plain": [
       "1"
      ]
     },
     "execution_count": 39,
     "metadata": {},
     "output_type": "execute_result"
    },
    {
     "data": {
      "text/plain": [
       "-1"
      ]
     },
     "execution_count": 39,
     "metadata": {},
     "output_type": "execute_result"
    },
    {
     "data": {
      "text/plain": [
       "127"
      ]
     },
     "execution_count": 39,
     "metadata": {},
     "output_type": "execute_result"
    },
    {
     "data": {
      "text/plain": [
       "-127"
      ]
     },
     "execution_count": 39,
     "metadata": {},
     "output_type": "execute_result"
    }
   ],
   "source": [
    "bin32ToInt(intToBin32(0))\n",
    "bin32ToInt(intToBin32(1))\n",
    "bin32ToInt(intToBin32(-1))\n",
    "bin32ToInt(intToBin32(127))\n",
    "bin32ToInt(intToBin32(-127))"
   ]
  },
  {
   "cell_type": "markdown",
   "metadata": {},
   "source": [
    "## 陷阱\n",
    "python中int类型通常占32个二进制位，但事实上是不限长度的（即不存在高位溢出）。将负数的32位补码在python中用int转回10进制得到的不是原负数，而是真值（正常转换的正数）。 "
   ]
  },
  {
   "cell_type": "code",
   "execution_count": 41,
   "metadata": {
    "ExecuteTime": {
     "end_time": "2018-12-27T08:52:52.931539Z",
     "start_time": "2018-12-27T08:52:52.923563Z"
    }
   },
   "outputs": [
    {
     "data": {
      "text/plain": [
       "'11111111111111111111111111111111'"
      ]
     },
     "execution_count": 41,
     "metadata": {},
     "output_type": "execute_result"
    },
    {
     "data": {
      "text/plain": [
       "4294967295"
      ]
     },
     "execution_count": 41,
     "metadata": {},
     "output_type": "execute_result"
    }
   ],
   "source": [
    "intToBin32(-1)\n",
    "int(intToBin32(-1), 2)"
   ]
  },
  {
   "cell_type": "markdown",
   "metadata": {},
   "source": [
    "# 位运算符\n",
    "\n",
    "注意：\n",
    "1. 位运算是对对象（只能是整型）的补码按位进行操作，得到的仍是补码，转换回原码后才能得知最终结果。\n",
    "2. 除$\\sim{}$外，其他位运算符优先级均低于加减法，所以要注意加括号。"
   ]
  },
  {
   "cell_type": "markdown",
   "metadata": {},
   "source": [
    "## 运算符优先级\n",
    "|运算符|描述|\n",
    "|:--|:--|\n",
    "|**|指数 (最高优先级)|\n",
    "|~ + -|按位翻转，正，负|\n",
    "|* / % //|乘，除，取模和整除|\n",
    "|+ -|加法减法|\n",
    "|>> <<|右移，左移|\n",
    "|&|按位与|\n",
    "|$|$ ^|按位或，异或|\n",
    "|<=  <  > >=|比较运算符|\n",
    "|<> == !=|等于运算符|\n",
    "|=, %=, /=, //=, -=, +=, *= ,**=|赋值运算符|\n",
    "|is, is not|身份运算符|\n",
    "|in, not in|成员运算符|\n",
    "|not, or, and|逻辑运算符|"
   ]
  },
  {
   "cell_type": "markdown",
   "metadata": {},
   "source": [
    "## $\\&$ 与"
   ]
  },
  {
   "cell_type": "markdown",
   "metadata": {},
   "source": [
    "### 性质\n",
    "1. $x~\\&~ x=x,~x~\\&~0=x~\\&~(\\sim x)=0,~-1~\\&~x=x$\n",
    "2. 对于正整数$k$，$k$为2的幂次方，当且仅当$k~\\&~(k-1)=0$\n",
    "3. $1~\\&~ 2k=0,~1~\\&~(2k+1)=1$，特别地，若$x\\in\\{0,~1\\}$，则有$1~\\&~x=x$\n",
    "4. $x~\\&~(2^k-1)=x~\\%~2^k$，$k$取1的时候也即性质3"
   ]
  },
  {
   "cell_type": "markdown",
   "metadata": {},
   "source": [
    "Proof 1:\n",
    "\n",
    "不管是多少位，$-1$的每个数位都是1。"
   ]
  },
  {
   "cell_type": "markdown",
   "metadata": {},
   "source": [
    "Proof 4:\n",
    "\n",
    "记$x$的补码为$\\overline{x_{32}\\cdots x_{k+1}x_k\\cdots x_1}$，则有\n",
    "$$x~\\&~(2^k-1)=\\overline{0\\cdots0x_k\\cdots x_1}$$\n",
    "由补码的性质2可知\n",
    "$$x~\\%~2^k=(\\overline{0x_{31}\\cdots x_1}-x_{32}*2^{31})~\\%~2^k=\\overline{0x_{31}\\cdots x_1}~\\%~2^k=\\overline{0\\cdots0 x_k\\cdots x_1}$$"
   ]
  },
  {
   "cell_type": "markdown",
   "metadata": {},
   "source": [
    "### 应用"
   ]
  },
  {
   "cell_type": "markdown",
   "metadata": {},
   "source": [
    "#### 判断奇偶\n",
    "根据性质3"
   ]
  },
  {
   "cell_type": "code",
   "execution_count": 4,
   "metadata": {
    "ExecuteTime": {
     "end_time": "2019-01-07T05:51:26.076023Z",
     "start_time": "2019-01-07T05:51:26.072035Z"
    }
   },
   "outputs": [],
   "source": [
    "def is_odd(num):\n",
    "    return bool(num & 1)"
   ]
  },
  {
   "cell_type": "code",
   "execution_count": 5,
   "metadata": {
    "ExecuteTime": {
     "end_time": "2019-01-07T05:51:42.865175Z",
     "start_time": "2019-01-07T05:51:42.854203Z"
    }
   },
   "outputs": [
    {
     "data": {
      "text/plain": [
       "True"
      ]
     },
     "execution_count": 5,
     "metadata": {},
     "output_type": "execute_result"
    },
    {
     "data": {
      "text/plain": [
       "False"
      ]
     },
     "execution_count": 5,
     "metadata": {},
     "output_type": "execute_result"
    },
    {
     "data": {
      "text/plain": [
       "False"
      ]
     },
     "execution_count": 5,
     "metadata": {},
     "output_type": "execute_result"
    },
    {
     "data": {
      "text/plain": [
       "False"
      ]
     },
     "execution_count": 5,
     "metadata": {},
     "output_type": "execute_result"
    },
    {
     "data": {
      "text/plain": [
       "True"
      ]
     },
     "execution_count": 5,
     "metadata": {},
     "output_type": "execute_result"
    }
   ],
   "source": [
    "is_odd(-5)\n",
    "is_odd(-4)\n",
    "is_odd(0)\n",
    "is_odd(4)\n",
    "is_odd(5)"
   ]
  },
  {
   "cell_type": "markdown",
   "metadata": {},
   "source": [
    "#### 模$2^k$求余\n",
    "根据性质4"
   ]
  },
  {
   "cell_type": "code",
   "execution_count": 6,
   "metadata": {
    "ExecuteTime": {
     "end_time": "2019-01-07T12:40:12.630697Z",
     "start_time": "2019-01-07T12:40:12.627698Z"
    }
   },
   "outputs": [],
   "source": [
    "def mod_2_pow_k(num, k):\n",
    "    return num & ((1 << k) - 1) "
   ]
  },
  {
   "cell_type": "code",
   "execution_count": 7,
   "metadata": {
    "ExecuteTime": {
     "end_time": "2019-01-07T12:40:13.437533Z",
     "start_time": "2019-01-07T12:40:13.431549Z"
    }
   },
   "outputs": [],
   "source": [
    "for k in range(5):\n",
    "    for num in range(-100, 100):\n",
    "        if num % (1 << k) != mod_2_pow_k(num, k):\n",
    "            print(num, k)"
   ]
  },
  {
   "cell_type": "markdown",
   "metadata": {},
   "source": [
    "## $|$ 或"
   ]
  },
  {
   "cell_type": "markdown",
   "metadata": {},
   "source": [
    "### 性质\n",
    "1. $x~|~x=x~|~0=x,~x~|~(\\sim x)=-1,~x~|~-1=-1$"
   ]
  },
  {
   "cell_type": "code",
   "execution_count": 3,
   "metadata": {
    "ExecuteTime": {
     "end_time": "2019-01-20T15:54:18.501151Z",
     "start_time": "2019-01-20T15:54:18.450259Z"
    }
   },
   "outputs": [],
   "source": [
    "for i in range(-100, 100):\n",
    "    if i | (~i) != -1:\n",
    "        print(i)\n",
    "    if i & (~i) != 0:\n",
    "        print(i)\n",
    "    if i | -1 != -1:\n",
    "        print(i)"
   ]
  },
  {
   "cell_type": "markdown",
   "metadata": {},
   "source": [
    "## $\\hat{}$ 异或\n",
    "当bool类型数据和整数进行异或运算时，True视为1，False视为0。"
   ]
  },
  {
   "cell_type": "code",
   "execution_count": 30,
   "metadata": {
    "ExecuteTime": {
     "end_time": "2018-12-27T07:12:15.094686Z",
     "start_time": "2018-12-27T07:12:15.082719Z"
    }
   },
   "outputs": [
    {
     "data": {
      "text/plain": [
       "-10"
      ]
     },
     "execution_count": 30,
     "metadata": {},
     "output_type": "execute_result"
    },
    {
     "data": {
      "text/plain": [
       "8"
      ]
     },
     "execution_count": 30,
     "metadata": {},
     "output_type": "execute_result"
    },
    {
     "data": {
      "text/plain": [
       "-7"
      ]
     },
     "execution_count": 30,
     "metadata": {},
     "output_type": "execute_result"
    },
    {
     "data": {
      "text/plain": [
       "9"
      ]
     },
     "execution_count": 30,
     "metadata": {},
     "output_type": "execute_result"
    }
   ],
   "source": [
    "1 ^ (-9)\n",
    "1 ^ 9\n",
    "1 ^ -8\n",
    "1 ^ 8"
   ]
  },
  {
   "cell_type": "markdown",
   "metadata": {},
   "source": [
    "### 性质\n",
    "1. $x~\\hat{}~0=x,~x~\\hat{}~x=0$。特别地，若$x\\in\\{0,~1\\}$，则有$1~\\hat{}~x=1-x$。\n",
    "2. 交换律：$x~\\hat{}~y=y~\\hat{}~x$\n",
    "3. 结合律：$(x~\\hat{}~y)~\\hat{}~z=x~\\hat{}~(y~\\hat{}~z)$\n",
    "4. 若有$a~\\hat{}~b=c$，则有$a~\\hat{}~c=b,~b~\\hat{}~c=a$\n",
    "5. $1~\\hat{}~(2k+1)=2k,~1~\\hat{}~2k=2k+1,~2k~\\hat{}~(2k+1)=1$。\n",
    "6. $-1~\\hat{}~k=\\sim k=-(k+1)$\n",
    "7. 对于非负整数$x$和$y$，若$\\exists n,~st.~x+y=2^n-1=\\overline{1\\cdots1}$，其中共$n$位1，则$x~\\hat{}~y=2^n-1$。"
   ]
  },
  {
   "cell_type": "markdown",
   "metadata": {},
   "source": [
    "<div class=\"alert alert-block alert-warning\">\n",
    "    <i class=\"fa fa-sticky-note\" aria-hidden=\"true\"><b> Note:</b></i>\n",
    "    异或不具有<b>分配率</b>。\n",
    "</div>"
   ]
  },
  {
   "cell_type": "markdown",
   "metadata": {},
   "source": [
    "**Proof 3:**\n",
    "\n",
    "易证$\\forall i,j,k\\in\\{0,1\\},~(i\\hat{}j)\\hat{}k=i\\hat{}(j\\hat{}k)$。$\\forall x,y,z$，记$x=\\overline{x_1x_2\\cdots x_n},~y=\\overline{y_1y_2\\cdots y_n},~z=\\overline{z_1z_2\\cdots z_n}$，其中$x_i,y_i,z_i\\in\\{0,1\\},~\\forall i\\in [1,~n]$。"
   ]
  },
  {
   "cell_type": "markdown",
   "metadata": {},
   "source": [
    "**Proof 4:**\n",
    "\n",
    "$a~\\hat{}~c=a~\\hat{}(a~\\hat{}~b)=(a~\\hat{}~a)~\\hat{}~b=0~\\hat{}~b=b$"
   ]
  },
  {
   "cell_type": "markdown",
   "metadata": {},
   "source": [
    "**Proof 5:**\n",
    "\n",
    "$2k$的最后一位为$0$，$2k+1$的最后一位为$1$，其他位置全部一致，所以$2k~\\hat{}~(2k+1)=1$"
   ]
  },
  {
   "cell_type": "markdown",
   "metadata": {},
   "source": [
    "**Proof 6:**\n",
    "\n",
    "$-1$的补码为$\\overline{1\\cdots 1}$，32位均为1，则$-1~\\hat{}~k$也即相当于对$k$取反$\\sim k$，由取反的性质1可知$-1~\\hat{}~k=-(k+1)$。"
   ]
  },
  {
   "cell_type": "markdown",
   "metadata": {},
   "source": [
    "### 应用"
   ]
  },
  {
   "cell_type": "markdown",
   "metadata": {},
   "source": [
    "#### 交换两数"
   ]
  },
  {
   "cell_type": "code",
   "execution_count": 5,
   "metadata": {
    "ExecuteTime": {
     "end_time": "2018-12-27T06:58:56.793196Z",
     "start_time": "2018-12-27T06:58:56.784192Z"
    }
   },
   "outputs": [
    {
     "data": {
      "text/plain": [
       "(5, 20)"
      ]
     },
     "execution_count": 5,
     "metadata": {},
     "output_type": "execute_result"
    },
    {
     "data": {
      "text/plain": [
       "(20, 5)"
      ]
     },
     "execution_count": 5,
     "metadata": {},
     "output_type": "execute_result"
    }
   ],
   "source": [
    "# 通过异或\n",
    "a, b = 5, 20\n",
    "a, b \n",
    "a = a ^ b \n",
    "b = b ^ a \n",
    "a = a ^ b \n",
    "a, b "
   ]
  },
  {
   "cell_type": "code",
   "execution_count": 7,
   "metadata": {
    "ExecuteTime": {
     "end_time": "2018-12-27T06:59:58.343518Z",
     "start_time": "2018-12-27T06:59:58.334543Z"
    }
   },
   "outputs": [
    {
     "data": {
      "text/plain": [
       "(5, 20)"
      ]
     },
     "execution_count": 7,
     "metadata": {},
     "output_type": "execute_result"
    },
    {
     "data": {
      "text/plain": [
       "(20, 5)"
      ]
     },
     "execution_count": 7,
     "metadata": {},
     "output_type": "execute_result"
    }
   ],
   "source": [
    "# 通过加法\n",
    "a, b = 5, 20\n",
    "a, b \n",
    "a = a + b\n",
    "b = a - b\n",
    "a = a - b \n",
    "a, b "
   ]
  },
  {
   "cell_type": "code",
   "execution_count": 6,
   "metadata": {
    "ExecuteTime": {
     "end_time": "2018-12-27T06:59:13.955259Z",
     "start_time": "2018-12-27T06:59:13.947279Z"
    }
   },
   "outputs": [
    {
     "data": {
      "text/plain": [
       "(5, 20)"
      ]
     },
     "execution_count": 6,
     "metadata": {},
     "output_type": "execute_result"
    },
    {
     "data": {
      "text/plain": [
       "(20, 5)"
      ]
     },
     "execution_count": 6,
     "metadata": {},
     "output_type": "execute_result"
    }
   ],
   "source": [
    "# python特有语法\n",
    "a, b = 5, 20\n",
    "a, b \n",
    "a, b = b, a  # 使用了额外的空间\n",
    "a, b "
   ]
  },
  {
   "cell_type": "markdown",
   "metadata": {},
   "source": [
    "#### 求绝对值\n",
    "由异或性质5及右移运算性质可知。"
   ]
  },
  {
   "cell_type": "code",
   "execution_count": 25,
   "metadata": {
    "ExecuteTime": {
     "end_time": "2018-12-27T07:08:00.070882Z",
     "start_time": "2018-12-27T07:08:00.066895Z"
    }
   },
   "outputs": [],
   "source": [
    "def bit_abs(num):\n",
    "    sign = num >> 31\n",
    "    return (num ^ sign) - sign"
   ]
  },
  {
   "cell_type": "code",
   "execution_count": 51,
   "metadata": {
    "ExecuteTime": {
     "end_time": "2018-12-29T07:02:32.896733Z",
     "start_time": "2018-12-29T07:02:32.891746Z"
    },
    "scrolled": true
   },
   "outputs": [],
   "source": [
    "for i in range(-100, 100):\n",
    "    if bit_abs(i) != abs(i):\n",
    "        print(i)"
   ]
  },
  {
   "cell_type": "markdown",
   "metadata": {},
   "source": [
    "## $\\sim$ 取反"
   ]
  },
  {
   "cell_type": "markdown",
   "metadata": {},
   "source": [
    "### 性质\n",
    "1. $\\sim k=-(k+1)$\n",
    "2. $\\sim\\sim k=k$"
   ]
  },
  {
   "cell_type": "markdown",
   "metadata": {},
   "source": [
    "Proof 1:\n",
    "\n",
    "1. $k>0$。则$k$的补码中必然存在至少一个数位为1，记$k=\\overline{00\\cdots01x_1x_2\\cdots x_n}$，其中1左侧有若干个0，当1右侧没有数位或者全为1时结论易证，所以不妨设$x_1$到$x_n$中至少存在一个0，记$\\sim k=\\overline{11\\cdots10y_1y_2\\cdots y_n}$，则有\n",
    "$$\\overline{x_1\\cdots x_n} + \\overline{y_1\\cdots y_n} = \\overline{11\\cdots1}$$\n",
    "且$y_1$到$y_n$中至少存在一个1，则$\\overline{y_1\\cdots y_n}>1$，从符号位可知$\\sim k$是负数，记$\\sim k$的反码为$\\overline{11\\cdots10a_1a_2\\cdots a_n}$，则有\n",
    "$$\\overline{y_1\\cdots y_n}-1=\\overline{a_1\\cdots a_n}$$\n",
    "记$\\sim k$的原码为$\\overline{10\\cdots01b_1b_2\\cdots b_n}$，则有\n",
    "$$\\overline{a_1\\cdots a_n} + \\overline{b_1\\cdots b_n}=\\overline{1\\cdots1}$$\n",
    "根据以上三个等式可知\n",
    "$$\\overline{b_1\\cdots b_n}=\\overline{x_1\\cdots x_n} + 1$$\n",
    "根据正整数$k$和负整数$\\sim k$的原码及等式(4)可知\n",
    "$$\\sim k=-(k+1)$$\n",
    "2. $k=0$，易证。\n",
    "3. $k<0$，类似于1的证明。"
   ]
  },
  {
   "cell_type": "markdown",
   "metadata": {},
   "source": [
    "Proof 2:\n",
    "\n",
    "根据性质1，$~\\sim\\sim k=\\sim( -(k+1))=-(-(k+1)+1)=k$"
   ]
  },
  {
   "cell_type": "markdown",
   "metadata": {},
   "source": [
    "### 应用\n",
    "也即$\\sim k+1=-k$，可用于求$k$的相反数。这同时也说明了$-k$的补码为$k$的原码取反后加1，这和负数补码的规则是一致的。"
   ]
  },
  {
   "cell_type": "markdown",
   "metadata": {},
   "source": [
    "## $\\gg$ 右移"
   ]
  },
  {
   "cell_type": "markdown",
   "metadata": {},
   "source": [
    "### 定义\n",
    "将补码按位向右移动，左边缺少的地方补符号位（即正数补0，负数补1），相当于除以2的次方后取整（注意性质2）。 "
   ]
  },
  {
   "cell_type": "markdown",
   "metadata": {},
   "source": [
    "### 性质\n",
    "1. $-1\\gg n=-1$\n",
    "2. 对于正数，不断向右移位最终得到0，而负数最终得到-1"
   ]
  },
  {
   "cell_type": "markdown",
   "metadata": {},
   "source": [
    "# 一些等式"
   ]
  },
  {
   "cell_type": "markdown",
   "metadata": {},
   "source": [
    "## $a+b=(a~\\hat{}~b)+[(a~\\&~b)\\ll 1]$\n",
    "\n",
    "Proof:\n",
    "\n",
    "易证$\\forall a,b\\in\\{0,~1\\}$满足该等式，而位操作符都是按位进行的，证毕。"
   ]
  },
  {
   "cell_type": "markdown",
   "metadata": {},
   "source": [
    "## $a~\\hat{}~b=(\\sim{a})~\\hat{}~(\\sim{b})$"
   ]
  },
  {
   "cell_type": "markdown",
   "metadata": {},
   "source": [
    "## $a~|~b=(a~\\&~b)+(a~\\hat{}~b)$\n",
    "\n",
    "Proof:\n",
    "\n",
    "易证$\\forall a,b\\in\\{0,~1\\}$满足该等式，而位操作符都是按位进行的，证毕。"
   ]
  },
  {
   "cell_type": "markdown",
   "metadata": {},
   "source": [
    "## $a=(a~\\&~b)+(a~\\&~(\\sim{b}))$\n",
    "\n",
    "Proof:\n",
    "\n",
    "易证$\\forall a,b\\in\\{0,~1\\}$满足该等式，而位操作符都是按位进行的，证毕。"
   ]
  },
  {
   "cell_type": "code",
   "execution_count": 2,
   "metadata": {
    "ExecuteTime": {
     "end_time": "2019-01-21T03:09:08.594632Z",
     "start_time": "2019-01-21T03:09:08.425087Z"
    }
   },
   "outputs": [],
   "source": [
    "for a in range(-100, 100):\n",
    "    for b in range(-1000, 1000):\n",
    "        x1 = a & b \n",
    "        x2 = a & (~b)\n",
    "        if a != x1 + x2:\n",
    "            print(a, x1, x2)"
   ]
  },
  {
   "cell_type": "markdown",
   "metadata": {},
   "source": [
    "# 趣味应用"
   ]
  },
  {
   "cell_type": "markdown",
   "metadata": {},
   "source": [
    "## 取出特定位置\n",
    "对于$x\\in\\{0,1\\}$，另一个操作数分别为0、1、-1、$x$时，三种逻辑运算的结果如下表：\n",
    "\n",
    "|操作数| $\\&$ 与|$|$ 或|$\\hat{}$ 异或|\n",
    "|:--|:--|:--|:--|\n",
    "|0|0|$x$|$x$|\n",
    "|1|$x$|1|$1-x$|\n",
    "|-1|$x$|-1|$\\sim{x}$|\n",
    "|$x$|$x$|$x$|0|"
   ]
  },
  {
   "cell_type": "markdown",
   "metadata": {},
   "source": [
    "设整数$k$的补码为$\\overline{x_1x_2\\cdots x_{32}}$。\n",
    "\n",
    "1. 如果想每隔2位取出首位，第二位以0填充，可以进行运算$\\overline{x_10x_30\\cdots x_{31}0}=k~\\&~\\overline{1010\\cdots1010}=k~\\&~\\mbox{0xAAAAAAAA}$\n",
    "2. 类似地，$0x_20x_4\\cdots 0x_{32}=k~\\&~\\mbox{0x55555555}$"
   ]
  },
  {
   "cell_type": "markdown",
   "metadata": {},
   "source": [
    "## 找到右侧第一个1\n",
    "若整数$x$的补码从右向左数第一个1在第k位，则有$x~\\&~-x=\\overline{0\\cdots010\\cdots0}$，其中等式右侧的1在从右向左数第$k$位上。\n",
    "\n",
    "Proof:\n",
    "\n",
    "1. 对于正整数$x$，记其补码为$\\overline{0x_1\\cdots x_k10\\cdots0}$，从左向右数第0位符号位为0，第$k+1$位为1，右侧没有数位或者均为0，记$-x$的补码为$\\overline{1y_1\\cdots y_k01\\cdots1}$，其中$y_i=\\sim{x_i},~\\forall 1\\leq i\\leq k$，则$x~\\&~-x=\\overline{0\\cdots010\\cdots0}$\n",
    "2. 对于负整数$-x$同理。"
   ]
  },
  {
   "cell_type": "markdown",
   "metadata": {},
   "source": [
    "## 高低位交换\n",
    "将一个32位的有符号整数的前16位和后16位交换。"
   ]
  },
  {
   "cell_type": "code",
   "execution_count": 42,
   "metadata": {
    "ExecuteTime": {
     "end_time": "2019-01-07T13:37:49.767634Z",
     "start_time": "2019-01-07T13:37:49.762649Z"
    }
   },
   "outputs": [],
   "source": [
    "def high_low_swap(num):\n",
    "    return ((num >> 16) & 0xFFFF) | (num << 16)"
   ]
  },
  {
   "cell_type": "code",
   "execution_count": 43,
   "metadata": {
    "ExecuteTime": {
     "end_time": "2019-01-07T13:37:51.452131Z",
     "start_time": "2019-01-07T13:37:51.447170Z"
    }
   },
   "outputs": [],
   "source": [
    "for i in range(-100, 100):\n",
    "    s1 = intToBin32(i)\n",
    "    s2 = intToBin32(high_low_swap(i))\n",
    "    if s1 != s2[16:] + s2[:16]:\n",
    "        print(i)"
   ]
  },
  {
   "cell_type": "markdown",
   "metadata": {},
   "source": [
    "## 二进制逆序\n",
    "[190. 颠倒二进制位](https://leetcode-cn.com/problems/reverse-bits/)"
   ]
  },
  {
   "cell_type": "markdown",
   "metadata": {},
   "source": [
    "## 二进制中1的个数\n",
    "[191. 位1的个数](https://leetcode-cn.com/problems/number-of-1-bits/)"
   ]
  },
  {
   "cell_type": "markdown",
   "metadata": {},
   "source": [
    "## 格雷编码\n",
    "详见 [89. Gray Code.ipynb](../LeetCode/89. Gray Code.ipynb)"
   ]
  },
  {
   "cell_type": "markdown",
   "metadata": {},
   "source": [
    "## 只出现一次的数字\n",
    "详见 [136 & 137 & 260 & 287. 只出现一次的数字](../LeetCode/136 & 137 & 260 & 287. 只出现一次的数字.ipynb)"
   ]
  },
  {
   "cell_type": "markdown",
   "metadata": {},
   "source": [
    "## 空间压缩\n",
    "[LeetCode 661. 图片平滑器](https://leetcode-cn.com/problems/image-smoother/)\n",
    "\n",
    "已知原数值和修改后的值都在$0$到$255$之间，所以可以用二进制表示的后$8$位记录原数值，中$8$位记录修改后的值，使用时通过位运算取出。"
   ]
  },
  {
   "cell_type": "code",
   "execution_count": null,
   "metadata": {},
   "outputs": [],
   "source": []
  }
 ],
 "metadata": {
  "anaconda-cloud": {},
  "hide_input": false,
  "kernelspec": {
   "display_name": "python37",
   "language": "python",
   "name": "python37"
  },
  "language_info": {
   "codemirror_mode": {
    "name": "ipython",
    "version": 3
   },
   "file_extension": ".py",
   "mimetype": "text/x-python",
   "name": "python",
   "nbconvert_exporter": "python",
   "pygments_lexer": "ipython3",
   "version": "3.7.1"
  },
  "latex_envs": {
   "LaTeX_envs_menu_present": true,
   "autoclose": false,
   "autocomplete": true,
   "bibliofile": "biblio.bib",
   "cite_by": "apalike",
   "current_citInitial": 1,
   "eqLabelWithNumbers": true,
   "eqNumInitial": 1,
   "hotkeys": {
    "equation": "Ctrl-E",
    "itemize": "Ctrl-I"
   },
   "labels_anchors": false,
   "latex_user_defs": false,
   "report_style_numbering": false,
   "user_envs_cfg": false
  },
  "toc": {
   "base_numbering": 1,
   "nav_menu": {},
   "number_sections": true,
   "sideBar": true,
   "skip_h1_title": false,
   "title_cell": "Table of Contents",
   "title_sidebar": "Contents",
   "toc_cell": false,
   "toc_position": {
    "height": "calc(100% - 180px)",
    "left": "10px",
    "top": "150px",
    "width": "303px"
   },
   "toc_section_display": true,
   "toc_window_display": true
  },
  "toc-autonumbering": true,
  "varInspector": {
   "cols": {
    "lenName": 16,
    "lenType": 16,
    "lenVar": 40
   },
   "kernels_config": {
    "python": {
     "delete_cmd_postfix": "",
     "delete_cmd_prefix": "del ",
     "library": "var_list.py",
     "varRefreshCmd": "print(var_dic_list())"
    },
    "r": {
     "delete_cmd_postfix": ") ",
     "delete_cmd_prefix": "rm(",
     "library": "var_list.r",
     "varRefreshCmd": "cat(var_dic_list()) "
    }
   },
   "types_to_exclude": [
    "module",
    "function",
    "builtin_function_or_method",
    "instance",
    "_Feature"
   ],
   "window_display": false
  }
 },
 "nbformat": 4,
 "nbformat_minor": 4
}
