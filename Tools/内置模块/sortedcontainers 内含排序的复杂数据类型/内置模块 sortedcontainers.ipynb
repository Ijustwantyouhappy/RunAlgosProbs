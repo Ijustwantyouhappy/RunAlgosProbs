{
 "cells": [
  {
   "cell_type": "code",
   "execution_count": 3,
   "metadata": {},
   "outputs": [
    {
     "data": {
      "text/plain": [
       "'system: Microsoft Windows 10 教育版, 18363, 64 位'"
      ]
     },
     "execution_count": 3,
     "metadata": {},
     "output_type": "execute_result"
    },
    {
     "data": {
      "text/plain": [
       "'memory: 15.86G'"
      ]
     },
     "execution_count": 3,
     "metadata": {},
     "output_type": "execute_result"
    },
    {
     "data": {
      "text/plain": [
       "'cpu: 4'"
      ]
     },
     "execution_count": 3,
     "metadata": {},
     "output_type": "execute_result"
    },
    {
     "data": {
      "text/plain": [
       "'python: 3.7.1 (default, Oct 28 2018, 08:39:03) [MSC v.1912 64 bit (AMD64)]'"
      ]
     },
     "execution_count": 3,
     "metadata": {},
     "output_type": "execute_result"
    },
    {
     "data": {
      "text/plain": [
       "'2020-10-05 13:49:57'"
      ]
     },
     "execution_count": 3,
     "metadata": {},
     "output_type": "execute_result"
    }
   ],
   "source": [
    "import sys, time, wmi, psutil\n",
    "SYSTEM_INFO = wmi.WMI().Win32_OperatingSystem()[0]\n",
    "\"system: {0}, {1}, {2}\".format(SYSTEM_INFO.Caption, SYSTEM_INFO.BuildNumber, SYSTEM_INFO.OSArchitecture) \n",
    "\"memory: {}G\".format(round(psutil.virtual_memory().total / 1024**3, 2))\n",
    "\"cpu: {}\".format(psutil.cpu_count())\n",
    "\"python: {}\".format(sys.version)\n",
    "time.strftime('%Y-%m-%d %H:%M:%S', time.localtime(time.time()))"
   ]
  },
  {
   "cell_type": "markdown",
   "metadata": {},
   "source": [
    "- **@author**: run_walker\n",
    "- **@references**:\n",
    "    1. [github > grantjenks/python-sortedcontainers](https://github.com/grantjenks/python-sortedcontainers)\n",
    "    2. [官方文档](http://www.grantjenks.com/docs/sortedcontainers/index.html)"
   ]
  },
  {
   "cell_type": "code",
   "execution_count": 5,
   "metadata": {},
   "outputs": [],
   "source": [
    "import sortedcontainers"
   ]
  },
  {
   "cell_type": "code",
   "execution_count": 6,
   "metadata": {},
   "outputs": [
    {
     "data": {
      "text/plain": [
       "\u001b[1;31mType:\u001b[0m        module\n",
       "\u001b[1;31mString form:\u001b[0m <module 'sortedcontainers' from 'C:\\\\Users\\\\admin\\\\AppData\\\\Roaming\\\\Python\\\\Python37\\\\site-packages\\\\sortedcontainers\\\\__init__.py'>\n",
       "\u001b[1;31mFile:\u001b[0m        c:\\users\\admin\\appdata\\roaming\\python\\python37\\site-packages\\sortedcontainers\\__init__.py\n",
       "\u001b[1;31mDocstring:\u001b[0m  \n",
       "Sorted Containers -- Sorted List, Sorted Dict, Sorted Set\n",
       "\n",
       "Sorted Containers is an Apache2 licensed containers library, written in\n",
       "pure-Python, and fast as C-extensions.\n",
       "\n",
       "Python's standard library is great until you need a sorted collections\n",
       "type. Many will attest that you can get really far without one, but the moment\n",
       "you **really need** a sorted list, dict, or set, you're faced with a dozen\n",
       "different implementations, most using C-extensions without great documentation\n",
       "and benchmarking.\n",
       "\n",
       "In Python, we can do better. And we can do it in pure-Python!\n",
       "\n",
       "::\n",
       "\n",
       "    >>> from sortedcontainers import SortedList\n",
       "    >>> sl = SortedList(['e', 'a', 'c', 'd', 'b'])\n",
       "    >>> sl\n",
       "    SortedList(['a', 'b', 'c', 'd', 'e'])\n",
       "    >>> sl *= 1000000\n",
       "    >>> sl.count('c')\n",
       "    1000000\n",
       "    >>> sl[-3:]\n",
       "    ['e', 'e', 'e']\n",
       "    >>> from sortedcontainers import SortedDict\n",
       "    >>> sd = SortedDict({'c': 3, 'a': 1, 'b': 2})\n",
       "    >>> sd\n",
       "    SortedDict({'a': 1, 'b': 2, 'c': 3})\n",
       "    >>> sd.popitem(index=-1)\n",
       "    ('c', 3)\n",
       "    >>> from sortedcontainers import SortedSet\n",
       "    >>> ss = SortedSet('abracadabra')\n",
       "    >>> ss\n",
       "    SortedSet(['a', 'b', 'c', 'd', 'r'])\n",
       "    >>> ss.bisect_left('c')\n",
       "    2\n",
       "\n",
       "Sorted Containers takes all of the work out of Python sorted types - making\n",
       "your deployment and use of Python easy. There's no need to install a C compiler\n",
       "or pre-build and distribute custom extensions. Performance is a feature and\n",
       "testing has 100% coverage with unit tests and hours of stress.\n",
       "\n",
       ":copyright: (c) 2014-2019 by Grant Jenks.\n",
       ":license: Apache 2.0, see LICENSE for more details.\n"
      ]
     },
     "metadata": {},
     "output_type": "display_data"
    }
   ],
   "source": [
    "?sortedcontainers"
   ]
  },
  {
   "cell_type": "markdown",
   "metadata": {},
   "source": [
    "# `SortedList`\n",
    "内部维持一个升序排列。"
   ]
  },
  {
   "cell_type": "code",
   "execution_count": 8,
   "metadata": {},
   "outputs": [],
   "source": [
    "from sortedcontainers import SortedList"
   ]
  },
  {
   "cell_type": "code",
   "execution_count": 10,
   "metadata": {},
   "outputs": [
    {
     "data": {
      "text/plain": [
       "\u001b[1;31mInit signature:\u001b[0m \u001b[0mSortedList\u001b[0m\u001b[1;33m(\u001b[0m\u001b[0miterable\u001b[0m\u001b[1;33m=\u001b[0m\u001b[1;32mNone\u001b[0m\u001b[1;33m,\u001b[0m \u001b[0mkey\u001b[0m\u001b[1;33m=\u001b[0m\u001b[1;32mNone\u001b[0m\u001b[1;33m)\u001b[0m\u001b[1;33m\u001b[0m\u001b[1;33m\u001b[0m\u001b[0m\n",
       "\u001b[1;31mDocstring:\u001b[0m     \n",
       "Sorted list is a sorted mutable sequence.\n",
       "\n",
       "Sorted list values are maintained in sorted order.\n",
       "\n",
       "Sorted list values must be comparable. The total ordering of values must\n",
       "not change while they are stored in the sorted list.\n",
       "\n",
       "Methods for adding values:\n",
       "\n",
       "* :func:`SortedList.add`\n",
       "* :func:`SortedList.update`\n",
       "* :func:`SortedList.__add__`\n",
       "* :func:`SortedList.__iadd__`\n",
       "* :func:`SortedList.__mul__`\n",
       "* :func:`SortedList.__imul__`\n",
       "\n",
       "Methods for removing values:\n",
       "\n",
       "* :func:`SortedList.clear`\n",
       "* :func:`SortedList.discard`\n",
       "* :func:`SortedList.remove`\n",
       "* :func:`SortedList.pop`\n",
       "* :func:`SortedList.__delitem__`\n",
       "\n",
       "Methods for looking up values:\n",
       "\n",
       "* :func:`SortedList.bisect_left`\n",
       "* :func:`SortedList.bisect_right`\n",
       "* :func:`SortedList.count`\n",
       "* :func:`SortedList.index`\n",
       "* :func:`SortedList.__contains__`\n",
       "* :func:`SortedList.__getitem__`\n",
       "\n",
       "Methods for iterating values:\n",
       "\n",
       "* :func:`SortedList.irange`\n",
       "* :func:`SortedList.islice`\n",
       "* :func:`SortedList.__iter__`\n",
       "* :func:`SortedList.__reversed__`\n",
       "\n",
       "Methods for miscellany:\n",
       "\n",
       "* :func:`SortedList.copy`\n",
       "* :func:`SortedList.__len__`\n",
       "* :func:`SortedList.__repr__`\n",
       "* :func:`SortedList._check`\n",
       "* :func:`SortedList._reset`\n",
       "\n",
       "Sorted lists use lexicographical ordering semantics when compared to other\n",
       "sequences.\n",
       "\n",
       "Some methods of mutable sequences are not supported and will raise\n",
       "not-implemented error.\n",
       "\u001b[1;31mInit docstring:\u001b[0m\n",
       "Initialize sorted list instance.\n",
       "\n",
       "Optional `iterable` argument provides an initial iterable of values to\n",
       "initialize the sorted list.\n",
       "\n",
       "Runtime complexity: `O(n*log(n))`\n",
       "\n",
       ">>> sl = SortedList()\n",
       ">>> sl\n",
       "SortedList([])\n",
       ">>> sl = SortedList([3, 1, 2, 5, 4])\n",
       ">>> sl\n",
       "SortedList([1, 2, 3, 4, 5])\n",
       "\n",
       ":param iterable: initial values (optional)\n",
       "\u001b[1;31mFile:\u001b[0m           c:\\users\\admin\\appdata\\roaming\\python\\python37\\site-packages\\sortedcontainers\\sortedlist.py\n",
       "\u001b[1;31mType:\u001b[0m           ABCMeta\n",
       "\u001b[1;31mSubclasses:\u001b[0m     SortedKeyList\n"
      ]
     },
     "metadata": {},
     "output_type": "display_data"
    }
   ],
   "source": [
    "?SortedList"
   ]
  },
  {
   "cell_type": "markdown",
   "metadata": {},
   "source": [
    "## 允许的操作"
   ]
  },
  {
   "cell_type": "code",
   "execution_count": 24,
   "metadata": {},
   "outputs": [
    {
     "data": {
      "text/plain": [
       "SortedList([])"
      ]
     },
     "execution_count": 24,
     "metadata": {},
     "output_type": "execute_result"
    }
   ],
   "source": [
    "sl = SortedList()\n",
    "sl"
   ]
  },
  {
   "cell_type": "code",
   "execution_count": 25,
   "metadata": {},
   "outputs": [
    {
     "data": {
      "text/plain": [
       "sortedcontainers.sortedlist.SortedList"
      ]
     },
     "execution_count": 25,
     "metadata": {},
     "output_type": "execute_result"
    }
   ],
   "source": [
    "type(sl)"
   ]
  },
  {
   "cell_type": "code",
   "execution_count": 95,
   "metadata": {},
   "outputs": [
    {
     "data": {
      "text/plain": [
       "False"
      ]
     },
     "execution_count": 95,
     "metadata": {},
     "output_type": "execute_result"
    }
   ],
   "source": [
    "isinstance(sl, list)"
   ]
  },
  {
   "cell_type": "code",
   "execution_count": 27,
   "metadata": {},
   "outputs": [
    {
     "data": {
      "text/plain": [
       "SortedList([1, 2, 3, 4, 5])"
      ]
     },
     "execution_count": 27,
     "metadata": {},
     "output_type": "execute_result"
    }
   ],
   "source": [
    "sl.update([5, 1, 3, 4, 2])\n",
    "sl"
   ]
  },
  {
   "cell_type": "code",
   "execution_count": 28,
   "metadata": {},
   "outputs": [
    {
     "data": {
      "text/plain": [
       "SortedList([0, 1, 2, 3, 4, 5])"
      ]
     },
     "execution_count": 28,
     "metadata": {},
     "output_type": "execute_result"
    }
   ],
   "source": [
    "sl.add(0)\n",
    "sl"
   ]
  },
  {
   "cell_type": "code",
   "execution_count": 29,
   "metadata": {},
   "outputs": [
    {
     "data": {
      "text/plain": [
       "\u001b[1;31mSignature:\u001b[0m \u001b[0msl\u001b[0m\u001b[1;33m.\u001b[0m\u001b[0mappend\u001b[0m\u001b[1;33m(\u001b[0m\u001b[0mvalue\u001b[0m\u001b[1;33m)\u001b[0m\u001b[1;33m\u001b[0m\u001b[1;33m\u001b[0m\u001b[0m\n",
       "\u001b[1;31mDocstring:\u001b[0m\n",
       "Raise not-implemented error.\n",
       "\n",
       "Implemented to override `MutableSequence.append` which provides an\n",
       "erroneous default implementation.\n",
       "\n",
       ":raises NotImplementedError: use ``sl.add(value)`` instead\n",
       "\u001b[1;31mFile:\u001b[0m      c:\\users\\admin\\appdata\\roaming\\python\\python37\\site-packages\\sortedcontainers\\sortedlist.py\n",
       "\u001b[1;31mType:\u001b[0m      method\n"
      ]
     },
     "metadata": {},
     "output_type": "display_data"
    }
   ],
   "source": [
    "?sl.append"
   ]
  },
  {
   "cell_type": "code",
   "execution_count": 16,
   "metadata": {},
   "outputs": [
    {
     "data": {
      "text/plain": [
       "\u001b[1;31mSignature:\u001b[0m \u001b[0msl\u001b[0m\u001b[1;33m.\u001b[0m\u001b[0mdiscard\u001b[0m\u001b[1;33m(\u001b[0m\u001b[0mvalue\u001b[0m\u001b[1;33m)\u001b[0m\u001b[1;33m\u001b[0m\u001b[1;33m\u001b[0m\u001b[0m\n",
       "\u001b[1;31mDocstring:\u001b[0m\n",
       "Remove `value` from sorted list if it is a member.\n",
       "\n",
       "If `value` is not a member, do nothing.\n",
       "\n",
       "Runtime complexity: `O(log(n))` -- approximate.\n",
       "\n",
       ">>> sl = SortedList([1, 2, 3, 4, 5])\n",
       ">>> sl.discard(5)\n",
       ">>> sl.discard(0)\n",
       ">>> sl == [1, 2, 3, 4]\n",
       "True\n",
       "\n",
       ":param value: `value` to discard from sorted list\n",
       "\u001b[1;31mFile:\u001b[0m      c:\\users\\admin\\appdata\\roaming\\python\\python37\\site-packages\\sortedcontainers\\sortedlist.py\n",
       "\u001b[1;31mType:\u001b[0m      method\n"
      ]
     },
     "metadata": {},
     "output_type": "display_data"
    }
   ],
   "source": [
    "?sl.discard"
   ]
  },
  {
   "cell_type": "code",
   "execution_count": 17,
   "metadata": {},
   "outputs": [
    {
     "data": {
      "text/plain": [
       "\u001b[1;31mSignature:\u001b[0m \u001b[0msl\u001b[0m\u001b[1;33m.\u001b[0m\u001b[0mremove\u001b[0m\u001b[1;33m(\u001b[0m\u001b[0mvalue\u001b[0m\u001b[1;33m)\u001b[0m\u001b[1;33m\u001b[0m\u001b[1;33m\u001b[0m\u001b[0m\n",
       "\u001b[1;31mDocstring:\u001b[0m\n",
       "Remove `value` from sorted list; `value` must be a member.\n",
       "\n",
       "If `value` is not a member, raise ValueError.\n",
       "\n",
       "Runtime complexity: `O(log(n))` -- approximate.\n",
       "\n",
       ">>> sl = SortedList([1, 2, 3, 4, 5])\n",
       ">>> sl.remove(5)\n",
       ">>> sl == [1, 2, 3, 4]\n",
       "True\n",
       ">>> sl.remove(0)\n",
       "Traceback (most recent call last):\n",
       "  ...\n",
       "ValueError: 0 not in list\n",
       "\n",
       ":param value: `value` to remove from sorted list\n",
       ":raises ValueError: if `value` is not in sorted list\n",
       "\u001b[1;31mFile:\u001b[0m      c:\\users\\admin\\appdata\\roaming\\python\\python37\\site-packages\\sortedcontainers\\sortedlist.py\n",
       "\u001b[1;31mType:\u001b[0m      method\n"
      ]
     },
     "metadata": {},
     "output_type": "display_data"
    }
   ],
   "source": [
    "?sl.remove"
   ]
  },
  {
   "cell_type": "code",
   "execution_count": 30,
   "metadata": {},
   "outputs": [
    {
     "data": {
      "text/plain": [
       "SortedList([1, 2, 3, 4, 5])"
      ]
     },
     "execution_count": 30,
     "metadata": {},
     "output_type": "execute_result"
    }
   ],
   "source": [
    "sl.remove(0)\n",
    "sl"
   ]
  },
  {
   "cell_type": "code",
   "execution_count": 31,
   "metadata": {},
   "outputs": [
    {
     "data": {
      "text/plain": [
       "SortedList([1, 2, 3, 4, 5])"
      ]
     },
     "execution_count": 31,
     "metadata": {},
     "output_type": "execute_result"
    }
   ],
   "source": [
    "sl.discard(0)\n",
    "sl"
   ]
  },
  {
   "cell_type": "code",
   "execution_count": 32,
   "metadata": {},
   "outputs": [
    {
     "data": {
      "text/plain": [
       "SortedList([2, 3, 4, 5])"
      ]
     },
     "execution_count": 32,
     "metadata": {},
     "output_type": "execute_result"
    }
   ],
   "source": [
    "sl.discard(1)\n",
    "sl"
   ]
  },
  {
   "cell_type": "code",
   "execution_count": 33,
   "metadata": {},
   "outputs": [
    {
     "data": {
      "text/plain": [
       "5"
      ]
     },
     "execution_count": 33,
     "metadata": {},
     "output_type": "execute_result"
    },
    {
     "data": {
      "text/plain": [
       "SortedList([2, 3, 4])"
      ]
     },
     "execution_count": 33,
     "metadata": {},
     "output_type": "execute_result"
    }
   ],
   "source": [
    "sl.pop()\n",
    "sl"
   ]
  },
  {
   "cell_type": "code",
   "execution_count": 34,
   "metadata": {},
   "outputs": [
    {
     "data": {
      "text/plain": [
       "SortedList([])"
      ]
     },
     "execution_count": 34,
     "metadata": {},
     "output_type": "execute_result"
    }
   ],
   "source": [
    "sl.clear()\n",
    "sl"
   ]
  },
  {
   "cell_type": "code",
   "execution_count": 37,
   "metadata": {},
   "outputs": [
    {
     "data": {
      "text/plain": [
       "SortedList(['a', 'a', 'b', 'b', 'b', 'c', 'c', 'c', 'c', 'd', 'd', 'd', 'd', 'e', 'e', 'e', 'e', 'e'])"
      ]
     },
     "execution_count": 37,
     "metadata": {},
     "output_type": "execute_result"
    }
   ],
   "source": [
    "sl = SortedList('abbcccddddeeeeeabc')\n",
    "sl"
   ]
  },
  {
   "cell_type": "code",
   "execution_count": 38,
   "metadata": {},
   "outputs": [
    {
     "data": {
      "text/plain": [
       "True"
      ]
     },
     "execution_count": 38,
     "metadata": {},
     "output_type": "execute_result"
    },
    {
     "data": {
      "text/plain": [
       "False"
      ]
     },
     "execution_count": 38,
     "metadata": {},
     "output_type": "execute_result"
    }
   ],
   "source": [
    "'a' in sl\n",
    "'f' in sl"
   ]
  },
  {
   "cell_type": "code",
   "execution_count": 39,
   "metadata": {},
   "outputs": [
    {
     "data": {
      "text/plain": [
       "2"
      ]
     },
     "execution_count": 39,
     "metadata": {},
     "output_type": "execute_result"
    }
   ],
   "source": [
    "sl.count('a')"
   ]
  },
  {
   "cell_type": "code",
   "execution_count": 40,
   "metadata": {},
   "outputs": [
    {
     "data": {
      "text/plain": [
       "2"
      ]
     },
     "execution_count": 40,
     "metadata": {},
     "output_type": "execute_result"
    }
   ],
   "source": [
    "sl.index('b')"
   ]
  },
  {
   "cell_type": "code",
   "execution_count": 44,
   "metadata": {},
   "outputs": [
    {
     "data": {
      "text/plain": [
       "'b'"
      ]
     },
     "execution_count": 44,
     "metadata": {},
     "output_type": "execute_result"
    },
    {
     "data": {
      "text/plain": [
       "['b', 'b', 'c']"
      ]
     },
     "execution_count": 44,
     "metadata": {},
     "output_type": "execute_result"
    }
   ],
   "source": [
    "sl[3]\n",
    "sl[3:6]"
   ]
  },
  {
   "cell_type": "code",
   "execution_count": 42,
   "metadata": {},
   "outputs": [
    {
     "data": {
      "text/plain": [
       "2"
      ]
     },
     "execution_count": 42,
     "metadata": {},
     "output_type": "execute_result"
    }
   ],
   "source": [
    "sl.bisect_left('b')"
   ]
  },
  {
   "cell_type": "code",
   "execution_count": 43,
   "metadata": {},
   "outputs": [
    {
     "data": {
      "text/plain": [
       "5"
      ]
     },
     "execution_count": 43,
     "metadata": {},
     "output_type": "execute_result"
    }
   ],
   "source": [
    "sl.bisect_right('b')"
   ]
  },
  {
   "cell_type": "code",
   "execution_count": 45,
   "metadata": {},
   "outputs": [
    {
     "data": {
      "text/plain": [
       "['a',\n",
       " 'a',\n",
       " 'b',\n",
       " 'b',\n",
       " 'b',\n",
       " 'c',\n",
       " 'c',\n",
       " 'c',\n",
       " 'c',\n",
       " 'd',\n",
       " 'd',\n",
       " 'd',\n",
       " 'd',\n",
       " 'e',\n",
       " 'e',\n",
       " 'e',\n",
       " 'e',\n",
       " 'e']"
      ]
     },
     "execution_count": 45,
     "metadata": {},
     "output_type": "execute_result"
    }
   ],
   "source": [
    "list(sl)"
   ]
  },
  {
   "cell_type": "code",
   "execution_count": 46,
   "metadata": {},
   "outputs": [
    {
     "data": {
      "text/plain": [
       "['e',\n",
       " 'e',\n",
       " 'e',\n",
       " 'e',\n",
       " 'e',\n",
       " 'd',\n",
       " 'd',\n",
       " 'd',\n",
       " 'd',\n",
       " 'c',\n",
       " 'c',\n",
       " 'c',\n",
       " 'c',\n",
       " 'b',\n",
       " 'b',\n",
       " 'b',\n",
       " 'a',\n",
       " 'a']"
      ]
     },
     "execution_count": 46,
     "metadata": {},
     "output_type": "execute_result"
    }
   ],
   "source": [
    "list(reversed(sl))"
   ]
  },
  {
   "cell_type": "code",
   "execution_count": 47,
   "metadata": {},
   "outputs": [
    {
     "data": {
      "text/plain": [
       "\u001b[1;31mSignature:\u001b[0m\n",
       "\u001b[0msl\u001b[0m\u001b[1;33m.\u001b[0m\u001b[0mirange\u001b[0m\u001b[1;33m(\u001b[0m\u001b[1;33m\n",
       "\u001b[0m    \u001b[0mminimum\u001b[0m\u001b[1;33m=\u001b[0m\u001b[1;32mNone\u001b[0m\u001b[1;33m,\u001b[0m\u001b[1;33m\n",
       "\u001b[0m    \u001b[0mmaximum\u001b[0m\u001b[1;33m=\u001b[0m\u001b[1;32mNone\u001b[0m\u001b[1;33m,\u001b[0m\u001b[1;33m\n",
       "\u001b[0m    \u001b[0minclusive\u001b[0m\u001b[1;33m=\u001b[0m\u001b[1;33m(\u001b[0m\u001b[1;32mTrue\u001b[0m\u001b[1;33m,\u001b[0m \u001b[1;32mTrue\u001b[0m\u001b[1;33m)\u001b[0m\u001b[1;33m,\u001b[0m\u001b[1;33m\n",
       "\u001b[0m    \u001b[0mreverse\u001b[0m\u001b[1;33m=\u001b[0m\u001b[1;32mFalse\u001b[0m\u001b[1;33m,\u001b[0m\u001b[1;33m\n",
       "\u001b[0m\u001b[1;33m)\u001b[0m\u001b[1;33m\u001b[0m\u001b[1;33m\u001b[0m\u001b[0m\n",
       "\u001b[1;31mDocstring:\u001b[0m\n",
       "Create an iterator of values between `minimum` and `maximum`.\n",
       "\n",
       "Both `minimum` and `maximum` default to `None` which is automatically\n",
       "inclusive of the beginning and end of the sorted list.\n",
       "\n",
       "The argument `inclusive` is a pair of booleans that indicates whether\n",
       "the minimum and maximum ought to be included in the range,\n",
       "respectively. The default is ``(True, True)`` such that the range is\n",
       "inclusive of both minimum and maximum.\n",
       "\n",
       "When `reverse` is `True` the values are yielded from the iterator in\n",
       "reverse order; `reverse` defaults to `False`.\n",
       "\n",
       ">>> sl = SortedList('abcdefghij')\n",
       ">>> it = sl.irange('c', 'f')\n",
       ">>> list(it)\n",
       "['c', 'd', 'e', 'f']\n",
       "\n",
       ":param minimum: minimum value to start iterating\n",
       ":param maximum: maximum value to stop iterating\n",
       ":param inclusive: pair of booleans\n",
       ":param bool reverse: yield values in reverse order\n",
       ":return: iterator\n",
       "\u001b[1;31mFile:\u001b[0m      c:\\users\\admin\\appdata\\roaming\\python\\python37\\site-packages\\sortedcontainers\\sortedlist.py\n",
       "\u001b[1;31mType:\u001b[0m      method\n"
      ]
     },
     "metadata": {},
     "output_type": "display_data"
    }
   ],
   "source": [
    "?sl.irange"
   ]
  },
  {
   "cell_type": "code",
   "execution_count": 48,
   "metadata": {},
   "outputs": [
    {
     "data": {
      "text/plain": [
       "['b', 'b', 'b', 'c', 'c', 'c', 'c']"
      ]
     },
     "execution_count": 48,
     "metadata": {},
     "output_type": "execute_result"
    }
   ],
   "source": [
    "list(sl.irange('b', 'c'))"
   ]
  },
  {
   "cell_type": "code",
   "execution_count": 49,
   "metadata": {},
   "outputs": [
    {
     "data": {
      "text/plain": [
       "\u001b[1;31mSignature:\u001b[0m \u001b[0msl\u001b[0m\u001b[1;33m.\u001b[0m\u001b[0mislice\u001b[0m\u001b[1;33m(\u001b[0m\u001b[0mstart\u001b[0m\u001b[1;33m=\u001b[0m\u001b[1;32mNone\u001b[0m\u001b[1;33m,\u001b[0m \u001b[0mstop\u001b[0m\u001b[1;33m=\u001b[0m\u001b[1;32mNone\u001b[0m\u001b[1;33m,\u001b[0m \u001b[0mreverse\u001b[0m\u001b[1;33m=\u001b[0m\u001b[1;32mFalse\u001b[0m\u001b[1;33m)\u001b[0m\u001b[1;33m\u001b[0m\u001b[1;33m\u001b[0m\u001b[0m\n",
       "\u001b[1;31mDocstring:\u001b[0m\n",
       "Return an iterator that slices sorted list from `start` to `stop`.\n",
       "\n",
       "The `start` and `stop` index are treated inclusive and exclusive,\n",
       "respectively.\n",
       "\n",
       "Both `start` and `stop` default to `None` which is automatically\n",
       "inclusive of the beginning and end of the sorted list.\n",
       "\n",
       "When `reverse` is `True` the values are yielded from the iterator in\n",
       "reverse order; `reverse` defaults to `False`.\n",
       "\n",
       ">>> sl = SortedList('abcdefghij')\n",
       ">>> it = sl.islice(2, 6)\n",
       ">>> list(it)\n",
       "['c', 'd', 'e', 'f']\n",
       "\n",
       ":param int start: start index (inclusive)\n",
       ":param int stop: stop index (exclusive)\n",
       ":param bool reverse: yield values in reverse order\n",
       ":return: iterator\n",
       "\u001b[1;31mFile:\u001b[0m      c:\\users\\admin\\appdata\\roaming\\python\\python37\\site-packages\\sortedcontainers\\sortedlist.py\n",
       "\u001b[1;31mType:\u001b[0m      method\n"
      ]
     },
     "metadata": {},
     "output_type": "display_data"
    }
   ],
   "source": [
    "?sl.islice"
   ]
  },
  {
   "cell_type": "code",
   "execution_count": 50,
   "metadata": {},
   "outputs": [
    {
     "data": {
      "text/plain": [
       "['a', 'b', 'b', 'b']"
      ]
     },
     "execution_count": 50,
     "metadata": {},
     "output_type": "execute_result"
    },
    {
     "data": {
      "text/plain": [
       "['a', 'b', 'b', 'b']"
      ]
     },
     "execution_count": 50,
     "metadata": {},
     "output_type": "execute_result"
    }
   ],
   "source": [
    "list(sl.islice(1, 5))\n",
    "sl[1:5]"
   ]
  },
  {
   "cell_type": "markdown",
   "metadata": {},
   "source": [
    "支持加法和乘法。"
   ]
  },
  {
   "cell_type": "code",
   "execution_count": 51,
   "metadata": {},
   "outputs": [
    {
     "data": {
      "text/plain": [
       "SortedList(['a', 'b', 'c'])"
      ]
     },
     "execution_count": 51,
     "metadata": {},
     "output_type": "execute_result"
    }
   ],
   "source": [
    "sl = SortedList('abc')\n",
    "sl"
   ]
  },
  {
   "cell_type": "code",
   "execution_count": 52,
   "metadata": {},
   "outputs": [
    {
     "data": {
      "text/plain": [
       "SortedList(['a', 'a', 'b', 'b', 'c', 'c'])"
      ]
     },
     "execution_count": 52,
     "metadata": {},
     "output_type": "execute_result"
    }
   ],
   "source": [
    "sl + sl"
   ]
  },
  {
   "cell_type": "code",
   "execution_count": 53,
   "metadata": {},
   "outputs": [
    {
     "data": {
      "text/plain": [
       "SortedList(['a', 'a', 'a', 'b', 'b', 'b', 'c', 'c', 'c'])"
      ]
     },
     "execution_count": 53,
     "metadata": {},
     "output_type": "execute_result"
    }
   ],
   "source": [
    "sl * 3"
   ]
  },
  {
   "cell_type": "code",
   "execution_count": 54,
   "metadata": {},
   "outputs": [
    {
     "data": {
      "text/plain": [
       "SortedList(['a', 'b', 'c', 'd', 'e'])"
      ]
     },
     "execution_count": 54,
     "metadata": {},
     "output_type": "execute_result"
    }
   ],
   "source": [
    "sl += 'de'\n",
    "sl"
   ]
  },
  {
   "cell_type": "code",
   "execution_count": 55,
   "metadata": {},
   "outputs": [
    {
     "data": {
      "text/plain": [
       "SortedList(['a', 'a', 'b', 'b', 'c', 'c', 'd', 'd', 'e', 'e'])"
      ]
     },
     "execution_count": 55,
     "metadata": {},
     "output_type": "execute_result"
    }
   ],
   "source": [
    "sl *= 2\n",
    "sl"
   ]
  },
  {
   "cell_type": "markdown",
   "metadata": {},
   "source": [
    "和`sorted`函数相似，支持通过参数`key`传入函数，按函数结果升序排列。"
   ]
  },
  {
   "cell_type": "code",
   "execution_count": 77,
   "metadata": {},
   "outputs": [
    {
     "data": {
      "text/plain": [
       "SortedKeyList([5, 4, 3, 2, 1], key=<built-in function neg>)"
      ]
     },
     "execution_count": 77,
     "metadata": {},
     "output_type": "execute_result"
    }
   ],
   "source": [
    "from operator import neg\n",
    "\n",
    "sl = SortedList([1, 2, 3, 4, 5], key=neg)  # 通过取反操作实现降序排列\n",
    "\n",
    "sl"
   ]
  },
  {
   "cell_type": "code",
   "execution_count": 78,
   "metadata": {},
   "outputs": [
    {
     "data": {
      "text/plain": [
       "sortedcontainers.sortedlist.SortedKeyList"
      ]
     },
     "execution_count": 78,
     "metadata": {},
     "output_type": "execute_result"
    }
   ],
   "source": [
    "type(sl)"
   ]
  },
  {
   "cell_type": "code",
   "execution_count": 79,
   "metadata": {},
   "outputs": [
    {
     "data": {
      "text/plain": [
       "True"
      ]
     },
     "execution_count": 79,
     "metadata": {},
     "output_type": "execute_result"
    }
   ],
   "source": [
    "from sortedcontainers import SortedKeyList\n",
    "\n",
    "issubclass(SortedKeyList, SortedList)"
   ]
  },
  {
   "cell_type": "code",
   "execution_count": 83,
   "metadata": {},
   "outputs": [
    {
     "data": {
      "text/plain": [
       "1"
      ]
     },
     "execution_count": 83,
     "metadata": {},
     "output_type": "execute_result"
    },
    {
     "data": {
      "text/plain": [
       "5"
      ]
     },
     "execution_count": 83,
     "metadata": {},
     "output_type": "execute_result"
    }
   ],
   "source": [
    "sl.bisect_left(4.5)\n",
    "sl.bisect_left(-4.5)"
   ]
  },
  {
   "cell_type": "code",
   "execution_count": 84,
   "metadata": {},
   "outputs": [
    {
     "data": {
      "text/plain": [
       "5"
      ]
     },
     "execution_count": 84,
     "metadata": {},
     "output_type": "execute_result"
    },
    {
     "data": {
      "text/plain": [
       "1"
      ]
     },
     "execution_count": 84,
     "metadata": {},
     "output_type": "execute_result"
    }
   ],
   "source": [
    "sl.bisect_key_left(4.5)\n",
    "sl.bisect_key_left(-4.5)"
   ]
  },
  {
   "cell_type": "code",
   "execution_count": 82,
   "metadata": {},
   "outputs": [
    {
     "data": {
      "text/plain": [
       "\u001b[1;31mSignature:\u001b[0m \u001b[0msl\u001b[0m\u001b[1;33m.\u001b[0m\u001b[0mbisect_key_left\u001b[0m\u001b[1;33m(\u001b[0m\u001b[0mkey\u001b[0m\u001b[1;33m)\u001b[0m\u001b[1;33m\u001b[0m\u001b[1;33m\u001b[0m\u001b[0m\n",
       "\u001b[1;31mDocstring:\u001b[0m\n",
       "Return an index to insert `key` in the sorted-key list.\n",
       "\n",
       "If the `key` is already present, the insertion point will be before (to\n",
       "the left of) any existing keys.\n",
       "\n",
       "Similar to the `bisect` module in the standard library.\n",
       "\n",
       "Runtime complexity: `O(log(n))` -- approximate.\n",
       "\n",
       ">>> from operator import neg\n",
       ">>> skl = SortedKeyList([5, 4, 3, 2, 1], key=neg)\n",
       ">>> skl.bisect_key_left(-1)\n",
       "4\n",
       "\n",
       ":param key: insertion index of key in sorted-key list\n",
       ":return: index\n",
       "\u001b[1;31mFile:\u001b[0m      c:\\users\\admin\\appdata\\roaming\\python\\python37\\site-packages\\sortedcontainers\\sortedlist.py\n",
       "\u001b[1;31mType:\u001b[0m      method\n"
      ]
     },
     "metadata": {},
     "output_type": "display_data"
    }
   ],
   "source": [
    "?sl.bisect_key_left"
   ]
  },
  {
   "cell_type": "markdown",
   "metadata": {},
   "source": [
    "假设原始值为$a_i$，用于排序的值为$b_i=f(a_i)$\n",
    "- `bisect_left(v)`：将$v$作为原始值，按$f(val)$的值插进$b_i$中\n",
    "- `bisect_key_left(v)`：将$v$作为排序值，按$v$插进$b_i$中\n",
    "\n",
    "注意：真正`add(v)`时总是将$v$作为原始值。"
   ]
  },
  {
   "cell_type": "code",
   "execution_count": 85,
   "metadata": {},
   "outputs": [],
   "source": [
    "sl = SortedList([1, 2, 3, 4, 5], key=abs)"
   ]
  },
  {
   "cell_type": "code",
   "execution_count": 86,
   "metadata": {},
   "outputs": [
    {
     "data": {
      "text/plain": [
       "SortedKeyList([1, 2, 3, 4, 5], key=<built-in function abs>)"
      ]
     },
     "execution_count": 86,
     "metadata": {},
     "output_type": "execute_result"
    }
   ],
   "source": [
    "sl"
   ]
  },
  {
   "cell_type": "code",
   "execution_count": 87,
   "metadata": {},
   "outputs": [
    {
     "data": {
      "text/plain": [
       "4"
      ]
     },
     "execution_count": 87,
     "metadata": {},
     "output_type": "execute_result"
    },
    {
     "data": {
      "text/plain": [
       "4"
      ]
     },
     "execution_count": 87,
     "metadata": {},
     "output_type": "execute_result"
    }
   ],
   "source": [
    "sl.bisect_left(4.5)\n",
    "sl.bisect_left(-4.5)"
   ]
  },
  {
   "cell_type": "code",
   "execution_count": 88,
   "metadata": {},
   "outputs": [
    {
     "data": {
      "text/plain": [
       "4"
      ]
     },
     "execution_count": 88,
     "metadata": {},
     "output_type": "execute_result"
    },
    {
     "data": {
      "text/plain": [
       "0"
      ]
     },
     "execution_count": 88,
     "metadata": {},
     "output_type": "execute_result"
    }
   ],
   "source": [
    "sl.bisect_key_left(4.5)\n",
    "sl.bisect_key_left(-4.5)"
   ]
  },
  {
   "cell_type": "code",
   "execution_count": 89,
   "metadata": {},
   "outputs": [],
   "source": [
    "sl.add(-4.5)"
   ]
  },
  {
   "cell_type": "code",
   "execution_count": 90,
   "metadata": {},
   "outputs": [
    {
     "data": {
      "text/plain": [
       "SortedKeyList([1, 2, 3, 4, -4.5, 5], key=<built-in function abs>)"
      ]
     },
     "execution_count": 90,
     "metadata": {},
     "output_type": "execute_result"
    }
   ],
   "source": [
    "sl"
   ]
  },
  {
   "cell_type": "markdown",
   "metadata": {},
   "source": [
    "## 不允许的操作\n",
    "任何想要在特定位置放一个特定值的操作都是不被允许的，因为会破坏排序。"
   ]
  },
  {
   "cell_type": "code",
   "execution_count": 60,
   "metadata": {},
   "outputs": [
    {
     "data": {
      "text/plain": [
       "SortedList(['a', 'b', 'c', 'd', 'e'])"
      ]
     },
     "execution_count": 60,
     "metadata": {},
     "output_type": "execute_result"
    }
   ],
   "source": [
    "sl = SortedList('abcde')\n",
    "sl"
   ]
  },
  {
   "cell_type": "code",
   "execution_count": 61,
   "metadata": {},
   "outputs": [
    {
     "name": "stdout",
     "output_type": "stream",
     "text": [
      "use ``del sl[index]`` and ``sl.add(value)`` instead\n"
     ]
    }
   ],
   "source": [
    "try:\n",
    "    sl[2] = 'c'\n",
    "except Exception as e:\n",
    "    print(e)"
   ]
  },
  {
   "cell_type": "code",
   "execution_count": 62,
   "metadata": {},
   "outputs": [
    {
     "name": "stdout",
     "output_type": "stream",
     "text": [
      "use ``reversed(sl)`` instead\n"
     ]
    }
   ],
   "source": [
    "try:\n",
    "    sl.reverse()\n",
    "except Exception as e:\n",
    "    print(e)"
   ]
  },
  {
   "cell_type": "code",
   "execution_count": 64,
   "metadata": {},
   "outputs": [
    {
     "name": "stdout",
     "output_type": "stream",
     "text": [
      "use ``sl.add(value)`` instead\n"
     ]
    }
   ],
   "source": [
    "try:\n",
    "    sl.append('f')\n",
    "except Exception as e:\n",
    "    print(e)"
   ]
  },
  {
   "cell_type": "code",
   "execution_count": 65,
   "metadata": {},
   "outputs": [
    {
     "name": "stdout",
     "output_type": "stream",
     "text": [
      "use ``sl.update(values)`` instead\n"
     ]
    }
   ],
   "source": [
    "try:\n",
    "    sl.extend(['f', 'g', 'h'])\n",
    "except Exception as e:\n",
    "    print(e)"
   ]
  },
  {
   "cell_type": "code",
   "execution_count": 66,
   "metadata": {},
   "outputs": [
    {
     "name": "stdout",
     "output_type": "stream",
     "text": [
      "use ``sl.add(value)`` instead\n"
     ]
    }
   ],
   "source": [
    "try:\n",
    "    sl.insert(5, 'f')\n",
    "except Exception as e:\n",
    "    print(e)"
   ]
  },
  {
   "cell_type": "markdown",
   "metadata": {},
   "source": [
    "# `SortedDict`"
   ]
  },
  {
   "cell_type": "code",
   "execution_count": 91,
   "metadata": {},
   "outputs": [],
   "source": [
    "from sortedcontainers import SortedDict"
   ]
  },
  {
   "cell_type": "code",
   "execution_count": 92,
   "metadata": {},
   "outputs": [
    {
     "data": {
      "text/plain": [
       "\u001b[1;31mInit signature:\u001b[0m \u001b[0mSortedDict\u001b[0m\u001b[1;33m(\u001b[0m\u001b[1;33m*\u001b[0m\u001b[0margs\u001b[0m\u001b[1;33m,\u001b[0m \u001b[1;33m**\u001b[0m\u001b[0mkwargs\u001b[0m\u001b[1;33m)\u001b[0m\u001b[1;33m\u001b[0m\u001b[1;33m\u001b[0m\u001b[0m\n",
       "\u001b[1;31mDocstring:\u001b[0m     \n",
       "Sorted dict is a sorted mutable mapping.\n",
       "\n",
       "Sorted dict keys are maintained in sorted order. The design of sorted dict\n",
       "is simple: sorted dict inherits from dict to store items and maintains a\n",
       "sorted list of keys.\n",
       "\n",
       "Sorted dict keys must be hashable and comparable. The hash and total\n",
       "ordering of keys must not change while they are stored in the sorted dict.\n",
       "\n",
       "Mutable mapping methods:\n",
       "\n",
       "* :func:`SortedDict.__getitem__` (inherited from dict)\n",
       "* :func:`SortedDict.__setitem__`\n",
       "* :func:`SortedDict.__delitem__`\n",
       "* :func:`SortedDict.__iter__`\n",
       "* :func:`SortedDict.__len__` (inherited from dict)\n",
       "\n",
       "Methods for adding items:\n",
       "\n",
       "* :func:`SortedDict.setdefault`\n",
       "* :func:`SortedDict.update`\n",
       "\n",
       "Methods for removing items:\n",
       "\n",
       "* :func:`SortedDict.clear`\n",
       "* :func:`SortedDict.pop`\n",
       "* :func:`SortedDict.popitem`\n",
       "\n",
       "Methods for looking up items:\n",
       "\n",
       "* :func:`SortedDict.__contains__` (inherited from dict)\n",
       "* :func:`SortedDict.get` (inherited from dict)\n",
       "* :func:`SortedDict.peekitem`\n",
       "\n",
       "Methods for views:\n",
       "\n",
       "* :func:`SortedDict.keys`\n",
       "* :func:`SortedDict.items`\n",
       "* :func:`SortedDict.values`\n",
       "\n",
       "Methods for miscellany:\n",
       "\n",
       "* :func:`SortedDict.copy`\n",
       "* :func:`SortedDict.fromkeys`\n",
       "* :func:`SortedDict.__reversed__`\n",
       "* :func:`SortedDict.__eq__` (inherited from dict)\n",
       "* :func:`SortedDict.__ne__` (inherited from dict)\n",
       "* :func:`SortedDict.__repr__`\n",
       "* :func:`SortedDict._check`\n",
       "\n",
       "Sorted list methods available (applies to keys):\n",
       "\n",
       "* :func:`SortedList.bisect_left`\n",
       "* :func:`SortedList.bisect_right`\n",
       "* :func:`SortedList.count`\n",
       "* :func:`SortedList.index`\n",
       "* :func:`SortedList.irange`\n",
       "* :func:`SortedList.islice`\n",
       "* :func:`SortedList._reset`\n",
       "\n",
       "Additional sorted list methods available, if key-function used:\n",
       "\n",
       "* :func:`SortedKeyList.bisect_key_left`\n",
       "* :func:`SortedKeyList.bisect_key_right`\n",
       "* :func:`SortedKeyList.irange_key`\n",
       "\n",
       "Sorted dicts may only be compared for equality and inequality.\n",
       "\u001b[1;31mInit docstring:\u001b[0m\n",
       "Initialize sorted dict instance.\n",
       "\n",
       "Optional key-function argument defines a callable that, like the `key`\n",
       "argument to the built-in `sorted` function, extracts a comparison key\n",
       "from each dictionary key. If no function is specified, the default\n",
       "compares the dictionary keys directly. The key-function argument must\n",
       "be provided as a positional argument and must come before all other\n",
       "arguments.\n",
       "\n",
       "Optional iterable argument provides an initial sequence of pairs to\n",
       "initialize the sorted dict. Each pair in the sequence defines the key\n",
       "and corresponding value. If a key is seen more than once, the last\n",
       "value associated with it is stored in the new sorted dict.\n",
       "\n",
       "Optional mapping argument provides an initial mapping of items to\n",
       "initialize the sorted dict.\n",
       "\n",
       "If keyword arguments are given, the keywords themselves, with their\n",
       "associated values, are added as items to the dictionary. If a key is\n",
       "specified both in the positional argument and as a keyword argument,\n",
       "the value associated with the keyword is stored in the\n",
       "sorted dict.\n",
       "\n",
       "Sorted dict keys must be hashable, per the requirement for Python's\n",
       "dictionaries. Keys (or the result of the key-function) must also be\n",
       "comparable, per the requirement for sorted lists.\n",
       "\n",
       ">>> d = {'alpha': 1, 'beta': 2}\n",
       ">>> SortedDict([('alpha', 1), ('beta', 2)]) == d\n",
       "True\n",
       ">>> SortedDict({'alpha': 1, 'beta': 2}) == d\n",
       "True\n",
       ">>> SortedDict(alpha=1, beta=2) == d\n",
       "True\n",
       "\u001b[1;31mFile:\u001b[0m           c:\\users\\admin\\appdata\\roaming\\python\\python37\\site-packages\\sortedcontainers\\sorteddict.py\n",
       "\u001b[1;31mType:\u001b[0m           type\n",
       "\u001b[1;31mSubclasses:\u001b[0m     \n"
      ]
     },
     "metadata": {},
     "output_type": "display_data"
    }
   ],
   "source": [
    "?SortedDict"
   ]
  },
  {
   "cell_type": "code",
   "execution_count": 93,
   "metadata": {},
   "outputs": [
    {
     "data": {
      "text/plain": [
       "SortedDict({})"
      ]
     },
     "execution_count": 93,
     "metadata": {},
     "output_type": "execute_result"
    }
   ],
   "source": [
    "sd = SortedDict()\n",
    "sd"
   ]
  },
  {
   "cell_type": "code",
   "execution_count": 94,
   "metadata": {},
   "outputs": [
    {
     "data": {
      "text/plain": [
       "True"
      ]
     },
     "execution_count": 94,
     "metadata": {},
     "output_type": "execute_result"
    }
   ],
   "source": [
    "isinstance(sd, dict)  "
   ]
  },
  {
   "cell_type": "code",
   "execution_count": 96,
   "metadata": {},
   "outputs": [
    {
     "data": {
      "text/plain": [
       "True"
      ]
     },
     "execution_count": 96,
     "metadata": {},
     "output_type": "execute_result"
    }
   ],
   "source": [
    "issubclass(SortedDict, dict)  # 注意，与SortedList和list的关系不一样"
   ]
  },
  {
   "cell_type": "code",
   "execution_count": 97,
   "metadata": {},
   "outputs": [
    {
     "data": {
      "text/plain": [
       "True"
      ]
     },
     "execution_count": 97,
     "metadata": {},
     "output_type": "execute_result"
    }
   ],
   "source": [
    "sd == {}"
   ]
  },
  {
   "cell_type": "markdown",
   "metadata": {},
   "source": [
    "继承了dict所有的初始化和赋值的操作。"
   ]
  },
  {
   "cell_type": "code",
   "execution_count": 98,
   "metadata": {},
   "outputs": [
    {
     "data": {
      "text/plain": [
       "SortedDict({'b': 2, 'e': 5})"
      ]
     },
     "execution_count": 98,
     "metadata": {},
     "output_type": "execute_result"
    }
   ],
   "source": [
    "sd['e'] = 5\n",
    "sd['b'] = 2\n",
    "sd"
   ]
  },
  {
   "cell_type": "code",
   "execution_count": 99,
   "metadata": {},
   "outputs": [
    {
     "data": {
      "text/plain": [
       "SortedDict({'b': 2, 'c': 3, 'd': 4, 'e': 5})"
      ]
     },
     "execution_count": 99,
     "metadata": {},
     "output_type": "execute_result"
    }
   ],
   "source": [
    "sd.update({'d': 4, 'c': 3})\n",
    "sd"
   ]
  },
  {
   "cell_type": "code",
   "execution_count": 100,
   "metadata": {},
   "outputs": [
    {
     "data": {
      "text/plain": [
       "1"
      ]
     },
     "execution_count": 100,
     "metadata": {},
     "output_type": "execute_result"
    },
    {
     "data": {
      "text/plain": [
       "SortedDict({'a': 1, 'b': 2, 'c': 3, 'd': 4, 'e': 5})"
      ]
     },
     "execution_count": 100,
     "metadata": {},
     "output_type": "execute_result"
    }
   ],
   "source": [
    "sd.setdefault('a', 1)\n",
    "sd"
   ]
  },
  {
   "cell_type": "code",
   "execution_count": 102,
   "metadata": {},
   "outputs": [
    {
     "data": {
      "text/plain": [
       "SortedDict({'a': 1, 'b': 2, 'c': 3, 'd': 4, 'e': 5})"
      ]
     },
     "execution_count": 102,
     "metadata": {},
     "output_type": "execute_result"
    }
   ],
   "source": [
    "sd = SortedDict({'a': 1, 'b': 2, 'c': 3, 'd': 4, 'e': 5})\n",
    "sd"
   ]
  },
  {
   "cell_type": "code",
   "execution_count": 103,
   "metadata": {},
   "outputs": [
    {
     "data": {
      "text/plain": [
       "SortedItemsView(SortedDict({'a': 1, 'b': 2, 'c': 3, 'd': 4, 'e': 5}))"
      ]
     },
     "execution_count": 103,
     "metadata": {},
     "output_type": "execute_result"
    }
   ],
   "source": [
    "sd.items()"
   ]
  },
  {
   "cell_type": "code",
   "execution_count": 104,
   "metadata": {},
   "outputs": [
    {
     "data": {
      "text/plain": [
       "[('a', 1), ('b', 2), ('c', 3), ('d', 4), ('e', 5)]"
      ]
     },
     "execution_count": 104,
     "metadata": {},
     "output_type": "execute_result"
    }
   ],
   "source": [
    "list(sd.items())"
   ]
  },
  {
   "cell_type": "code",
   "execution_count": 105,
   "metadata": {},
   "outputs": [
    {
     "data": {
      "text/plain": [
       "SortedDict({'a': 1, 'b': 2, 'c': 3, 'd': 4, 'e': 5})"
      ]
     },
     "execution_count": 105,
     "metadata": {},
     "output_type": "execute_result"
    }
   ],
   "source": [
    "sd = SortedDict([('a', 1), ('b', 2), ('c', 3), ('d', 4), ('e', 5)])\n",
    "sd"
   ]
  },
  {
   "cell_type": "code",
   "execution_count": 112,
   "metadata": {},
   "outputs": [
    {
     "data": {
      "text/plain": [
       "SortedDict({'a': 1, 'b': 2, 'c': 3, 'd': 4, 'e': 5})"
      ]
     },
     "execution_count": 112,
     "metadata": {},
     "output_type": "execute_result"
    }
   ],
   "source": [
    "sd = SortedDict(a=1, b=2, c=3, d=4, e=5)\n",
    "sd"
   ]
  },
  {
   "cell_type": "code",
   "execution_count": 113,
   "metadata": {},
   "outputs": [
    {
     "data": {
      "text/plain": [
       "5"
      ]
     },
     "execution_count": 113,
     "metadata": {},
     "output_type": "execute_result"
    },
    {
     "data": {
      "text/plain": [
       "SortedDict({'a': 1, 'b': 2, 'c': 3, 'd': 4})"
      ]
     },
     "execution_count": 113,
     "metadata": {},
     "output_type": "execute_result"
    }
   ],
   "source": [
    "sd.pop('e')  # 按key\n",
    "sd"
   ]
  },
  {
   "cell_type": "code",
   "execution_count": 114,
   "metadata": {},
   "outputs": [
    {
     "data": {
      "text/plain": [
       "('d', 4)"
      ]
     },
     "execution_count": 114,
     "metadata": {},
     "output_type": "execute_result"
    },
    {
     "data": {
      "text/plain": [
       "SortedDict({'a': 1, 'b': 2, 'c': 3})"
      ]
     },
     "execution_count": 114,
     "metadata": {},
     "output_type": "execute_result"
    }
   ],
   "source": [
    "sd.popitem(-1)  # 按index\n",
    "sd"
   ]
  },
  {
   "cell_type": "code",
   "execution_count": 115,
   "metadata": {},
   "outputs": [
    {
     "data": {
      "text/plain": [
       "3"
      ]
     },
     "execution_count": 115,
     "metadata": {},
     "output_type": "execute_result"
    },
    {
     "data": {
      "text/plain": [
       "3"
      ]
     },
     "execution_count": 115,
     "metadata": {},
     "output_type": "execute_result"
    },
    {
     "data": {
      "text/plain": [
       "('c', 3)"
      ]
     },
     "execution_count": 115,
     "metadata": {},
     "output_type": "execute_result"
    }
   ],
   "source": [
    "sd['c']\n",
    "sd.get('c')\n",
    "sd.peekitem(-1)"
   ]
  },
  {
   "cell_type": "code",
   "execution_count": 118,
   "metadata": {},
   "outputs": [
    {
     "data": {
      "text/plain": [
       "SortedDict({'a': 1, 'b': 2, 'c': 3})"
      ]
     },
     "execution_count": 118,
     "metadata": {},
     "output_type": "execute_result"
    },
    {
     "data": {
      "text/plain": [
       "0"
      ]
     },
     "execution_count": 118,
     "metadata": {},
     "output_type": "execute_result"
    },
    {
     "data": {
      "text/plain": [
       "['a', 'b', 'c']"
      ]
     },
     "execution_count": 118,
     "metadata": {},
     "output_type": "execute_result"
    }
   ],
   "source": [
    "sd\n",
    "sd.index('a')\n",
    "list(sd.irange('a', 'c'))"
   ]
  },
  {
   "cell_type": "code",
   "execution_count": 120,
   "metadata": {},
   "outputs": [
    {
     "data": {
      "text/plain": [
       "['a', 'b', 'c']"
      ]
     },
     "execution_count": 120,
     "metadata": {},
     "output_type": "execute_result"
    }
   ],
   "source": [
    "list(sd.keys())"
   ]
  },
  {
   "cell_type": "markdown",
   "metadata": {},
   "source": [
    "也支持`key`参数。"
   ]
  },
  {
   "cell_type": "code",
   "execution_count": 122,
   "metadata": {},
   "outputs": [
    {
     "data": {
      "text/plain": [
       "SortedDict(<built-in function neg>, {3: 'c', 2: 'b', 1: 'a'})"
      ]
     },
     "execution_count": 122,
     "metadata": {},
     "output_type": "execute_result"
    }
   ],
   "source": [
    "sd = SortedDict(neg, {1: 'a', 2: 'b', 3: 'c'})\n",
    "sd"
   ]
  },
  {
   "cell_type": "markdown",
   "metadata": {},
   "source": [
    "# `SortedSet`"
   ]
  },
  {
   "cell_type": "code",
   "execution_count": 123,
   "metadata": {},
   "outputs": [],
   "source": [
    "from sortedcontainers import SortedSet"
   ]
  },
  {
   "cell_type": "code",
   "execution_count": 124,
   "metadata": {},
   "outputs": [
    {
     "data": {
      "text/plain": [
       "\u001b[1;31mInit signature:\u001b[0m \u001b[0mSortedSet\u001b[0m\u001b[1;33m(\u001b[0m\u001b[0miterable\u001b[0m\u001b[1;33m=\u001b[0m\u001b[1;32mNone\u001b[0m\u001b[1;33m,\u001b[0m \u001b[0mkey\u001b[0m\u001b[1;33m=\u001b[0m\u001b[1;32mNone\u001b[0m\u001b[1;33m)\u001b[0m\u001b[1;33m\u001b[0m\u001b[1;33m\u001b[0m\u001b[0m\n",
       "\u001b[1;31mDocstring:\u001b[0m     \n",
       "Sorted set is a sorted mutable set.\n",
       "\n",
       "Sorted set values are maintained in sorted order. The design of sorted set\n",
       "is simple: sorted set uses a set for set-operations and maintains a sorted\n",
       "list of values.\n",
       "\n",
       "Sorted set values must be hashable and comparable. The hash and total\n",
       "ordering of values must not change while they are stored in the sorted set.\n",
       "\n",
       "Mutable set methods:\n",
       "\n",
       "* :func:`SortedSet.__contains__`\n",
       "* :func:`SortedSet.__iter__`\n",
       "* :func:`SortedSet.__len__`\n",
       "* :func:`SortedSet.add`\n",
       "* :func:`SortedSet.discard`\n",
       "\n",
       "Sequence methods:\n",
       "\n",
       "* :func:`SortedSet.__getitem__`\n",
       "* :func:`SortedSet.__delitem__`\n",
       "* :func:`SortedSet.__reversed__`\n",
       "\n",
       "Methods for removing values:\n",
       "\n",
       "* :func:`SortedSet.clear`\n",
       "* :func:`SortedSet.pop`\n",
       "* :func:`SortedSet.remove`\n",
       "\n",
       "Set-operation methods:\n",
       "\n",
       "* :func:`SortedSet.difference`\n",
       "* :func:`SortedSet.difference_update`\n",
       "* :func:`SortedSet.intersection`\n",
       "* :func:`SortedSet.intersection_update`\n",
       "* :func:`SortedSet.symmetric_difference`\n",
       "* :func:`SortedSet.symmetric_difference_update`\n",
       "* :func:`SortedSet.union`\n",
       "* :func:`SortedSet.update`\n",
       "\n",
       "Methods for miscellany:\n",
       "\n",
       "* :func:`SortedSet.copy`\n",
       "* :func:`SortedSet.count`\n",
       "* :func:`SortedSet.__repr__`\n",
       "* :func:`SortedSet._check`\n",
       "\n",
       "Sorted list methods available:\n",
       "\n",
       "* :func:`SortedList.bisect_left`\n",
       "* :func:`SortedList.bisect_right`\n",
       "* :func:`SortedList.index`\n",
       "* :func:`SortedList.irange`\n",
       "* :func:`SortedList.islice`\n",
       "* :func:`SortedList._reset`\n",
       "\n",
       "Additional sorted list methods available, if key-function used:\n",
       "\n",
       "* :func:`SortedKeyList.bisect_key_left`\n",
       "* :func:`SortedKeyList.bisect_key_right`\n",
       "* :func:`SortedKeyList.irange_key`\n",
       "\n",
       "Sorted set comparisons use subset and superset relations. Two sorted sets\n",
       "are equal if and only if every element of each sorted set is contained in\n",
       "the other (each is a subset of the other). A sorted set is less than\n",
       "another sorted set if and only if the first sorted set is a proper subset\n",
       "of the second sorted set (is a subset, but is not equal). A sorted set is\n",
       "greater than another sorted set if and only if the first sorted set is a\n",
       "proper superset of the second sorted set (is a superset, but is not equal).\n",
       "\u001b[1;31mInit docstring:\u001b[0m\n",
       "Initialize sorted set instance.\n",
       "\n",
       "Optional `iterable` argument provides an initial iterable of values to\n",
       "initialize the sorted set.\n",
       "\n",
       "Optional `key` argument defines a callable that, like the `key`\n",
       "argument to Python's `sorted` function, extracts a comparison key from\n",
       "each value. The default, none, compares values directly.\n",
       "\n",
       "Runtime complexity: `O(n*log(n))`\n",
       "\n",
       ">>> ss = SortedSet([3, 1, 2, 5, 4])\n",
       ">>> ss\n",
       "SortedSet([1, 2, 3, 4, 5])\n",
       ">>> from operator import neg\n",
       ">>> ss = SortedSet([3, 1, 2, 5, 4], neg)\n",
       ">>> ss\n",
       "SortedSet([5, 4, 3, 2, 1], key=<built-in function neg>)\n",
       "\n",
       ":param iterable: initial values (optional)\n",
       ":param key: function used to extract comparison key (optional)\n",
       "\u001b[1;31mFile:\u001b[0m           c:\\users\\admin\\appdata\\roaming\\python\\python37\\site-packages\\sortedcontainers\\sortedset.py\n",
       "\u001b[1;31mType:\u001b[0m           ABCMeta\n",
       "\u001b[1;31mSubclasses:\u001b[0m     \n"
      ]
     },
     "metadata": {},
     "output_type": "display_data"
    }
   ],
   "source": [
    "?SortedSet"
   ]
  },
  {
   "cell_type": "code",
   "execution_count": 125,
   "metadata": {},
   "outputs": [
    {
     "data": {
      "text/plain": [
       "False"
      ]
     },
     "execution_count": 125,
     "metadata": {},
     "output_type": "execute_result"
    }
   ],
   "source": [
    "issubclass(SortedSet, set)"
   ]
  },
  {
   "cell_type": "code",
   "execution_count": 126,
   "metadata": {},
   "outputs": [
    {
     "data": {
      "text/plain": [
       "SortedSet(['a', 'b', 'c'])"
      ]
     },
     "execution_count": 126,
     "metadata": {},
     "output_type": "execute_result"
    }
   ],
   "source": [
    "ss = SortedSet()\n",
    "ss.add('a')\n",
    "ss.add('b')\n",
    "ss.add('c')\n",
    "ss.add('a')\n",
    "\n",
    "ss"
   ]
  },
  {
   "cell_type": "code",
   "execution_count": 127,
   "metadata": {},
   "outputs": [
    {
     "data": {
      "text/plain": [
       "'a'"
      ]
     },
     "execution_count": 127,
     "metadata": {},
     "output_type": "execute_result"
    }
   ],
   "source": [
    "ss[0]"
   ]
  },
  {
   "cell_type": "code",
   "execution_count": 128,
   "metadata": {},
   "outputs": [
    {
     "data": {
      "text/plain": [
       "\u001b[1;31mSignature:\u001b[0m \u001b[0mss\u001b[0m\u001b[1;33m.\u001b[0m\u001b[0mpop\u001b[0m\u001b[1;33m(\u001b[0m\u001b[0mindex\u001b[0m\u001b[1;33m=\u001b[0m\u001b[1;33m-\u001b[0m\u001b[1;36m1\u001b[0m\u001b[1;33m)\u001b[0m\u001b[1;33m\u001b[0m\u001b[1;33m\u001b[0m\u001b[0m\n",
       "\u001b[1;31mDocstring:\u001b[0m\n",
       "Remove and return value at `index` in sorted set.\n",
       "\n",
       "Raise :exc:`IndexError` if the sorted set is empty or index is out of\n",
       "range.\n",
       "\n",
       "Negative indices are supported.\n",
       "\n",
       "Runtime complexity: `O(log(n))` -- approximate.\n",
       "\n",
       ">>> ss = SortedSet('abcde')\n",
       ">>> ss.pop()\n",
       "'e'\n",
       ">>> ss.pop(2)\n",
       "'c'\n",
       ">>> ss\n",
       "SortedSet(['a', 'b', 'd'])\n",
       "\n",
       ":param int index: index of value (default -1)\n",
       ":return: value\n",
       ":raises IndexError: if index is out of range\n",
       "\u001b[1;31mFile:\u001b[0m      c:\\users\\admin\\appdata\\roaming\\python\\python37\\site-packages\\sortedcontainers\\sortedset.py\n",
       "\u001b[1;31mType:\u001b[0m      method\n"
      ]
     },
     "metadata": {},
     "output_type": "display_data"
    }
   ],
   "source": [
    "ss.pop?"
   ]
  },
  {
   "cell_type": "code",
   "execution_count": 129,
   "metadata": {},
   "outputs": [],
   "source": [
    "s1 = SortedSet('abcd')\n",
    "s2 = SortedSet('cdef')"
   ]
  },
  {
   "cell_type": "code",
   "execution_count": 131,
   "metadata": {},
   "outputs": [
    {
     "data": {
      "text/plain": [
       "SortedSet(['a', 'b'])"
      ]
     },
     "execution_count": 131,
     "metadata": {},
     "output_type": "execute_result"
    },
    {
     "data": {
      "text/plain": [
       "SortedSet(['a', 'b'])"
      ]
     },
     "execution_count": 131,
     "metadata": {},
     "output_type": "execute_result"
    }
   ],
   "source": [
    "s1 - s2\n",
    "s1.difference(s2)"
   ]
  },
  {
   "cell_type": "code",
   "execution_count": 132,
   "metadata": {},
   "outputs": [
    {
     "data": {
      "text/plain": [
       "SortedSet(['c', 'd'])"
      ]
     },
     "execution_count": 132,
     "metadata": {},
     "output_type": "execute_result"
    },
    {
     "data": {
      "text/plain": [
       "SortedSet(['c', 'd'])"
      ]
     },
     "execution_count": 132,
     "metadata": {},
     "output_type": "execute_result"
    }
   ],
   "source": [
    "s1 & s2\n",
    "s1.intersection(s2)"
   ]
  },
  {
   "cell_type": "code",
   "execution_count": 133,
   "metadata": {},
   "outputs": [
    {
     "data": {
      "text/plain": [
       "SortedSet(['a', 'b', 'e', 'f'])"
      ]
     },
     "execution_count": 133,
     "metadata": {},
     "output_type": "execute_result"
    }
   ],
   "source": [
    "s1.symmetric_difference(s2)"
   ]
  },
  {
   "cell_type": "code",
   "execution_count": 134,
   "metadata": {},
   "outputs": [
    {
     "data": {
      "text/plain": [
       "SortedSet(['a', 'b', 'c', 'd', 'e', 'f'])"
      ]
     },
     "execution_count": 134,
     "metadata": {},
     "output_type": "execute_result"
    },
    {
     "data": {
      "text/plain": [
       "SortedSet(['a', 'b', 'c', 'd', 'e', 'f'])"
      ]
     },
     "execution_count": 134,
     "metadata": {},
     "output_type": "execute_result"
    }
   ],
   "source": [
    "s1 | s2\n",
    "s1.union(s2)"
   ]
  },
  {
   "cell_type": "code",
   "execution_count": 135,
   "metadata": {},
   "outputs": [
    {
     "data": {
      "text/plain": [
       "SortedSet(['a', 'b', 'c', 'd', 'e', 'f'])"
      ]
     },
     "execution_count": 135,
     "metadata": {},
     "output_type": "execute_result"
    }
   ],
   "source": [
    "s1 |= s2\n",
    "s1"
   ]
  },
  {
   "cell_type": "code",
   "execution_count": 136,
   "metadata": {},
   "outputs": [
    {
     "data": {
      "text/plain": [
       "['d', 'e', 'f']"
      ]
     },
     "execution_count": 136,
     "metadata": {},
     "output_type": "execute_result"
    }
   ],
   "source": [
    "s1[-3:]"
   ]
  },
  {
   "cell_type": "markdown",
   "metadata": {},
   "source": [
    "也支持`key`参数。"
   ]
  },
  {
   "cell_type": "code",
   "execution_count": 137,
   "metadata": {},
   "outputs": [],
   "source": [
    "from operator import neg\n",
    "\n",
    "ss = SortedSet([1, 2, 3], key=neg)"
   ]
  },
  {
   "cell_type": "code",
   "execution_count": 138,
   "metadata": {},
   "outputs": [
    {
     "data": {
      "text/plain": [
       "SortedSet([3, 2, 1], key=<built-in function neg>)"
      ]
     },
     "execution_count": 138,
     "metadata": {},
     "output_type": "execute_result"
    }
   ],
   "source": [
    "ss"
   ]
  },
  {
   "cell_type": "markdown",
   "metadata": {},
   "source": [
    "# 总结\n",
    "`sortedcontainers`模块中主要提供了`SortedList`、`SortedDict`和`SortedSet`三个接口，分别对应python中自带的list、dict和set数据结构，在内部维持了一个排序，这个排序需要是一个全序，才能确保代码和预想的一样运作，否则可能会有问题。\n",
    "\n",
    "就功能而言其实和`bisect`二分查找模块、`heapq`堆模块有很大的重叠，相比后两者它的**优点**在于：\n",
    "1. 可以同时获得所有元素的顺序\n",
    "2. 可以通过参数`key`传入函数来指定参与排序的值，类似于`sorted`函数\n",
    "3. 后两者本质都作用于list，`sortedcontainers`还提供了set和dict的数据结构\n",
    "4. 功能完全覆盖了`bisect`模块，接口命名也完全一致，`bisect`模块的函数都需要作用于已按升序排好的序列，而使用`sortedcontainers`能保证这一点，代码会更稳健\n",
    "5. 接口设计在数据结构上，写出来的代码可读性更好一点\n",
    "\n",
    "在实际应用中，往往未必需要全排序，仅需在每轮可以推出当前最小的元素即可，这种时候通过`heapq`模块实现可能代码效率会更高。这一点并不是很确定，只是从结果得到的感觉，具体示例见 [LeetCode > 1606. 找到处理最多请求的服务器](https://leetcode-cn.com/problems/find-servers-that-handled-most-number-of-requests/)，给出了两种不同的实现，通过`heapq`完成的要比`sortedcontainers`快一倍还多，但也可能是没用好导致的速度差别。"
   ]
  },
  {
   "cell_type": "code",
   "execution_count": null,
   "metadata": {},
   "outputs": [],
   "source": []
  }
 ],
 "metadata": {
  "kernelspec": {
   "display_name": "python37",
   "language": "python",
   "name": "python37"
  },
  "language_info": {
   "codemirror_mode": {
    "name": "ipython",
    "version": 3
   },
   "file_extension": ".py",
   "mimetype": "text/x-python",
   "name": "python",
   "nbconvert_exporter": "python",
   "pygments_lexer": "ipython3",
   "version": "3.7.1"
  }
 },
 "nbformat": 4,
 "nbformat_minor": 4
}
