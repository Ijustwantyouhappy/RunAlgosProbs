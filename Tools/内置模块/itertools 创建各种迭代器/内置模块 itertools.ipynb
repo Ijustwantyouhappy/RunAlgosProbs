{
 "cells": [
  {
   "cell_type": "code",
   "execution_count": 1,
   "metadata": {
    "ExecuteTime": {
     "end_time": "2018-02-06T16:33:27.794420Z",
     "start_time": "2018-02-07T00:33:27.785898+08:00"
    },
    "init_cell": true
   },
   "outputs": [
    {
     "data": {
      "text/plain": [
       "'system: Microsoft Windows 10 教育版, 18363, 64 位'"
      ]
     },
     "execution_count": 1,
     "metadata": {},
     "output_type": "execute_result"
    },
    {
     "data": {
      "text/plain": [
       "'memory: 15.86G'"
      ]
     },
     "execution_count": 1,
     "metadata": {},
     "output_type": "execute_result"
    },
    {
     "data": {
      "text/plain": [
       "'cpu: 4'"
      ]
     },
     "execution_count": 1,
     "metadata": {},
     "output_type": "execute_result"
    },
    {
     "data": {
      "text/plain": [
       "'python: 3.7.1 (default, Oct 28 2018, 08:39:03) [MSC v.1912 64 bit (AMD64)]'"
      ]
     },
     "execution_count": 1,
     "metadata": {},
     "output_type": "execute_result"
    },
    {
     "data": {
      "text/plain": [
       "'2020-10-04 23:48:13'"
      ]
     },
     "execution_count": 1,
     "metadata": {},
     "output_type": "execute_result"
    }
   ],
   "source": [
    "import sys, time, wmi, psutil\n",
    "SYSTEM_INFO = wmi.WMI().Win32_OperatingSystem()[0]\n",
    "\"system: {0}, {1}, {2}\".format(SYSTEM_INFO.Caption, SYSTEM_INFO.BuildNumber, SYSTEM_INFO.OSArchitecture) \n",
    "\"memory: {}G\".format(round(psutil.virtual_memory().total / 1024**3, 2))\n",
    "\"cpu: {}\".format(psutil.cpu_count())\n",
    "\"python: {}\".format(sys.version)\n",
    "time.strftime('%Y-%m-%d %H:%M:%S', time.localtime(time.time()))"
   ]
  },
  {
   "cell_type": "markdown",
   "metadata": {},
   "source": [
    "- **@author**: run_walker\n",
    "- **@references**:\n",
    "    1. [官方文档 > itertools](https://docs.python.org/zh-cn/3.7/library/itertools.html#module-itertools) 给出了每个函数的伪代码实现，以及使用现有的itertools作为基础构件来创建扩展的工具集\n",
    "    2. [Python标准库13 循环器 (itertools)](https://www.cnblogs.com/vamei/p/3174796.html)\n",
    "    3. [廖雪峰的官方网站 -> Python教程 -> 常用内建模块 -> itertools](https://www.liaoxuefeng.com/wiki/0014316089557264a6b348958f449949df42a6d3a2e542c000/00143200162233153835cfdd1a541a18ddc15059e3ddeec000)"
   ]
  },
  {
   "cell_type": "code",
   "execution_count": 4,
   "metadata": {},
   "outputs": [
    {
     "data": {
      "text/plain": [
       "\u001B[0;33mmodule attribute:\u001B[0m\n",
       "    \u001B[0;36m__loader__\u001B[0m\u001B[1;30m, \u001B[0m\u001B[0;36m__name__\u001B[0m\u001B[1;30m, \u001B[0m\u001B[0;36m__package__\u001B[0m\u001B[1;30m, \u001B[0m\u001B[0;36m__spec__\u001B[0m\n",
       "\u001B[0;33mspecial attribute:\u001B[0m\n",
       "    \u001B[0;36m__doc__\u001B[0m\n",
       "\u001B[0;33mclass:\u001B[0m\n",
       "    \u001B[0;36m_grouper:\u001B[0m \u001B[1;30m\u001B[0m\n",
       "    \u001B[0;36m_tee:\u001B[0m \u001B[1;30mIterator wrapped to make it copyable\u001B[0m\n",
       "    \u001B[0;36m_tee_dataobject:\u001B[0m \u001B[1;30mData container common to multiple tee objects.\u001B[0m\n",
       "    \u001B[0;36maccumulate:\u001B[0m \u001B[1;30maccumulate(iterable[, func]) --> accumulate object\u001B[0m\n",
       "    \u001B[0;36mchain:\u001B[0m \u001B[1;30mchain(*iterables) --> chain object\u001B[0m\n",
       "    \u001B[0;36mcombinations:\u001B[0m \u001B[1;30mcombinations(iterable, r) --> combinations object\u001B[0m\n",
       "    \u001B[0;36mcombinations_with_replacement:\u001B[0m \u001B[1;30mcombinations_with_replacement(iterable, r) --> combinations_with_replacement object\u001B[0m\n",
       "    \u001B[0;36mcompress:\u001B[0m \u001B[1;30mcompress(data, selectors) --> iterator over selected data\u001B[0m\n",
       "    \u001B[0;36mcount:\u001B[0m \u001B[1;30mcount(start=0, step=1) --> count object\u001B[0m\n",
       "    \u001B[0;36mcycle:\u001B[0m \u001B[1;30mcycle(iterable) --> cycle object\u001B[0m\n",
       "    \u001B[0;36mdropwhile:\u001B[0m \u001B[1;30mdropwhile(predicate, iterable) --> dropwhile object\u001B[0m\n",
       "    \u001B[0;36mfilterfalse:\u001B[0m \u001B[1;30mfilterfalse(function or None, sequence) --> filterfalse object\u001B[0m\n",
       "    \u001B[0;36mgroupby:\u001B[0m \u001B[1;30mgroupby(iterable, key=None) -> make an iterator that returns consecutive\u001B[0m\n",
       "    \u001B[0;36mislice:\u001B[0m \u001B[1;30mislice(iterable, stop) --> islice object\u001B[0m\n",
       "    \u001B[0;36mpermutations:\u001B[0m \u001B[1;30mpermutations(iterable[, r]) --> permutations object\u001B[0m\n",
       "    \u001B[0;36mproduct:\u001B[0m \u001B[1;30mproduct(*iterables, repeat=1) --> product object\u001B[0m\n",
       "    \u001B[0;36mrepeat:\u001B[0m \u001B[1;30mrepeat(object [,times]) -> create an iterator which returns the object\u001B[0m\n",
       "    \u001B[0;36mstarmap:\u001B[0m \u001B[1;30mstarmap(function, sequence) --> starmap object\u001B[0m\n",
       "    \u001B[0;36mtakewhile:\u001B[0m \u001B[1;30mtakewhile(predicate, iterable) --> takewhile object\u001B[0m\n",
       "    \u001B[0;36mzip_longest:\u001B[0m \u001B[1;30mzip_longest(iter1 [,iter2 [...]], [fillvalue=None]) --> zip_longest object\u001B[0m\n",
       "\u001B[0;33mfunction:\u001B[0m\n",
       "    \u001B[0;36mtee:\u001B[0m \u001B[1;30mtee(iterable, n=2) --> tuple of n independent iterators.\u001B[0m"
      ]
     },
     "execution_count": 4,
     "metadata": {},
     "output_type": "execute_result"
    }
   ],
   "source": [
    "import itertools\n",
    "\n",
    "pdir(itertools)"
   ]
  },
  {
   "cell_type": "code",
   "execution_count": 2,
   "metadata": {},
   "outputs": [],
   "source": [
    "from itertools import *"
   ]
  },
  {
   "cell_type": "markdown",
   "metadata": {},
   "source": [
    "# 无限迭代器\n",
    "Infinite Iterators\n",
    "\n",
    "|Iterator\t|Arguments|\tResults\t|Example|\n",
    "|:--|:--:|-----|-----|\n",
    "|count()\t|start, [step]|\tstart, start+step, start+2*step, …\t|count(10) --> 10 11 12 13 14 ...|\n",
    "|cycle()\t|p|\tp0, p1, … plast, p0, p1, …\t|cycle('ABCD') --> A B C D A B C D ...|\n",
    "|repeat()\t|elem, [n]|\telem, elem, elem, … endlessly or up to n times\t|repeat(10, 3) --> 10 10 10|"
   ]
  },
  {
   "cell_type": "markdown",
   "metadata": {},
   "source": [
    "<div class=\"alert alert-block alert-warning\">\n",
    "    <i class=\"fa fa-sticky-note\" aria-hidden=\"true\"><b> Note:</b></i>\n",
    "    使用无限迭代器的时候，只能通过`next`一个个取出，千万不能直接用`list`，无穷无尽，没有停止条件的话，内存会爆。\n",
    "</div>"
   ]
  },
  {
   "cell_type": "markdown",
   "metadata": {},
   "source": [
    "## count()"
   ]
  },
  {
   "cell_type": "code",
   "execution_count": 10,
   "metadata": {},
   "outputs": [
    {
     "data": {
      "text/plain": [
       "\u001B[1;31mInit signature:\u001B[0m \u001B[0mcount\u001B[0m\u001B[1;33m(\u001B[0m\u001B[0mself\u001B[0m\u001B[1;33m,\u001B[0m \u001B[1;33m/\u001B[0m\u001B[1;33m,\u001B[0m \u001B[1;33m*\u001B[0m\u001B[0margs\u001B[0m\u001B[1;33m,\u001B[0m \u001B[1;33m**\u001B[0m\u001B[0mkwargs\u001B[0m\u001B[1;33m)\u001B[0m\u001B[1;33m\u001B[0m\u001B[1;33m\u001B[0m\u001B[0m\n",
       "\u001B[1;31mDocstring:\u001B[0m     \n",
       "count(start=0, step=1) --> count object\n",
       "\n",
       "Return a count object whose .__next__() method returns consecutive values.\n",
       "Equivalent to:\n",
       "\n",
       "    def count(firstval=0, step=1):\n",
       "        x = firstval\n",
       "        while 1:\n",
       "            yield x\n",
       "            x += step\n",
       "\u001B[1;31mType:\u001B[0m           type\n",
       "\u001B[1;31mSubclasses:\u001B[0m     \n"
      ]
     },
     "metadata": {},
     "output_type": "display_data"
    }
   ],
   "source": [
    "?count"
   ]
  },
  {
   "cell_type": "code",
   "execution_count": 6,
   "metadata": {
    "ExecuteTime": {
     "end_time": "2018-02-05T23:34:48.190152Z",
     "start_time": "2018-02-05T23:34:48.182673Z"
    }
   },
   "outputs": [
    {
     "data": {
      "text/plain": [
       "itertools.count"
      ]
     },
     "execution_count": 6,
     "metadata": {},
     "output_type": "execute_result"
    },
    {
     "data": {
      "text/plain": [
       "0"
      ]
     },
     "execution_count": 6,
     "metadata": {},
     "output_type": "execute_result"
    },
    {
     "data": {
      "text/plain": [
       "1"
      ]
     },
     "execution_count": 6,
     "metadata": {},
     "output_type": "execute_result"
    }
   ],
   "source": [
    "# 例1 不指定起点时默认从0开始，不指定间隔时默认为1\n",
    "a = count()\n",
    "type(a)\n",
    "a.__next__()\n",
    "a.__next__()"
   ]
  },
  {
   "cell_type": "code",
   "execution_count": 7,
   "metadata": {
    "ExecuteTime": {
     "end_time": "2018-02-05T23:36:41.928558Z",
     "start_time": "2018-02-05T23:36:41.919534Z"
    }
   },
   "outputs": [
    {
     "data": {
      "text/plain": [
       "4"
      ]
     },
     "execution_count": 7,
     "metadata": {},
     "output_type": "execute_result"
    },
    {
     "data": {
      "text/plain": [
       "2"
      ]
     },
     "execution_count": 7,
     "metadata": {},
     "output_type": "execute_result"
    },
    {
     "data": {
      "text/plain": [
       "0"
      ]
     },
     "execution_count": 7,
     "metadata": {},
     "output_type": "execute_result"
    },
    {
     "data": {
      "text/plain": [
       "-2"
      ]
     },
     "execution_count": 7,
     "metadata": {},
     "output_type": "execute_result"
    }
   ],
   "source": [
    "# 例2 \n",
    "a = count(4, -2)\n",
    "a.__next__()\n",
    "a.__next__()\n",
    "a.__next__()\n",
    "a.__next__()"
   ]
  },
  {
   "cell_type": "code",
   "execution_count": 8,
   "metadata": {
    "ExecuteTime": {
     "end_time": "2018-02-05T23:42:21.556484Z",
     "start_time": "2018-02-05T23:42:21.545424Z"
    }
   },
   "outputs": [
    {
     "data": {
      "text/plain": [
       "map"
      ]
     },
     "execution_count": 8,
     "metadata": {},
     "output_type": "execute_result"
    },
    {
     "data": {
      "text/plain": [
       "0"
      ]
     },
     "execution_count": 8,
     "metadata": {},
     "output_type": "execute_result"
    },
    {
     "data": {
      "text/plain": [
       "1"
      ]
     },
     "execution_count": 8,
     "metadata": {},
     "output_type": "execute_result"
    },
    {
     "data": {
      "text/plain": [
       "4"
      ]
     },
     "execution_count": 8,
     "metadata": {},
     "output_type": "execute_result"
    }
   ],
   "source": [
    "# 例3\n",
    "a = map(lambda x: x**2, count())\n",
    "type(a)\n",
    "a.__next__()\n",
    "a.__next__()\n",
    "a.__next__()"
   ]
  },
  {
   "cell_type": "markdown",
   "metadata": {},
   "source": [
    "## cycle()"
   ]
  },
  {
   "cell_type": "code",
   "execution_count": 11,
   "metadata": {},
   "outputs": [
    {
     "data": {
      "text/plain": [
       "\u001B[1;31mInit signature:\u001B[0m \u001B[0mcycle\u001B[0m\u001B[1;33m(\u001B[0m\u001B[0mself\u001B[0m\u001B[1;33m,\u001B[0m \u001B[1;33m/\u001B[0m\u001B[1;33m,\u001B[0m \u001B[1;33m*\u001B[0m\u001B[0margs\u001B[0m\u001B[1;33m,\u001B[0m \u001B[1;33m**\u001B[0m\u001B[0mkwargs\u001B[0m\u001B[1;33m)\u001B[0m\u001B[1;33m\u001B[0m\u001B[1;33m\u001B[0m\u001B[0m\n",
       "\u001B[1;31mDocstring:\u001B[0m     \n",
       "cycle(iterable) --> cycle object\n",
       "\n",
       "Return elements from the iterable until it is exhausted.\n",
       "Then repeat the sequence indefinitely.\n",
       "\u001B[1;31mType:\u001B[0m           type\n",
       "\u001B[1;31mSubclasses:\u001B[0m     \n"
      ]
     },
     "metadata": {},
     "output_type": "display_data"
    }
   ],
   "source": [
    "?cycle"
   ]
  },
  {
   "cell_type": "code",
   "execution_count": 12,
   "metadata": {
    "ExecuteTime": {
     "end_time": "2018-02-05T23:38:32.398550Z",
     "start_time": "2018-02-05T23:38:32.385515Z"
    }
   },
   "outputs": [
    {
     "data": {
      "text/plain": [
       "itertools.cycle"
      ]
     },
     "execution_count": 12,
     "metadata": {},
     "output_type": "execute_result"
    },
    {
     "name": "stdout",
     "output_type": "stream",
     "text": [
      "1\n",
      "2\n",
      "1\n",
      "2\n",
      "1\n",
      "2\n"
     ]
    }
   ],
   "source": [
    "# 例1 list\n",
    "b = cycle([1, 2])\n",
    "type(b)\n",
    "for _ in range(6):\n",
    "    print(b.__next__())"
   ]
  },
  {
   "cell_type": "code",
   "execution_count": 13,
   "metadata": {
    "ExecuteTime": {
     "end_time": "2018-02-05T23:39:19.699832Z",
     "start_time": "2018-02-05T23:39:19.688302Z"
    }
   },
   "outputs": [
    {
     "name": "stdout",
     "output_type": "stream",
     "text": [
      "s\n",
      "y\n",
      "h\n",
      "d\n",
      "s\n",
      "y\n",
      "h\n",
      "d\n"
     ]
    }
   ],
   "source": [
    "# 例2 str\n",
    "b = cycle('syhd')\n",
    "for _ in range(8):\n",
    "    print(b.__next__())"
   ]
  },
  {
   "cell_type": "markdown",
   "metadata": {},
   "source": [
    "## repeat()"
   ]
  },
  {
   "cell_type": "code",
   "execution_count": 14,
   "metadata": {},
   "outputs": [
    {
     "data": {
      "text/plain": [
       "\u001B[1;31mInit signature:\u001B[0m \u001B[0mrepeat\u001B[0m\u001B[1;33m(\u001B[0m\u001B[0mself\u001B[0m\u001B[1;33m,\u001B[0m \u001B[1;33m/\u001B[0m\u001B[1;33m,\u001B[0m \u001B[1;33m*\u001B[0m\u001B[0margs\u001B[0m\u001B[1;33m,\u001B[0m \u001B[1;33m**\u001B[0m\u001B[0mkwargs\u001B[0m\u001B[1;33m)\u001B[0m\u001B[1;33m\u001B[0m\u001B[1;33m\u001B[0m\u001B[0m\n",
       "\u001B[1;31mDocstring:\u001B[0m     \n",
       "repeat(object [,times]) -> create an iterator which returns the object\n",
       "for the specified number of times.  If not specified, returns the object\n",
       "endlessly.\n",
       "\u001B[1;31mType:\u001B[0m           type\n",
       "\u001B[1;31mSubclasses:\u001B[0m     \n"
      ]
     },
     "metadata": {},
     "output_type": "display_data"
    }
   ],
   "source": [
    "?repeat"
   ]
  },
  {
   "cell_type": "code",
   "execution_count": 15,
   "metadata": {
    "ExecuteTime": {
     "end_time": "2018-02-05T23:40:28.904722Z",
     "start_time": "2018-02-05T23:40:28.897200Z"
    }
   },
   "outputs": [
    {
     "data": {
      "text/plain": [
       "itertools.repeat"
      ]
     },
     "execution_count": 15,
     "metadata": {},
     "output_type": "execute_result"
    },
    {
     "data": {
      "text/plain": [
       "'zyyhhzgwm'"
      ]
     },
     "execution_count": 15,
     "metadata": {},
     "output_type": "execute_result"
    },
    {
     "data": {
      "text/plain": [
       "'zyyhhzgwm'"
      ]
     },
     "execution_count": 15,
     "metadata": {},
     "output_type": "execute_result"
    }
   ],
   "source": [
    "# 例1\n",
    "c = repeat('zyyhhzgwm')\n",
    "type(c)\n",
    "c.__next__()\n",
    "c.__next__()"
   ]
  },
  {
   "cell_type": "markdown",
   "metadata": {},
   "source": [
    "<font color=\"red\">没看出来有什么意义啊，直接设定一个字符串常量不行吗？</font>"
   ]
  },
  {
   "cell_type": "code",
   "execution_count": 16,
   "metadata": {
    "ExecuteTime": {
     "end_time": "2018-02-05T23:41:09.404906Z",
     "start_time": "2018-02-05T23:41:09.394388Z"
    }
   },
   "outputs": [
    {
     "data": {
      "text/plain": [
       "'smcmywgyx'"
      ]
     },
     "execution_count": 16,
     "metadata": {},
     "output_type": "execute_result"
    },
    {
     "data": {
      "text/plain": [
       "'smcmywgyx'"
      ]
     },
     "execution_count": 16,
     "metadata": {},
     "output_type": "execute_result"
    },
    {
     "data": {
      "text/plain": [
       "StopIteration()"
      ]
     },
     "execution_count": 16,
     "metadata": {},
     "output_type": "execute_result"
    }
   ],
   "source": [
    "# 例2 指定有限的重复次数\n",
    "c = repeat('smcmywgyx', 2)\n",
    "\n",
    "c.__next__()\n",
    "c.__next__()\n",
    "\n",
    "try:\n",
    "    c.__next__()\n",
    "except Exception as e:\n",
    "    e"
   ]
  },
  {
   "cell_type": "markdown",
   "metadata": {},
   "source": [
    "## takewhile()\n",
    "* 无限序列虽然可以无限迭代下去，但是通常我们会通过`takewhile()`等函数根据条件判断来截取出一个有限的序列。\n",
    "* 当函数返回True时，收集元素到循环器；一旦函数返回False，则停止。"
   ]
  },
  {
   "cell_type": "code",
   "execution_count": 17,
   "metadata": {
    "ExecuteTime": {
     "end_time": "2018-02-06T00:52:02.197881Z",
     "start_time": "2018-02-06T00:52:02.193336Z"
    }
   },
   "outputs": [
    {
     "data": {
      "text/plain": [
       "[0, 1, 2, 3, 4]"
      ]
     },
     "execution_count": 17,
     "metadata": {},
     "output_type": "execute_result"
    }
   ],
   "source": [
    "num = cycle(range(10))\n",
    "list(takewhile(lambda x: x <= 4, num))"
   ]
  },
  {
   "cell_type": "markdown",
   "metadata": {},
   "source": [
    "# 终止于最短输入序列的迭代器\n",
    "Iterators terminating on the shortest input sequence\n",
    "\n",
    "|\tIterator\t|\tArguments\t|\tResults\t|\tExample\t|\n",
    "|\t:--\t|\t:--\t|\t:--\t|\t:--\t|\n",
    "|\taccumulate()\t|\tp, [func]\t|\tp0, p0+p1, p0+p1+p2, …\t|\taccumulate([1,2,3,4,5]) --> 1 3 6 10 15\t|\n",
    "|\tchain()\t|\tp, q, …\t|\tp0, p1, … plast, q0, q1, …\t|\tchain('ABC', 'DEF') --> A B C D E F\t|\n",
    "|\tchain.from_iterable()\t|\titerable\t|\tp0, p1, … plast, q0, q1, …\t|chain.from_iterable(['ABC', 'DEF']) --> A B C D E F|\n",
    "|\tcompress()\t|\tdata, selectors\t|\t(d[0] if s[0]), (d[1] if s[1]), …\t|\tcompress('ABCDEF', [1,0,1,0,1,1]) --> A C E F\t|\n",
    "|\tdropwhile()\t|\tpred, seq\t|\tseq[n], seq[n+1], starting when pred fails\t|\tdropwhile(lambda x: x<5, [1,4,6,4,1]) --> 6 4 1\t|\n",
    "|\tfilterfalse()|pred, seq\t|elements of seq where pred(elem) is false|filterfalse(lambda x: x%2, range(10)) --> 0 2 4 6 8\t|\n",
    "|\tgroupby()\t|\titerable[, keyfunc]\t|\tsub-iterators grouped by value of keyfunc(v)\t|\t\t|\n",
    "|\tislice()|\tseq, [start,] stop, [step]\t|\telements from seq[start:stop:step]\t|\tislice('ABCDEFG', 2, None) --> C D E F G\t|\n",
    "|\tstarmap()\t|\tfunc, seq\t|\tfunc(*seq[0]), func(*seq[1]), …\t|\tstarmap(pow, [(2,5), (3,2), (10,3)]) --> 32 9 1000\t|\n",
    "|\ttakewhile()\t|\tpred, seq\t|\tseq[0], seq[1], until pred fails\t|\ttakewhile(lambda x: x<5, [1,4,6,4,1]) --> 1 4\t|\n",
    "|\ttee()\t|\tit, n\t|\tit1, it2, … itn splits one iterator into n\t|\t\t|\n",
    "|\tzip_longest()\t|\tp, q, …\t|\t(p[0], q[0]), (p[1], q[1]), …\t|\tzip_longest('ABCD', 'xy', fillvalue='-') --> Ax By C-D-\t|\n"
   ]
  },
  {
   "cell_type": "markdown",
   "metadata": {},
   "source": [
    "## accumulate()\n",
    "前n项和"
   ]
  },
  {
   "cell_type": "code",
   "execution_count": 3,
   "metadata": {},
   "outputs": [
    {
     "data": {
      "text/plain": [
       "\u001B[1;31mInit signature:\u001B[0m \u001B[0maccumulate\u001B[0m\u001B[1;33m(\u001B[0m\u001B[0mself\u001B[0m\u001B[1;33m,\u001B[0m \u001B[1;33m/\u001B[0m\u001B[1;33m,\u001B[0m \u001B[1;33m*\u001B[0m\u001B[0margs\u001B[0m\u001B[1;33m,\u001B[0m \u001B[1;33m**\u001B[0m\u001B[0mkwargs\u001B[0m\u001B[1;33m)\u001B[0m\u001B[1;33m\u001B[0m\u001B[1;33m\u001B[0m\u001B[0m\n",
       "\u001B[1;31mDocstring:\u001B[0m     \n",
       "accumulate(iterable[, func]) --> accumulate object\n",
       "\n",
       "Return series of accumulated sums (or other binary function results).\n",
       "\u001B[1;31mType:\u001B[0m           type\n",
       "\u001B[1;31mSubclasses:\u001B[0m     \n"
      ]
     },
     "metadata": {},
     "output_type": "display_data"
    }
   ],
   "source": [
    "?accumulate"
   ]
  },
  {
   "cell_type": "code",
   "execution_count": 4,
   "metadata": {
    "ExecuteTime": {
     "end_time": "2018-02-06T16:02:41.332375Z",
     "start_time": "2018-02-07T00:02:41.327580+08:00"
    }
   },
   "outputs": [
    {
     "data": {
      "text/plain": [
       "[1, 3, 6, 10, 15]"
      ]
     },
     "execution_count": 4,
     "metadata": {},
     "output_type": "execute_result"
    }
   ],
   "source": [
    "# 例1\n",
    "list(accumulate(range(1, 6)))"
   ]
  },
  {
   "cell_type": "markdown",
   "metadata": {},
   "source": [
    "$[a_i, ...], 1\\leq i\\leq n$，则$b_1=a_1, b_i=f(b_{i-1}, a_i)$"
   ]
  },
  {
   "cell_type": "code",
   "execution_count": 5,
   "metadata": {
    "ExecuteTime": {
     "end_time": "2018-02-06T16:04:56.334626Z",
     "start_time": "2018-02-07T00:04:56.330616+08:00"
    }
   },
   "outputs": [
    {
     "data": {
      "text/plain": [
       "[1, 3, 12, 148, 21909]"
      ]
     },
     "execution_count": 5,
     "metadata": {},
     "output_type": "execute_result"
    }
   ],
   "source": [
    "# 例2\n",
    "list(accumulate(range(1, 6), lambda x, y: x**2 + y))"
   ]
  },
  {
   "cell_type": "code",
   "execution_count": 6,
   "metadata": {},
   "outputs": [
    {
     "data": {
      "text/plain": [
       "[1, 3, 12, 148, 21909]"
      ]
     },
     "execution_count": 6,
     "metadata": {},
     "output_type": "execute_result"
    }
   ],
   "source": [
    "al = list(range(1, 6))\n",
    "bl = [al[0]]\n",
    "f = lambda x, y: x**2 + y\n",
    "for i in range(1, len(al)):\n",
    "    bl.append(f(bl[-1], al[i]))\n",
    "bl"
   ]
  },
  {
   "cell_type": "code",
   "execution_count": 41,
   "metadata": {},
   "outputs": [
    {
     "data": {
      "text/plain": [
       "[3, 12, 72, 144, 144, 1296, 0, 0, 0, 0]"
      ]
     },
     "execution_count": 41,
     "metadata": {},
     "output_type": "execute_result"
    },
    {
     "data": {
      "text/plain": [
       "[3, 3, 3, 2, 1, 1, 0, 0, 0, 0]"
      ]
     },
     "execution_count": 41,
     "metadata": {},
     "output_type": "execute_result"
    },
    {
     "data": {
      "text/plain": [
       "[3, 4, 6, 6, 6, 9, 9, 9, 9, 9]"
      ]
     },
     "execution_count": 41,
     "metadata": {},
     "output_type": "execute_result"
    }
   ],
   "source": [
    "# 例3\n",
    "from operator import mul\n",
    "\n",
    "data = [3, 4, 6, 2, 1, 9, 0, 7, 5, 8]\n",
    "list(accumulate(data, mul)) \n",
    "list(accumulate(data, min))\n",
    "list(accumulate(data, max))"
   ]
  },
  {
   "cell_type": "markdown",
   "metadata": {},
   "source": [
    "## chain()\n",
    "把一组可迭代对象串联起来，形成一个更大的迭代器"
   ]
  },
  {
   "cell_type": "code",
   "execution_count": 8,
   "metadata": {
    "ExecuteTime": {
     "end_time": "2018-02-06T16:07:30.736705Z",
     "start_time": "2018-02-07T00:07:30.732694+08:00"
    }
   },
   "outputs": [
    {
     "data": {
      "text/plain": [
       "['a', 'b', 'c', 'd', 'e', 'f']"
      ]
     },
     "execution_count": 8,
     "metadata": {},
     "output_type": "execute_result"
    }
   ],
   "source": [
    "# 例1\n",
    "list(chain('abc', 'def'))"
   ]
  },
  {
   "cell_type": "code",
   "execution_count": 9,
   "metadata": {
    "ExecuteTime": {
     "end_time": "2018-02-06T16:08:06.628623Z",
     "start_time": "2018-02-07T00:08:06.624613+08:00"
    }
   },
   "outputs": [
    {
     "data": {
      "text/plain": [
       "['a', 'b', 'c', 'd', 'e', 'f']"
      ]
     },
     "execution_count": 9,
     "metadata": {},
     "output_type": "execute_result"
    }
   ],
   "source": [
    "# 例2\n",
    "list(chain('ab', 'cd', 'ef'))"
   ]
  },
  {
   "cell_type": "markdown",
   "metadata": {},
   "source": [
    "## chain.from_iterable() "
   ]
  },
  {
   "cell_type": "code",
   "execution_count": 10,
   "metadata": {
    "ExecuteTime": {
     "end_time": "2018-02-06T16:10:09.531805Z",
     "start_time": "2018-02-07T00:10:09.527793+08:00"
    }
   },
   "outputs": [
    {
     "data": {
      "text/plain": [
       "['A', 'B', 'C', 'D', 'E', 'F']"
      ]
     },
     "execution_count": 10,
     "metadata": {},
     "output_type": "execute_result"
    }
   ],
   "source": [
    "list(chain.from_iterable(['ABC', 'DEF']))"
   ]
  },
  {
   "cell_type": "code",
   "execution_count": 11,
   "metadata": {
    "ExecuteTime": {
     "end_time": "2018-02-06T16:10:50.769988Z",
     "start_time": "2018-02-07T00:10:50.765977+08:00"
    }
   },
   "outputs": [
    {
     "data": {
      "text/plain": [
       "['a', 'b', 'c', 'd', 'e', 'f']"
      ]
     },
     "execution_count": 11,
     "metadata": {},
     "output_type": "execute_result"
    }
   ],
   "source": [
    "list(chain.from_iterable(['ab', 'cd', 'ef']))"
   ]
  },
  {
   "cell_type": "markdown",
   "metadata": {},
   "source": [
    "## groupby()\n",
    "* 把迭代器中**相邻的**重复元素挑出来放在一起\n",
    "* 实际上挑选规则是通过函数完成的，只要作用于函数的两个元素返回的值相等，这两个元素就被认为是在一组的，而函数返回值作为组的key"
   ]
  },
  {
   "cell_type": "code",
   "execution_count": 15,
   "metadata": {},
   "outputs": [
    {
     "data": {
      "text/plain": [
       "\u001B[1;31mInit signature:\u001B[0m \u001B[0mgroupby\u001B[0m\u001B[1;33m(\u001B[0m\u001B[0mself\u001B[0m\u001B[1;33m,\u001B[0m \u001B[1;33m/\u001B[0m\u001B[1;33m,\u001B[0m \u001B[1;33m*\u001B[0m\u001B[0margs\u001B[0m\u001B[1;33m,\u001B[0m \u001B[1;33m**\u001B[0m\u001B[0mkwargs\u001B[0m\u001B[1;33m)\u001B[0m\u001B[1;33m\u001B[0m\u001B[1;33m\u001B[0m\u001B[0m\n",
       "\u001B[1;31mDocstring:\u001B[0m     \n",
       "groupby(iterable, key=None) -> make an iterator that returns consecutive\n",
       "keys and groups from the iterable.  If the key function is not specified or\n",
       "is None, the element itself is used for grouping.\n",
       "\u001B[1;31mType:\u001B[0m           type\n",
       "\u001B[1;31mSubclasses:\u001B[0m     \n"
      ]
     },
     "metadata": {},
     "output_type": "display_data"
    }
   ],
   "source": [
    "?groupby"
   ]
  },
  {
   "cell_type": "code",
   "execution_count": 20,
   "metadata": {
    "ExecuteTime": {
     "end_time": "2018-02-06T16:17:39.780681Z",
     "start_time": "2018-02-07T00:17:39.776878+08:00"
    }
   },
   "outputs": [
    {
     "name": "stdout",
     "output_type": "stream",
     "text": [
      "A ['A']\n",
      "a ['a', 'a']\n",
      "B ['B', 'B']\n",
      "b ['b']\n",
      "c ['c']\n",
      "C ['C']\n",
      "A ['A', 'A']\n",
      "a ['a']\n"
     ]
    }
   ],
   "source": [
    "# 例1\n",
    "for key, group in groupby('AaaBBbcCAAa'):\n",
    "    print(key, list(group))"
   ]
  },
  {
   "cell_type": "code",
   "execution_count": 21,
   "metadata": {
    "ExecuteTime": {
     "end_time": "2018-02-06T16:17:43.178209Z",
     "start_time": "2018-02-07T00:17:43.173697+08:00"
    }
   },
   "outputs": [
    {
     "name": "stdout",
     "output_type": "stream",
     "text": [
      "A ['A', 'a', 'a']\n",
      "B ['B', 'B', 'b']\n",
      "C ['c', 'C']\n",
      "A ['A', 'A', 'a']\n"
     ]
    }
   ],
   "source": [
    "# 例2\n",
    "for key, group in groupby('AaaBBbcCAAa', lambda c: c.upper()):\n",
    "    print(key, list(group))"
   ]
  },
  {
   "cell_type": "markdown",
   "metadata": {},
   "source": [
    "## starmap()"
   ]
  },
  {
   "cell_type": "code",
   "execution_count": 16,
   "metadata": {},
   "outputs": [
    {
     "data": {
      "text/plain": [
       "\u001B[1;31mInit signature:\u001B[0m \u001B[0mstarmap\u001B[0m\u001B[1;33m(\u001B[0m\u001B[0mself\u001B[0m\u001B[1;33m,\u001B[0m \u001B[1;33m/\u001B[0m\u001B[1;33m,\u001B[0m \u001B[1;33m*\u001B[0m\u001B[0margs\u001B[0m\u001B[1;33m,\u001B[0m \u001B[1;33m**\u001B[0m\u001B[0mkwargs\u001B[0m\u001B[1;33m)\u001B[0m\u001B[1;33m\u001B[0m\u001B[1;33m\u001B[0m\u001B[0m\n",
       "\u001B[1;31mDocstring:\u001B[0m     \n",
       "starmap(function, sequence) --> starmap object\n",
       "\n",
       "Return an iterator whose values are returned from the function evaluated\n",
       "with an argument tuple taken from the given sequence.\n",
       "\u001B[1;31mType:\u001B[0m           type\n",
       "\u001B[1;31mSubclasses:\u001B[0m     \n"
      ]
     },
     "metadata": {},
     "output_type": "display_data"
    }
   ],
   "source": [
    "?starmap"
   ]
  },
  {
   "cell_type": "code",
   "execution_count": 17,
   "metadata": {
    "ExecuteTime": {
     "end_time": "2018-02-06T16:14:54.755422Z",
     "start_time": "2018-02-07T00:14:54.748904+08:00"
    }
   },
   "outputs": [
    {
     "data": {
      "text/plain": [
       "map"
      ]
     },
     "execution_count": 17,
     "metadata": {},
     "output_type": "execute_result"
    },
    {
     "data": {
      "text/plain": [
       "itertools.starmap"
      ]
     },
     "execution_count": 17,
     "metadata": {},
     "output_type": "execute_result"
    }
   ],
   "source": [
    "map_obj = map(pow, [1, 2, 3], [1, 2, 3])\n",
    "starmap_obj = starmap(pow, [(1, 1), (2, 2), (3, 3)])\n",
    "\n",
    "type(map_obj)\n",
    "type(starmap_obj)"
   ]
  },
  {
   "cell_type": "code",
   "execution_count": 18,
   "metadata": {},
   "outputs": [
    {
     "data": {
      "text/plain": [
       "[1, 4, 27]"
      ]
     },
     "execution_count": 18,
     "metadata": {},
     "output_type": "execute_result"
    },
    {
     "data": {
      "text/plain": [
       "[1, 4, 27]"
      ]
     },
     "execution_count": 18,
     "metadata": {},
     "output_type": "execute_result"
    }
   ],
   "source": [
    "list(map_obj)\n",
    "list(starmap_obj)"
   ]
  },
  {
   "cell_type": "code",
   "execution_count": 22,
   "metadata": {},
   "outputs": [
    {
     "data": {
      "text/plain": [
       "[1, 4, 27]"
      ]
     },
     "execution_count": 22,
     "metadata": {},
     "output_type": "execute_result"
    },
    {
     "data": {
      "text/plain": [
       "[1, 4, 27]"
      ]
     },
     "execution_count": 22,
     "metadata": {},
     "output_type": "execute_result"
    }
   ],
   "source": [
    "list(map(pow, *zip(*[(1, 1), (2, 2), (3, 3)])))\n",
    "list(starmap(pow, zip([1, 2, 3], [1, 2, 3])))"
   ]
  },
  {
   "cell_type": "markdown",
   "metadata": {},
   "source": [
    "`map`和`starmap`作用类似，只是传参的方式不同，可以通过`zip`等价实现。"
   ]
  },
  {
   "cell_type": "markdown",
   "metadata": {},
   "source": [
    "## zip_longest()"
   ]
  },
  {
   "cell_type": "code",
   "execution_count": 23,
   "metadata": {},
   "outputs": [
    {
     "data": {
      "text/plain": [
       "\u001B[1;31mInit signature:\u001B[0m \u001B[0mzip_longest\u001B[0m\u001B[1;33m(\u001B[0m\u001B[0mself\u001B[0m\u001B[1;33m,\u001B[0m \u001B[1;33m/\u001B[0m\u001B[1;33m,\u001B[0m \u001B[1;33m*\u001B[0m\u001B[0margs\u001B[0m\u001B[1;33m,\u001B[0m \u001B[1;33m**\u001B[0m\u001B[0mkwargs\u001B[0m\u001B[1;33m)\u001B[0m\u001B[1;33m\u001B[0m\u001B[1;33m\u001B[0m\u001B[0m\n",
       "\u001B[1;31mDocstring:\u001B[0m     \n",
       "zip_longest(iter1 [,iter2 [...]], [fillvalue=None]) --> zip_longest object\n",
       "\n",
       "Return a zip_longest object whose .__next__() method returns a tuple where\n",
       "the i-th element comes from the i-th iterable argument.  The .__next__()\n",
       "method continues until the longest iterable in the argument sequence\n",
       "is exhausted and then it raises StopIteration.  When the shorter iterables\n",
       "are exhausted, the fillvalue is substituted in their place.  The fillvalue\n",
       "defaults to None or can be specified by a keyword argument.\n",
       "\u001B[1;31mType:\u001B[0m           type\n",
       "\u001B[1;31mSubclasses:\u001B[0m     \n"
      ]
     },
     "metadata": {},
     "output_type": "display_data"
    }
   ],
   "source": [
    "?zip_longest"
   ]
  },
  {
   "cell_type": "code",
   "execution_count": 24,
   "metadata": {},
   "outputs": [
    {
     "data": {
      "text/plain": [
       "[(0, 0), (1, 1), (2, 2), ('*', 3), ('*', 4), ('*', 5)]"
      ]
     },
     "execution_count": 24,
     "metadata": {},
     "output_type": "execute_result"
    }
   ],
   "source": [
    "list(zip_longest(range(3), range(6), fillvalue='*'))"
   ]
  },
  {
   "cell_type": "markdown",
   "metadata": {},
   "source": [
    "# 排列组合迭代器\n",
    "Combinatoric generators\n",
    "\n",
    "|Iterator|Arguments|Results|\n",
    "|:--|:--|:--|\n",
    "|product()|p, q, … [repeat=1]|cartesian product, equivalent to a nested for-loop|\n",
    "|permutations()|p[, r]|r-length tuples, all possible orderings, no repeated elements|\n",
    "|combinations()|p, r|r-length tuples, in sorted order, no repeated elements|\n",
    "|combinations_with_replacement()|p, r|r-length tuples, in sorted order, with repeated elements|\n",
    "|product('ABCD', repeat=2)| |AA AB AC AD BA BB BC BD CA CB CC CD DA DB DC DD|\n",
    "|permutations('ABCD', 2)| |AB AC AD BA BC BD CA CB CD DA DB DC|\n",
    "|combinations('ABCD', 2)| |AB AC AD BC BD CD|\n",
    "|combinations_with_replacement('ABCD', 2)| |AA AB AC AD BB BC BD CC CD DD|"
   ]
  },
  {
   "cell_type": "markdown",
   "metadata": {},
   "source": [
    "## product"
   ]
  },
  {
   "cell_type": "code",
   "execution_count": 25,
   "metadata": {
    "ExecuteTime": {
     "end_time": "2018-02-06T16:37:10.497352Z",
     "start_time": "2018-02-07T00:37:10.493340+08:00"
    }
   },
   "outputs": [
    {
     "data": {
      "text/plain": [
       "[('A', 'x'),\n",
       " ('A', 'y'),\n",
       " ('B', 'x'),\n",
       " ('B', 'y'),\n",
       " ('C', 'x'),\n",
       " ('C', 'y'),\n",
       " ('D', 'x'),\n",
       " ('D', 'y')]"
      ]
     },
     "execution_count": 25,
     "metadata": {},
     "output_type": "execute_result"
    }
   ],
   "source": [
    "list(product('ABCD', 'xy'))"
   ]
  },
  {
   "cell_type": "code",
   "execution_count": 26,
   "metadata": {
    "ExecuteTime": {
     "end_time": "2018-02-06T16:38:14.843649Z",
     "start_time": "2018-02-07T00:38:14.838636+08:00"
    }
   },
   "outputs": [
    {
     "data": {
      "text/plain": [
       "[(0, 0, 0),\n",
       " (0, 0, 1),\n",
       " (0, 1, 0),\n",
       " (0, 1, 1),\n",
       " (1, 0, 0),\n",
       " (1, 0, 1),\n",
       " (1, 1, 0),\n",
       " (1, 1, 1)]"
      ]
     },
     "execution_count": 26,
     "metadata": {},
     "output_type": "execute_result"
    }
   ],
   "source": [
    "list(product(range(2), repeat=3))"
   ]
  },
  {
   "cell_type": "markdown",
   "metadata": {},
   "source": [
    "## permutations()\n",
    "排列，$A_n^m, m\\leq n$"
   ]
  },
  {
   "cell_type": "code",
   "execution_count": 28,
   "metadata": {},
   "outputs": [
    {
     "data": {
      "text/plain": [
       "\u001B[1;31mInit signature:\u001B[0m \u001B[0mpermutations\u001B[0m\u001B[1;33m(\u001B[0m\u001B[0mself\u001B[0m\u001B[1;33m,\u001B[0m \u001B[1;33m/\u001B[0m\u001B[1;33m,\u001B[0m \u001B[1;33m*\u001B[0m\u001B[0margs\u001B[0m\u001B[1;33m,\u001B[0m \u001B[1;33m**\u001B[0m\u001B[0mkwargs\u001B[0m\u001B[1;33m)\u001B[0m\u001B[1;33m\u001B[0m\u001B[1;33m\u001B[0m\u001B[0m\n",
       "\u001B[1;31mDocstring:\u001B[0m     \n",
       "permutations(iterable[, r]) --> permutations object\n",
       "\n",
       "Return successive r-length permutations of elements in the iterable.\n",
       "\n",
       "permutations(range(3), 2) --> (0,1), (0,2), (1,0), (1,2), (2,0), (2,1)\n",
       "\u001B[1;31mType:\u001B[0m           type\n",
       "\u001B[1;31mSubclasses:\u001B[0m     \n"
      ]
     },
     "metadata": {},
     "output_type": "display_data"
    }
   ],
   "source": [
    "?permutations"
   ]
  },
  {
   "cell_type": "code",
   "execution_count": 27,
   "metadata": {
    "ExecuteTime": {
     "end_time": "2018-02-06T16:41:54.062880Z",
     "start_time": "2018-02-07T00:41:54.057330+08:00"
    }
   },
   "outputs": [
    {
     "data": {
      "text/plain": [
       "[(0, 1, 2, 3),\n",
       " (0, 1, 3, 2),\n",
       " (0, 2, 1, 3),\n",
       " (0, 2, 3, 1),\n",
       " (0, 3, 1, 2),\n",
       " (0, 3, 2, 1),\n",
       " (1, 0, 2, 3),\n",
       " (1, 0, 3, 2),\n",
       " (1, 2, 0, 3),\n",
       " (1, 2, 3, 0),\n",
       " (1, 3, 0, 2),\n",
       " (1, 3, 2, 0),\n",
       " (2, 0, 1, 3),\n",
       " (2, 0, 3, 1),\n",
       " (2, 1, 0, 3),\n",
       " (2, 1, 3, 0),\n",
       " (2, 3, 0, 1),\n",
       " (2, 3, 1, 0),\n",
       " (3, 0, 1, 2),\n",
       " (3, 0, 2, 1),\n",
       " (3, 1, 0, 2),\n",
       " (3, 1, 2, 0),\n",
       " (3, 2, 0, 1),\n",
       " (3, 2, 1, 0)]"
      ]
     },
     "execution_count": 27,
     "metadata": {},
     "output_type": "execute_result"
    }
   ],
   "source": [
    "list(permutations(range(4)))"
   ]
  },
  {
   "cell_type": "code",
   "execution_count": 35,
   "metadata": {},
   "outputs": [
    {
     "data": {
      "text/plain": [
       "[(0,), (1,), (2,), (3,)]"
      ]
     },
     "execution_count": 35,
     "metadata": {},
     "output_type": "execute_result"
    }
   ],
   "source": [
    "list(permutations(range(4), 1))  # 得到的总是tuple，即便长度为1"
   ]
  },
  {
   "cell_type": "code",
   "execution_count": 29,
   "metadata": {
    "ExecuteTime": {
     "end_time": "2018-02-06T16:42:11.521958Z",
     "start_time": "2018-02-07T00:42:11.517446+08:00"
    }
   },
   "outputs": [
    {
     "data": {
      "text/plain": [
       "[(0, 1),\n",
       " (0, 2),\n",
       " (0, 3),\n",
       " (1, 0),\n",
       " (1, 2),\n",
       " (1, 3),\n",
       " (2, 0),\n",
       " (2, 1),\n",
       " (2, 3),\n",
       " (3, 0),\n",
       " (3, 1),\n",
       " (3, 2)]"
      ]
     },
     "execution_count": 29,
     "metadata": {},
     "output_type": "execute_result"
    }
   ],
   "source": [
    "list(permutations(range(4), 2))"
   ]
  },
  {
   "cell_type": "markdown",
   "metadata": {},
   "source": [
    "## combinations\n",
    "组合，$C_n^m, m\\leq n$"
   ]
  },
  {
   "cell_type": "code",
   "execution_count": 34,
   "metadata": {},
   "outputs": [
    {
     "data": {
      "text/plain": [
       "\u001B[1;31mInit signature:\u001B[0m \u001B[0mcombinations\u001B[0m\u001B[1;33m(\u001B[0m\u001B[0mself\u001B[0m\u001B[1;33m,\u001B[0m \u001B[1;33m/\u001B[0m\u001B[1;33m,\u001B[0m \u001B[1;33m*\u001B[0m\u001B[0margs\u001B[0m\u001B[1;33m,\u001B[0m \u001B[1;33m**\u001B[0m\u001B[0mkwargs\u001B[0m\u001B[1;33m)\u001B[0m\u001B[1;33m\u001B[0m\u001B[1;33m\u001B[0m\u001B[0m\n",
       "\u001B[1;31mDocstring:\u001B[0m     \n",
       "combinations(iterable, r) --> combinations object\n",
       "\n",
       "Return successive r-length combinations of elements in the iterable.\n",
       "\n",
       "combinations(range(4), 3) --> (0,1,2), (0,1,3), (0,2,3), (1,2,3)\n",
       "\u001B[1;31mType:\u001B[0m           type\n",
       "\u001B[1;31mSubclasses:\u001B[0m     \n"
      ]
     },
     "metadata": {},
     "output_type": "display_data"
    }
   ],
   "source": [
    "?combinations"
   ]
  },
  {
   "cell_type": "code",
   "execution_count": 33,
   "metadata": {},
   "outputs": [
    {
     "data": {
      "text/plain": [
       "[(0,), (1,), (2,), (3,)]"
      ]
     },
     "execution_count": 33,
     "metadata": {},
     "output_type": "execute_result"
    }
   ],
   "source": [
    "list(combinations(range(4), 1))"
   ]
  },
  {
   "cell_type": "code",
   "execution_count": 30,
   "metadata": {
    "ExecuteTime": {
     "end_time": "2018-02-06T16:42:58.286839Z",
     "start_time": "2018-02-07T00:42:58.281824+08:00"
    }
   },
   "outputs": [
    {
     "data": {
      "text/plain": [
       "[(0, 1), (0, 2), (0, 3), (1, 2), (1, 3), (2, 3)]"
      ]
     },
     "execution_count": 30,
     "metadata": {},
     "output_type": "execute_result"
    }
   ],
   "source": [
    "list(combinations(range(4), 2))"
   ]
  },
  {
   "cell_type": "code",
   "execution_count": 31,
   "metadata": {},
   "outputs": [
    {
     "data": {
      "text/plain": [
       "[(0, 1, 2), (0, 1, 3), (0, 2, 3), (1, 2, 3)]"
      ]
     },
     "execution_count": 31,
     "metadata": {},
     "output_type": "execute_result"
    }
   ],
   "source": [
    "list(combinations(range(4), 3))"
   ]
  },
  {
   "cell_type": "code",
   "execution_count": 32,
   "metadata": {},
   "outputs": [
    {
     "data": {
      "text/plain": [
       "[(0, 1, 2, 3)]"
      ]
     },
     "execution_count": 32,
     "metadata": {},
     "output_type": "execute_result"
    }
   ],
   "source": [
    "list(combinations(range(4), 4))"
   ]
  },
  {
   "cell_type": "markdown",
   "metadata": {},
   "source": [
    "## combinations_with_replacement()\n",
    "带放回的组合"
   ]
  },
  {
   "cell_type": "code",
   "execution_count": 36,
   "metadata": {
    "ExecuteTime": {
     "end_time": "2018-02-06T16:43:45.407905Z",
     "start_time": "2018-02-07T00:43:45.403894+08:00"
    }
   },
   "outputs": [
    {
     "data": {
      "text/plain": [
       "[(0, 0),\n",
       " (0, 1),\n",
       " (0, 2),\n",
       " (0, 3),\n",
       " (1, 1),\n",
       " (1, 2),\n",
       " (1, 3),\n",
       " (2, 2),\n",
       " (2, 3),\n",
       " (3, 3)]"
      ]
     },
     "execution_count": 36,
     "metadata": {},
     "output_type": "execute_result"
    }
   ],
   "source": [
    "list(combinations_with_replacement(range(4), 2))"
   ]
  },
  {
   "cell_type": "code",
   "execution_count": 37,
   "metadata": {},
   "outputs": [
    {
     "data": {
      "text/plain": [
       "[(0,), (1,), (2,), (3,)]"
      ]
     },
     "execution_count": 37,
     "metadata": {},
     "output_type": "execute_result"
    }
   ],
   "source": [
    "list(combinations_with_replacement(range(4), 1))"
   ]
  },
  {
   "cell_type": "code",
   "execution_count": null,
   "metadata": {},
   "outputs": [],
   "source": []
  }
 ],
 "metadata": {
  "anaconda-cloud": {},
  "celltoolbar": "Initialization Cell",
  "hide_input": false,
  "kernelspec": {
   "display_name": "python37",
   "language": "python",
   "name": "python37"
  },
  "language_info": {
   "codemirror_mode": {
    "name": "ipython",
    "version": 3
   },
   "file_extension": ".py",
   "mimetype": "text/x-python",
   "name": "python",
   "nbconvert_exporter": "python",
   "pygments_lexer": "ipython3",
   "version": "3.7.1"
  },
  "toc": {
   "nav_menu": {},
   "number_sections": true,
   "sideBar": true,
   "skip_h1_title": false,
   "title_cell": "Table of Contents",
   "title_sidebar": "Contents",
   "toc_cell": false,
   "toc_position": {},
   "toc_section_display": true,
   "toc_window_display": false
  },
  "varInspector": {
   "cols": {
    "lenName": 16,
    "lenType": 16,
    "lenVar": 40
   },
   "kernels_config": {
    "python": {
     "delete_cmd_postfix": "",
     "delete_cmd_prefix": "del ",
     "library": "var_list.py",
     "varRefreshCmd": "print(var_dic_list())"
    },
    "r": {
     "delete_cmd_postfix": ") ",
     "delete_cmd_prefix": "rm(",
     "library": "var_list.r",
     "varRefreshCmd": "cat(var_dic_list()) "
    }
   },
   "types_to_exclude": [
    "module",
    "function",
    "builtin_function_or_method",
    "instance",
    "_Feature"
   ],
   "window_display": false
  }
 },
 "nbformat": 4,
 "nbformat_minor": 4
}