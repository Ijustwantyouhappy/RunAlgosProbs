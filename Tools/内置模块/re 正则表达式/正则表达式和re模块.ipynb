{
 "cells": [
  {
   "cell_type": "code",
   "execution_count": 1,
   "metadata": {
    "ExecuteTime": {
     "end_time": "2019-10-18T06:14:27.766747Z",
     "start_time": "2019-10-18T06:14:27.499461Z"
    }
   },
   "outputs": [
    {
     "data": {
      "text/plain": [
       "'system: Microsoft Windows 10 教育版, 18363, 64 位'"
      ]
     },
     "execution_count": 1,
     "metadata": {},
     "output_type": "execute_result"
    },
    {
     "data": {
      "text/plain": [
       "'memory: 15.86G'"
      ]
     },
     "execution_count": 1,
     "metadata": {},
     "output_type": "execute_result"
    },
    {
     "data": {
      "text/plain": [
       "'cpu: 4'"
      ]
     },
     "execution_count": 1,
     "metadata": {},
     "output_type": "execute_result"
    },
    {
     "data": {
      "text/plain": [
       "'python: 3.7.1 (default, Oct 28 2018, 08:39:03) [MSC v.1912 64 bit (AMD64)]'"
      ]
     },
     "execution_count": 1,
     "metadata": {},
     "output_type": "execute_result"
    },
    {
     "data": {
      "text/plain": [
       "'2020-10-08 23:34:42'"
      ]
     },
     "execution_count": 1,
     "metadata": {},
     "output_type": "execute_result"
    }
   ],
   "source": [
    "import sys, time, wmi, psutil\n",
    "SYSTEM_INFO = wmi.WMI().Win32_OperatingSystem()[0]\n",
    "\"system: {0}, {1}, {2}\".format(SYSTEM_INFO.Caption, SYSTEM_INFO.BuildNumber, SYSTEM_INFO.OSArchitecture) \n",
    "\"memory: {}G\".format(round(psutil.virtual_memory().total / 1024**3, 2))\n",
    "\"cpu: {}\".format(psutil.cpu_count())\n",
    "\"python: {}\".format(sys.version)\n",
    "time.strftime('%Y-%m-%d %H:%M:%S', time.localtime(time.time()))"
   ]
  },
  {
   "cell_type": "markdown",
   "metadata": {},
   "source": [
    "- **@author**: run_walker\n",
    "- **@references**:\n",
    "    1. 精通python网络爬虫  韦玮\n",
    "    2. [github > learn-regex](https://github.com/ziishaned/learn-regex/blob/master/translations/README-cn.md)\n",
    "    3. [在线正则表达式测试](http://tool.oschina.net/regex/)\n",
    "    4. [Python--详解Python中re.sub](https://blog.csdn.net/Mrzhoug/article/details/51585615)\n",
    "    5. [正则表达式匹配中文及符号、英文及符号数字空格换行符及常用正则表达式](https://blog.csdn.net/LiMing_0820/article/details/72919698)\n",
    "    6. [最全的常用正则表达式大全——包括校验数字、字符、一些特殊的需求等等](https://www.cnblogs.com/zxin/archive/2013/01/26/2877765.html)"
   ]
  },
  {
   "cell_type": "code",
   "execution_count": 2,
   "metadata": {
    "ExecuteTime": {
     "end_time": "2019-10-21T14:15:59.246119Z",
     "start_time": "2019-10-21T14:15:59.242157Z"
    }
   },
   "outputs": [],
   "source": [
    "import re "
   ]
  },
  {
   "cell_type": "markdown",
   "metadata": {},
   "source": [
    "# 原子\n",
    "正则表达式中最基本的组成单位，每个正则表达式中至少要包含一个原子。"
   ]
  },
  {
   "cell_type": "markdown",
   "metadata": {},
   "source": [
    "## 普通字符\n",
    "数字、大小写、下划线等。"
   ]
  },
  {
   "cell_type": "code",
   "execution_count": 6,
   "metadata": {
    "ExecuteTime": {
     "end_time": "2019-10-06T14:29:49.714772Z",
     "start_time": "2019-10-06T14:29:49.709760Z"
    }
   },
   "outputs": [
    {
     "data": {
      "text/plain": [
       "<_sre.SRE_Match object; span=(4, 7), match='yue'>"
      ]
     },
     "execution_count": 6,
     "metadata": {},
     "output_type": "execute_result"
    }
   ],
   "source": [
    "pattern = \"yue\"\n",
    "string = \"dfsdyuedd,df/yue\"\n",
    "re.search(pattern, string)"
   ]
  },
  {
   "cell_type": "markdown",
   "metadata": {},
   "source": [
    "## 转码特殊字符\n",
    "反斜线`\\`在表达式中用于转码紧跟其后的字符。用于指定`{ } [ ] / \\ + * . $ ^ | ?`这些特殊字符。如果想要匹配这些特殊字符则要在其前面加上反斜线`\\`。\n",
    "\n",
    "例如`.`是用来匹配除换行符外的所有字符的。如果想要匹配句子中的`.`则要写成`\\.`。"
   ]
  },
  {
   "cell_type": "markdown",
   "metadata": {},
   "source": [
    "## 非打印字符\n",
    "格式控制的符号。\n",
    "\n",
    "|符号|含义|\n",
    "|--|--|\n",
    "|\\n|换行符|\n",
    "|\\r|回车符|\n",
    "|\\f|换页符|\n",
    "|\\t|制表符|\n",
    "|\\v|垂直制表符|\n",
    "|\\p|匹配 CR/LF（等同于 \\r\\n），用来匹配DOS行终止符|"
   ]
  },
  {
   "cell_type": "code",
   "execution_count": 19,
   "metadata": {
    "ExecuteTime": {
     "end_time": "2019-10-06T14:49:51.524480Z",
     "start_time": "2019-10-06T14:49:51.518510Z"
    }
   },
   "outputs": [
    {
     "data": {
      "text/plain": [
       "False"
      ]
     },
     "execution_count": 19,
     "metadata": {},
     "output_type": "execute_result"
    },
    {
     "data": {
      "text/plain": [
       "False"
      ]
     },
     "execution_count": 19,
     "metadata": {},
     "output_type": "execute_result"
    }
   ],
   "source": [
    "'\\n'.isprintable()\n",
    "'\\t'.isprintable()"
   ]
  },
  {
   "cell_type": "code",
   "execution_count": 5,
   "metadata": {
    "ExecuteTime": {
     "end_time": "2019-04-07T15:48:42.337101Z",
     "start_time": "2019-04-07T23:48:42.332114+08:00"
    }
   },
   "outputs": [
    {
     "data": {
      "text/plain": [
       "<_sre.SRE_Match object; span=(5, 6), match='\\n'>"
      ]
     },
     "execution_count": 5,
     "metadata": {},
     "output_type": "execute_result"
    }
   ],
   "source": [
    "pattern = \"\\n\"\n",
    "string = \"\"\"line1\n",
    "line2\"\"\"\n",
    "re.search(pattern, string)"
   ]
  },
  {
   "cell_type": "markdown",
   "metadata": {},
   "source": [
    "## 通用字符\n",
    "一个原子匹配一类字符\n",
    "\n",
    "|符号|含义|\n",
    "|:--|:--|\n",
    "|.|除换行符外任意字符|\n",
    "|\\w|字母、数字、下划线，等同于`[a-zA-Z0-9_]`|\n",
    "|\\W|除字母、数字、下划线外的字符，等同于`[^\\w]`|\n",
    "|\\d|数字，等同于`[0-9]`|\n",
    "|\\D|除数字外的字符，等同于`[^\\d]`|\n",
    "|\\s|空白字符，等同于`[\\t\\n\\f\\r\\p{Z}`|\n",
    "|\\S|除空白符外的字符，等同于`[^\\s]`|"
   ]
  },
  {
   "cell_type": "code",
   "execution_count": 8,
   "metadata": {
    "ExecuteTime": {
     "end_time": "2019-10-06T14:30:40.583594Z",
     "start_time": "2019-10-06T14:30:40.579590Z"
    },
    "scrolled": true
   },
   "outputs": [
    {
     "data": {
      "text/plain": [
       "<_sre.SRE_Match object; span=(7, 16), match='45python_'>"
      ]
     },
     "execution_count": 8,
     "metadata": {},
     "output_type": "execute_result"
    }
   ],
   "source": [
    "re.search(\"\\w\\dpython\\w\", \"dfdsds345python_py\")"
   ]
  },
  {
   "cell_type": "markdown",
   "metadata": {},
   "source": [
    "## 原子表\n",
    "一组地位平等的原子。\n",
    "* `[xyz]` 表示匹配原子表中任意一个\n",
    "* `[^xyz]` 表示匹配除了原子表内的原子外任意一个其他原子\n",
    "* `[x-z]` 表示匹配连续范围内任意一个"
   ]
  },
  {
   "cell_type": "code",
   "execution_count": 11,
   "metadata": {
    "ExecuteTime": {
     "end_time": "2019-10-06T14:33:15.565369Z",
     "start_time": "2019-10-06T14:33:15.553369Z"
    }
   },
   "outputs": [
    {
     "data": {
      "text/plain": [
       "['x', 'y', 'z', 'y', 'y', 'y']"
      ]
     },
     "execution_count": 11,
     "metadata": {},
     "output_type": "execute_result"
    },
    {
     "data": {
      "text/plain": [
       "['_', '_', '_', 'p', 't', 'h', 'o', 'n', '_', 'p']"
      ]
     },
     "execution_count": 11,
     "metadata": {},
     "output_type": "execute_result"
    },
    {
     "data": {
      "text/plain": [
       "['x', 'y', 'z', 'y', 'y', 'y']"
      ]
     },
     "execution_count": 11,
     "metadata": {},
     "output_type": "execute_result"
    }
   ],
   "source": [
    "string = \"x_y_z_pythony_py\"\n",
    "\n",
    "pattern1 = \"[xyz]\"\n",
    "pattern2 = \"[^xyz]\"\n",
    "pattern3 = \"[x-z]\"\n",
    "\n",
    "re.findall(pattern1, string)\n",
    "re.findall(pattern2, string)\n",
    "re.findall(pattern3, string)"
   ]
  },
  {
   "cell_type": "code",
   "execution_count": 3,
   "metadata": {
    "ExecuteTime": {
     "end_time": "2019-10-18T06:17:40.964894Z",
     "start_time": "2019-10-18T06:17:40.955900Z"
    }
   },
   "outputs": [
    {
     "data": {
      "text/plain": [
       "['123']"
      ]
     },
     "execution_count": 3,
     "metadata": {},
     "output_type": "execute_result"
    },
    {
     "data": {
      "text/plain": [
       "['abc123def']"
      ]
     },
     "execution_count": 3,
     "metadata": {},
     "output_type": "execute_result"
    }
   ],
   "source": [
    "re.findall('[0-9]+', 'abc123def')\n",
    "re.findall('[0-9a-z]+', 'abc123def')"
   ]
  },
  {
   "cell_type": "markdown",
   "metadata": {},
   "source": [
    "# 元字符\n",
    "|符号|含义|\n",
    "|:--|:--|\n",
    "|^|字符串的开始位置|\n",
    "|$|字符串的结束位置|\n",
    "|*|匹配任意次前面的原子|\n",
    "|?|匹配0次或1次前面的原子|\n",
    "|+|匹配1次或多次前面的原子|\n",
    "|{n}|前面的原子恰好出现n次|\n",
    "|{n,}|前面的原子至少出现n次|\n",
    "|{n,m}|前面的原子至少出现n次，至多出现m次|\n",
    "|()|模式单元符|"
   ]
  },
  {
   "cell_type": "markdown",
   "metadata": {},
   "source": [
    "## 边界限制\n",
    "* ^ 匹配字符串开始\n",
    "* $ 匹配字符串结束"
   ]
  },
  {
   "cell_type": "code",
   "execution_count": 14,
   "metadata": {
    "ExecuteTime": {
     "end_time": "2019-10-06T14:39:30.819591Z",
     "start_time": "2019-10-06T14:39:30.806615Z"
    }
   },
   "outputs": [
    {
     "name": "stdout",
     "output_type": "stream",
     "text": [
      "None\n",
      "<_sre.SRE_Match object; span=(0, 3), match='abc'>\n",
      "<_sre.SRE_Match object; span=(24, 26), match='py'>\n",
      "None\n"
     ]
    }
   ],
   "source": [
    "string = \"abcfdsfdsfsfsdfs323.322_py\"\n",
    "\n",
    "pattern1 = \"^abd\"\n",
    "pattern2 = \"^abc\"\n",
    "pattern3 = \"py$\"\n",
    "pattern4 = \"pd$\"\n",
    "\n",
    "print(re.search(pattern1, string))\n",
    "print(re.search(pattern2, string))\n",
    "print(re.search(pattern3, string))\n",
    "print(re.search(pattern4, string))"
   ]
  },
  {
   "cell_type": "markdown",
   "metadata": {},
   "source": [
    "## 限定符"
   ]
  },
  {
   "cell_type": "code",
   "execution_count": 15,
   "metadata": {
    "ExecuteTime": {
     "end_time": "2019-10-06T14:39:50.779555Z",
     "start_time": "2019-10-06T14:39:50.762557Z"
    }
   },
   "outputs": [
    {
     "name": "stdout",
     "output_type": "stream",
     "text": [
      "<_sre.SRE_Match object; span=(15, 21), match='python'>\n",
      "<_sre.SRE_Match object; span=(2, 5), match='cdd'>\n",
      "<_sre.SRE_Match object; span=(2, 6), match='cddd'>\n",
      "<_sre.SRE_Match object; span=(2, 8), match='cddddd'>\n",
      "None\n"
     ]
    }
   ],
   "source": [
    "string = \"abcdddddfphp345pythony_py\"\n",
    "\n",
    "pattern1 = \"py.*n\"\n",
    "pattern2 = \"cd{2}\"\n",
    "pattern3 = \"cd{3}\"\n",
    "pattern4 = \"cd{2,}\"\n",
    "pattern5 = \"cd{2, 4}\"\n",
    "\n",
    "print(re.search(pattern1, string))\n",
    "print(re.search(pattern2, string))\n",
    "print(re.search(pattern3, string))\n",
    "print(re.search(pattern4, string))\n",
    "print(re.search(pattern5, string))"
   ]
  },
  {
   "cell_type": "markdown",
   "metadata": {},
   "source": [
    "## 模式选择符\n",
    "设置多个模式，以“|”隔开，匹配时可以从中选择任意一个模式匹配。"
   ]
  },
  {
   "cell_type": "code",
   "execution_count": 4,
   "metadata": {
    "ExecuteTime": {
     "end_time": "2019-10-18T06:19:17.026042Z",
     "start_time": "2019-10-18T06:19:17.020056Z"
    }
   },
   "outputs": [
    {
     "data": {
      "text/plain": [
       "['php', 'python']"
      ]
     },
     "execution_count": 4,
     "metadata": {},
     "output_type": "execute_result"
    }
   ],
   "source": [
    "pattern = \"python|php\"\n",
    "string = 'adsdfsphppdfsf_pythondfd'\n",
    "re.findall(pattern, string)"
   ]
  },
  {
   "cell_type": "markdown",
   "metadata": {},
   "source": [
    "## 模式单元符\n",
    "使用`()`将一些原子组合成一个大原子，当做一个整体使用。"
   ]
  },
  {
   "cell_type": "code",
   "execution_count": 8,
   "metadata": {
    "ExecuteTime": {
     "end_time": "2019-10-18T06:21:01.515969Z",
     "start_time": "2019-10-18T06:21:01.507959Z"
    }
   },
   "outputs": [
    {
     "data": {
      "text/plain": [
       "<_sre.SRE_Match object; span=(5, 11), match='cdcdcd'>"
      ]
     },
     "execution_count": 8,
     "metadata": {},
     "output_type": "execute_result"
    },
    {
     "data": {
      "text/plain": [
       "<_sre.SRE_Match object; span=(5, 7), match='cd'>"
      ]
     },
     "execution_count": 8,
     "metadata": {},
     "output_type": "execute_result"
    }
   ],
   "source": [
    "string = \"dfsdscdcdcdewrwe23\"\n",
    "\n",
    "re.search(\"(cd){1,}\", string)\n",
    "re.search(\"cd{1,}\", string)"
   ]
  },
  {
   "cell_type": "markdown",
   "metadata": {},
   "source": [
    "# 贪婪模式和懒惰模式\n",
    "* 贪婪模式：尽可能多地匹配\n",
    "* 懒惰模式：尽可能少地匹配\n",
    "* re.search 并不会仅返回 () 内部的匹配结果"
   ]
  },
  {
   "cell_type": "markdown",
   "metadata": {},
   "source": [
    "## 贪婪模式 greedy"
   ]
  },
  {
   "cell_type": "code",
   "execution_count": 9,
   "metadata": {
    "ExecuteTime": {
     "end_time": "2019-10-18T06:32:53.516044Z",
     "start_time": "2019-10-18T06:32:53.508065Z"
    }
   },
   "outputs": [
    {
     "data": {
      "text/plain": [
       "<_sre.SRE_Match object; span=(5, 21), match='php323pythony_py'>"
      ]
     },
     "execution_count": 9,
     "metadata": {},
     "output_type": "execute_result"
    },
    {
     "data": {
      "text/plain": [
       "<_sre.SRE_Match object; span=(5, 21), match='php323pythony_py'>"
      ]
     },
     "execution_count": 9,
     "metadata": {},
     "output_type": "execute_result"
    }
   ],
   "source": [
    "string = \"adfssphp323pythony_py\"\n",
    "\n",
    "re.search(\"p.*y\", string)\n",
    "re.search(\"p(.*)y\", string)"
   ]
  },
  {
   "cell_type": "markdown",
   "metadata": {},
   "source": [
    "## 懒惰模式 lazy"
   ]
  },
  {
   "cell_type": "code",
   "execution_count": 11,
   "metadata": {
    "ExecuteTime": {
     "end_time": "2019-10-18T06:36:13.442923Z",
     "start_time": "2019-10-18T06:36:13.433948Z"
    }
   },
   "outputs": [
    {
     "data": {
      "text/plain": [
       "<_sre.SRE_Match object; span=(5, 13), match='php323py'>"
      ]
     },
     "execution_count": 11,
     "metadata": {},
     "output_type": "execute_result"
    },
    {
     "data": {
      "text/plain": [
       "<_sre.SRE_Match object; span=(5, 13), match='php323py'>"
      ]
     },
     "execution_count": 11,
     "metadata": {},
     "output_type": "execute_result"
    },
    {
     "data": {
      "text/plain": [
       "['hp323p', '']"
      ]
     },
     "execution_count": 11,
     "metadata": {},
     "output_type": "execute_result"
    }
   ],
   "source": [
    "string = \"adfssphp323pythony_py\"\n",
    "\n",
    "re.search(\"p.*?y\", string)\n",
    "re.search(\"p(.*?)y\", string)\n",
    "\n",
    "re.findall(\"p(.*?)y\", string)"
   ]
  },
  {
   "cell_type": "markdown",
   "metadata": {},
   "source": [
    "# 零宽度断言（前后预查）"
   ]
  },
  {
   "cell_type": "markdown",
   "metadata": {},
   "source": [
    "<div class=\"alert alert-block alert-info\">\n",
    "    <i class=\"fa fa-list-alt\" aria-hidden=\"true\"><b> Todo:</b></i>\n",
    "    待补充\n",
    "</div>"
   ]
  },
  {
   "cell_type": "markdown",
   "metadata": {},
   "source": [
    "# python中的re模块"
   ]
  },
  {
   "cell_type": "markdown",
   "metadata": {},
   "source": [
    "## re.compile\n",
    "* 该函数根据正则表达式的字符串创建模式对象，可以实现更有效率的匹配。\n",
    "* 在每次使用字符串进行`search`、`match`和`findall`操作时，python首先会将字符串转换为正则表达式对象。而使用`compile`完成一次转换之后，在每次使用模式的时候就不用重复转换。\n",
    "* 使用`re.compile()`函数进行转换后，除`re.search(pattern, string)`的调用方式外，也可以通过`pattern.search(string)`。"
   ]
  },
  {
   "cell_type": "code",
   "execution_count": 12,
   "metadata": {
    "ExecuteTime": {
     "end_time": "2019-10-18T06:37:56.530102Z",
     "start_time": "2019-10-18T06:37:56.524118Z"
    }
   },
   "outputs": [
    {
     "name": "stdout",
     "output_type": "stream",
     "text": [
      "Help on function compile in module re:\n",
      "\n",
      "compile(pattern, flags=0)\n",
      "    Compile a regular expression pattern, returning a pattern object.\n",
      "\n"
     ]
    }
   ],
   "source": [
    "help(re.compile)"
   ]
  },
  {
   "cell_type": "code",
   "execution_count": 15,
   "metadata": {
    "ExecuteTime": {
     "end_time": "2019-10-18T06:54:06.075954Z",
     "start_time": "2019-10-18T06:54:06.064985Z"
    }
   },
   "outputs": [
    {
     "data": {
      "text/plain": [
       "['pythond', 'PyThon2']"
      ]
     },
     "execution_count": 15,
     "metadata": {},
     "output_type": "execute_result"
    },
    {
     "data": {
      "text/plain": [
       "['pythond', 'PyThon2']"
      ]
     },
     "execution_count": 15,
     "metadata": {},
     "output_type": "execute_result"
    },
    {
     "data": {
      "text/plain": [
       "['pythond', 'PyThon2']"
      ]
     },
     "execution_count": 15,
     "metadata": {},
     "output_type": "execute_result"
    }
   ],
   "source": [
    "string = 'fdsdfspythondfs.dsfPyThon2332'\n",
    "\n",
    "re.findall('python.', string, re.I)\n",
    "\n",
    "pattern = re.compile('python.', re.I)\n",
    "pattern.findall(string)\n",
    "re.findall(pattern, string)"
   ]
  },
  {
   "cell_type": "markdown",
   "metadata": {},
   "source": [
    "## re.match\n",
    "从字符串的起点匹配一个模式。"
   ]
  },
  {
   "cell_type": "code",
   "execution_count": 18,
   "metadata": {
    "ExecuteTime": {
     "end_time": "2019-10-18T06:57:08.286220Z",
     "start_time": "2019-10-18T06:57:08.281206Z"
    }
   },
   "outputs": [
    {
     "name": "stdout",
     "output_type": "stream",
     "text": [
      "Help on function match in module re:\n",
      "\n",
      "match(pattern, string, flags=0)\n",
      "    Try to apply the pattern at the start of the string, returning\n",
      "    a match object, or None if no match was found.\n",
      "\n"
     ]
    }
   ],
   "source": [
    "help(re.match)"
   ]
  },
  {
   "cell_type": "code",
   "execution_count": 16,
   "metadata": {
    "ExecuteTime": {
     "end_time": "2019-10-18T06:56:37.936968Z",
     "start_time": "2019-10-18T06:56:37.929016Z"
    }
   },
   "outputs": [
    {
     "name": "stdout",
     "output_type": "stream",
     "text": [
      "<_sre.SRE_Match object; span=(0, 8), match='apythond'>\n",
      "None\n"
     ]
    }
   ],
   "source": [
    "string = \"apythondsfdfsdfsd\"\n",
    "\n",
    "print(re.match(\".python.\", string))\n",
    "print(re.match(\"python\", string))"
   ]
  },
  {
   "cell_type": "markdown",
   "metadata": {},
   "source": [
    "## re.search\n",
    "扫描整个字符串，匹配到第一个结果即停止。"
   ]
  },
  {
   "cell_type": "code",
   "execution_count": 17,
   "metadata": {
    "ExecuteTime": {
     "end_time": "2019-10-18T06:56:56.463880Z",
     "start_time": "2019-10-18T06:56:56.458893Z"
    }
   },
   "outputs": [
    {
     "name": "stdout",
     "output_type": "stream",
     "text": [
      "Help on function search in module re:\n",
      "\n",
      "search(pattern, string, flags=0)\n",
      "    Scan through string looking for a match to the pattern, returning\n",
      "    a match object, or None if no match was found.\n",
      "\n"
     ]
    }
   ],
   "source": [
    "help(re.search)"
   ]
  },
  {
   "cell_type": "code",
   "execution_count": 18,
   "metadata": {
    "ExecuteTime": {
     "end_time": "2019-04-07T15:48:43.765282Z",
     "start_time": "2019-04-07T23:48:43.758303+08:00"
    }
   },
   "outputs": [
    {
     "name": "stdout",
     "output_type": "stream",
     "text": [
      "<_sre.SRE_Match object; span=(4, 10), match='python'>\n",
      "(4, 10)\n",
      "4\n",
      "10\n",
      "python\n"
     ]
    }
   ],
   "source": [
    "pattern = \"python\"\n",
    "string = \"fdsdpythondfs9d00pythondfksl90\"\n",
    "result = re.search(pattern, string)\n",
    "print(result)\n",
    "print(result.span())\n",
    "print(result.start())\n",
    "print(result.end())\n",
    "print(result.group())"
   ]
  },
  {
   "cell_type": "markdown",
   "metadata": {},
   "source": [
    "## re.findall\n",
    "扫描整个字符串，匹配全部结果。"
   ]
  },
  {
   "cell_type": "code",
   "execution_count": 19,
   "metadata": {
    "ExecuteTime": {
     "end_time": "2019-10-18T06:57:46.180069Z",
     "start_time": "2019-10-18T06:57:46.175046Z"
    }
   },
   "outputs": [
    {
     "name": "stdout",
     "output_type": "stream",
     "text": [
      "Help on function findall in module re:\n",
      "\n",
      "findall(pattern, string, flags=0)\n",
      "    Return a list of all non-overlapping matches in the string.\n",
      "    \n",
      "    If one or more capturing groups are present in the pattern, return\n",
      "    a list of groups; this will be a list of tuples if the pattern\n",
      "    has more than one group.\n",
      "    \n",
      "    Empty matches are included in the result.\n",
      "\n"
     ]
    }
   ],
   "source": [
    "help(re.findall)"
   ]
  },
  {
   "cell_type": "markdown",
   "metadata": {},
   "source": [
    "<div class=\"alert alert-block alert-warning\">\n",
    "    <i class=\"fa fa-sticky-note\" aria-hidden=\"true\"><b> Note:</b></i>\n",
    "    获得的结果是不交的，如果存在相交的情形，会自动进行选择，规则较复杂，没深究。\n",
    "</div>"
   ]
  },
  {
   "cell_type": "code",
   "execution_count": 3,
   "metadata": {},
   "outputs": [
    {
     "data": {
      "text/plain": [
       "['AAAbAAA']"
      ]
     },
     "execution_count": 3,
     "metadata": {},
     "output_type": "execute_result"
    }
   ],
   "source": [
    "re.findall('[A-Z]{3}[a-z][A-Z]{3}', 'AAAbAAA')"
   ]
  },
  {
   "cell_type": "code",
   "execution_count": 4,
   "metadata": {},
   "outputs": [
    {
     "data": {
      "text/plain": [
       "['AAAbAAA']"
      ]
     },
     "execution_count": 4,
     "metadata": {},
     "output_type": "execute_result"
    }
   ],
   "source": [
    "re.findall('[A-Z]{3}[a-z][A-Z]{3}', 'AAAbAAAcBBB')  # 发生重叠，'AAAcBBB'没有被添进结果"
   ]
  },
  {
   "cell_type": "markdown",
   "metadata": {},
   "source": [
    "## re.sub\n",
    "[详解Python中re.sub--转载](https://www.cnblogs.com/nkwy2012/p/6548812.html)"
   ]
  },
  {
   "cell_type": "code",
   "execution_count": 21,
   "metadata": {
    "ExecuteTime": {
     "end_time": "2019-10-18T07:03:12.565559Z",
     "start_time": "2019-10-18T07:03:12.560572Z"
    }
   },
   "outputs": [
    {
     "name": "stdout",
     "output_type": "stream",
     "text": [
      "Help on function sub in module re:\n",
      "\n",
      "sub(pattern, repl, string, count=0, flags=0)\n",
      "    Return the string obtained by replacing the leftmost\n",
      "    non-overlapping occurrences of the pattern in string by the\n",
      "    replacement repl.  repl can be either a string or a callable;\n",
      "    if a string, backslash escapes in it are processed.  If it is\n",
      "    a callable, it's passed the match object and must return\n",
      "    a replacement string to be used.\n",
      "\n"
     ]
    }
   ],
   "source": [
    "help(re.sub)"
   ]
  },
  {
   "cell_type": "markdown",
   "metadata": {},
   "source": [
    "### `repr`为字符串"
   ]
  },
  {
   "cell_type": "code",
   "execution_count": 11,
   "metadata": {
    "ExecuteTime": {
     "end_time": "2019-10-21T14:21:53.418949Z",
     "start_time": "2019-10-21T14:21:53.410965Z"
    }
   },
   "outputs": [
    {
     "data": {
      "text/plain": [
       "'fuck world, nihao python'"
      ]
     },
     "execution_count": 11,
     "metadata": {},
     "output_type": "execute_result"
    },
    {
     "data": {
      "text/plain": [
       "'hello world, nihao python'"
      ]
     },
     "execution_count": 11,
     "metadata": {},
     "output_type": "execute_result"
    }
   ],
   "source": [
    "string = \"hello world, nihao python\" \n",
    "re.sub(r\"hello (\\w+)\", \"fuck \\g<1>\", string)  # \\g<1>表示圆括号内的内容\n",
    "re.sub(r\"(hello \\w+)\", r\"\\1\", string)  # r\"\\1\"效果等同于\"\\g<1>\""
   ]
  },
  {
   "cell_type": "markdown",
   "metadata": {},
   "source": [
    "### `repr`为函数"
   ]
  },
  {
   "cell_type": "code",
   "execution_count": 26,
   "metadata": {
    "ExecuteTime": {
     "end_time": "2019-10-18T08:30:54.648285Z",
     "start_time": "2019-10-18T08:30:54.642267Z"
    }
   },
   "outputs": [
    {
     "data": {
      "text/plain": [
       "'hello 234 world 567'"
      ]
     },
     "execution_count": 26,
     "metadata": {},
     "output_type": "execute_result"
    }
   ],
   "source": [
    "# 将其中的数字部分都加上111\n",
    "string = \"hello 123 world 456\"\n",
    "\n",
    "def add111(matched):\n",
    "    intStr = matched.group(\"number\") # 123\n",
    "    return str(int(intStr) + 111)\n",
    "\n",
    "re.sub(\"(?P<number>\\d+)\", add111, string)"
   ]
  },
  {
   "cell_type": "markdown",
   "metadata": {},
   "source": [
    "### `count`的作用"
   ]
  },
  {
   "cell_type": "code",
   "execution_count": 20,
   "metadata": {
    "ExecuteTime": {
     "end_time": "2019-10-18T06:59:25.896647Z",
     "start_time": "2019-10-18T06:59:25.887670Z"
    },
    "scrolled": true
   },
   "outputs": [
    {
     "name": "stdout",
     "output_type": "stream",
     "text": [
      "1.test2.test3.test4.test\n",
      "1.test2.test3.pythonc4.pythond\n"
     ]
    }
   ],
   "source": [
    "string = \"1.pythona2.pythonb3.pythonc4.pythond\"\n",
    "pattern = \"python.\"\n",
    "print(re.sub(pattern, \"test\", string))\n",
    "print(re.sub(pattern, \"test\", string, 2))"
   ]
  },
  {
   "cell_type": "markdown",
   "metadata": {},
   "source": [
    "## re.split\n",
    "1. 如果用括号将正则表达式括起来，那么匹配的字符串也会被列入到list中返回。\n",
    "2. 字符串开头和结尾如果可以匹配到，返回的list中第一个和最后一个会是空字符串。\n",
    "3. 可以通过参数`maxsplit`限制最大拆分次数，剩余未被拆分部分会作为list的最后一个元素。"
   ]
  },
  {
   "cell_type": "code",
   "execution_count": 7,
   "metadata": {
    "ExecuteTime": {
     "end_time": "2019-10-05T02:31:10.650416Z",
     "start_time": "2019-10-05T02:31:10.644416Z"
    }
   },
   "outputs": [
    {
     "name": "stdout",
     "output_type": "stream",
     "text": [
      "Help on function split in module re:\n",
      "\n",
      "split(pattern, string, maxsplit=0, flags=0)\n",
      "    Split the source string by the occurrences of the pattern,\n",
      "    returning a list containing the resulting substrings.  If\n",
      "    capturing parentheses are used in pattern, then the text of all\n",
      "    groups in the pattern are also returned as part of the resulting\n",
      "    list.  If maxsplit is nonzero, at most maxsplit splits occur,\n",
      "    and the remainder of the string is returned as the final element\n",
      "    of the list.\n",
      "\n"
     ]
    }
   ],
   "source": [
    "help(re.split)"
   ]
  },
  {
   "cell_type": "code",
   "execution_count": 12,
   "metadata": {
    "ExecuteTime": {
     "end_time": "2019-10-05T02:34:44.454605Z",
     "start_time": "2019-10-05T02:34:44.449599Z"
    }
   },
   "outputs": [
    {
     "data": {
      "text/plain": [
       "['', 'abc', 'cba', '']"
      ]
     },
     "execution_count": 12,
     "metadata": {},
     "output_type": "execute_result"
    }
   ],
   "source": [
    "re.split('\\d+' , '123abc321cba11')"
   ]
  },
  {
   "cell_type": "code",
   "execution_count": 13,
   "metadata": {
    "ExecuteTime": {
     "end_time": "2019-10-05T02:34:45.224957Z",
     "start_time": "2019-10-05T02:34:45.219991Z"
    }
   },
   "outputs": [
    {
     "data": {
      "text/plain": [
       "['', '123', 'abc', '321', 'cba', '11', '']"
      ]
     },
     "execution_count": 13,
     "metadata": {},
     "output_type": "execute_result"
    }
   ],
   "source": [
    "re.split('(\\d+)' , '123abc321cba11')  # 保留匹配项"
   ]
  },
  {
   "cell_type": "markdown",
   "metadata": {},
   "source": [
    "## 模式修正\n",
    "模式修正符可以在**不改变正则表达式的情况下，改变正则表达式的含义**，从而调整匹配的结果。\n",
    "\n",
    "|符号|含义|\n",
    "|:--|:--|\n",
    "|I|忽略大小写|\n",
    "|M|多行匹配|\n",
    "|L|本地化识别匹配|\n",
    "|U|根据Unicode字符集解析字符|\n",
    "|S|让元字符能`.`够匹配换行符，也即能够匹配任意字符|"
   ]
  },
  {
   "cell_type": "code",
   "execution_count": 13,
   "metadata": {
    "ExecuteTime": {
     "end_time": "2019-04-07T15:48:43.239688Z",
     "start_time": "2019-04-07T23:48:43.234701+08:00"
    }
   },
   "outputs": [
    {
     "name": "stdout",
     "output_type": "stream",
     "text": [
      "None\n",
      "<_sre.SRE_Match object; span=(6, 12), match='Python'>\n"
     ]
    }
   ],
   "source": [
    "pattern = \"python\"\n",
    "string = \"dfsdsfPython-dfs\"\n",
    "print(re.search(pattern, string))\n",
    "print(re.search(pattern, string, re.I))"
   ]
  },
  {
   "cell_type": "code",
   "execution_count": 14,
   "metadata": {
    "ExecuteTime": {
     "end_time": "2019-04-07T15:48:43.258663Z",
     "start_time": "2019-04-07T23:48:43.252666+08:00"
    }
   },
   "outputs": [
    {
     "name": "stdout",
     "output_type": "stream",
     "text": [
      "None\n",
      "<_sre.SRE_Match object; span=(8, 22), match='hellofds\\nhello'>\n"
     ]
    }
   ],
   "source": [
    "pattern = \"hello(.*?)hello\"\n",
    "string = \"\"\"dfsdsdsfhellofds\n",
    "hellodfsd\"\"\"\n",
    "print(re.search(pattern, string))\n",
    "print(re.search(pattern, string, re.S))"
   ]
  },
  {
   "cell_type": "markdown",
   "metadata": {},
   "source": [
    "# 复杂实例（待总结）"
   ]
  },
  {
   "cell_type": "markdown",
   "metadata": {},
   "source": [
    "## 匹配网址"
   ]
  },
  {
   "cell_type": "code",
   "execution_count": 28,
   "metadata": {
    "ExecuteTime": {
     "end_time": "2019-10-18T08:37:06.223031Z",
     "start_time": "2019-10-18T08:37:06.212063Z"
    }
   },
   "outputs": [
    {
     "name": "stdout",
     "output_type": "stream",
     "text": [
      "<_sre.SRE_Match object; span=(9, 29), match='http://www.baidu.com'>\n",
      "None\n",
      "None\n",
      "None\n"
     ]
    }
   ],
   "source": [
    "pattern = \"[a-zA-Z]+://\\S*(\\.com|\\.cn)\"\n",
    "\n",
    "string1 = \"<a href='http://www.baidu.com'>\"\n",
    "string2 = \"<a href='http://www.baidu,com'>\" # 最后不是以.com或.cn结尾\n",
    "string3 = \"<a href='http://ww w.baidu.com'>\" # 中间含空格\n",
    "string4 = \"<a href='://www.baidu.com'>\" # ://前缺乏字母\n",
    "\n",
    "print(re.search(pattern, string1))\n",
    "print(re.search(pattern, string2))\n",
    "print(re.search(pattern, string3))\n",
    "print(re.search(pattern, string4))"
   ]
  },
  {
   "cell_type": "markdown",
   "metadata": {},
   "source": [
    "## 匹配电话号码"
   ]
  },
  {
   "cell_type": "code",
   "execution_count": 27,
   "metadata": {
    "ExecuteTime": {
     "end_time": "2019-10-18T08:37:03.948021Z",
     "start_time": "2019-10-18T08:37:03.940037Z"
    }
   },
   "outputs": [
    {
     "name": "stdout",
     "output_type": "stream",
     "text": [
      "<_sre.SRE_Match object; span=(4, 16), match='021-67282636'>\n",
      "<_sre.SRE_Match object; span=(4, 17), match='0221-67282636'>\n"
     ]
    }
   ],
   "source": [
    "pattern = \"(\\d{4}|\\d{3})-\\d{8}\"\n",
    "\n",
    "string1 = \"dfsd021-6728263653343derw_.dwer232\"\n",
    "string2 = \"dfsd0221-6728263653343derw_.dwer232\"\n",
    "\n",
    "print(re.search(pattern, string1))\n",
    "print(re.search(pattern, string2))"
   ]
  },
  {
   "cell_type": "markdown",
   "metadata": {},
   "source": [
    "## 匹配汉字"
   ]
  },
  {
   "cell_type": "code",
   "execution_count": 29,
   "metadata": {
    "ExecuteTime": {
     "end_time": "2019-10-18T08:45:11.790120Z",
     "start_time": "2019-10-18T08:45:11.783114Z"
    }
   },
   "outputs": [
    {
     "data": {
      "text/plain": [
       "['你好', '中文句号']"
      ]
     },
     "execution_count": 29,
     "metadata": {},
     "output_type": "execute_result"
    }
   ],
   "source": [
    "pattern = r\"[\\u4e00-\\u9fff]+\"\n",
    "\n",
    "re.findall(pattern, 'hello, 你好, 中文句号。')"
   ]
  },
  {
   "cell_type": "markdown",
   "metadata": {},
   "source": [
    "## [1078. Bigram 分词](https://leetcode-cn.com/problems/occurrences-after-bigram/)\n",
    "使用了**正后发断言**和**单词边界**"
   ]
  },
  {
   "cell_type": "code",
   "execution_count": null,
   "metadata": {},
   "outputs": [],
   "source": []
  }
 ],
 "metadata": {
  "anaconda-cloud": {},
  "hide_input": false,
  "kernelspec": {
   "display_name": "python37",
   "language": "python",
   "name": "python37"
  },
  "language_info": {
   "codemirror_mode": {
    "name": "ipython",
    "version": 3
   },
   "file_extension": ".py",
   "mimetype": "text/x-python",
   "name": "python",
   "nbconvert_exporter": "python",
   "pygments_lexer": "ipython3",
   "version": "3.7.1"
  },
  "latex_envs": {
   "LaTeX_envs_menu_present": true,
   "autoclose": false,
   "autocomplete": true,
   "bibliofile": "biblio.bib",
   "cite_by": "apalike",
   "current_citInitial": 1,
   "eqLabelWithNumbers": true,
   "eqNumInitial": 1,
   "hotkeys": {
    "equation": "Ctrl-E",
    "itemize": "Ctrl-I"
   },
   "labels_anchors": false,
   "latex_user_defs": false,
   "report_style_numbering": false,
   "user_envs_cfg": false
  },
  "toc": {
   "base_numbering": 1,
   "nav_menu": {},
   "number_sections": true,
   "sideBar": true,
   "skip_h1_title": false,
   "title_cell": "Table of Contents",
   "title_sidebar": "Contents",
   "toc_cell": false,
   "toc_position": {
    "height": "708px",
    "left": "0px",
    "right": "1494.67px",
    "top": "107px",
    "width": "209px"
   },
   "toc_section_display": "block",
   "toc_window_display": true
  },
  "toc-autonumbering": true,
  "varInspector": {
   "cols": {
    "lenName": 16,
    "lenType": 16,
    "lenVar": 40
   },
   "kernels_config": {
    "python": {
     "delete_cmd_postfix": "",
     "delete_cmd_prefix": "del ",
     "library": "var_list.py",
     "varRefreshCmd": "print(var_dic_list())"
    },
    "r": {
     "delete_cmd_postfix": ") ",
     "delete_cmd_prefix": "rm(",
     "library": "var_list.r",
     "varRefreshCmd": "cat(var_dic_list()) "
    }
   },
   "types_to_exclude": [
    "module",
    "function",
    "builtin_function_or_method",
    "instance",
    "_Feature"
   ],
   "window_display": false
  }
 },
 "nbformat": 4,
 "nbformat_minor": 4
}
