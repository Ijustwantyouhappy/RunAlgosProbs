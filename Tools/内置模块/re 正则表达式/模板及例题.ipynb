{
 "cells": [
  {
   "cell_type": "code",
   "execution_count": 1,
   "metadata": {},
   "outputs": [
    {
     "data": {
      "text/plain": [
       "'system: Microsoft Windows 10 教育版, 18363, 64 位'"
      ]
     },
     "execution_count": 1,
     "metadata": {},
     "output_type": "execute_result"
    },
    {
     "data": {
      "text/plain": [
       "'memory: 15.86G'"
      ]
     },
     "execution_count": 1,
     "metadata": {},
     "output_type": "execute_result"
    },
    {
     "data": {
      "text/plain": [
       "'cpu: 4'"
      ]
     },
     "execution_count": 1,
     "metadata": {},
     "output_type": "execute_result"
    },
    {
     "data": {
      "text/plain": [
       "'python: 3.7.1 (default, Oct 28 2018, 08:39:03) [MSC v.1912 64 bit (AMD64)]'"
      ]
     },
     "execution_count": 1,
     "metadata": {},
     "output_type": "execute_result"
    },
    {
     "data": {
      "text/plain": [
       "'2020-10-28 21:41:44'"
      ]
     },
     "execution_count": 1,
     "metadata": {},
     "output_type": "execute_result"
    }
   ],
   "source": [
    "import sys, time, wmi, psutil\n",
    "SYSTEM_INFO = wmi.WMI().Win32_OperatingSystem()[0]\n",
    "\"system: {0}, {1}, {2}\".format(SYSTEM_INFO.Caption, SYSTEM_INFO.BuildNumber, SYSTEM_INFO.OSArchitecture) \n",
    "\"memory: {}G\".format(round(psutil.virtual_memory().total / 1024**3, 2))\n",
    "\"cpu: {}\".format(psutil.cpu_count())\n",
    "\"python: {}\".format(sys.version)\n",
    "time.strftime('%Y-%m-%d %H:%M:%S', time.localtime(time.time()))"
   ]
  },
  {
   "cell_type": "markdown",
   "metadata": {},
   "source": [
    "- **@author**: run_walker\n",
    "- **@references**:\n",
    "    1. [最全的常用正则表达式大全——包括校验数字、字符、一些特殊的需求等等](https://www.cnblogs.com/zxin/archive/2013/01/26/2877765.html)"
   ]
  },
  {
   "cell_type": "code",
   "execution_count": 2,
   "metadata": {},
   "outputs": [],
   "source": [
    "import re"
   ]
  },
  {
   "cell_type": "markdown",
   "metadata": {},
   "source": [
    "# 模板"
   ]
  },
  {
   "cell_type": "markdown",
   "metadata": {},
   "source": [
    "## IPv4地址"
   ]
  },
  {
   "cell_type": "markdown",
   "metadata": {},
   "source": [
    "匹配0-255"
   ]
  },
  {
   "cell_type": "code",
   "execution_count": 22,
   "metadata": {},
   "outputs": [],
   "source": [
    "pattern = \"^((25[0-5])|(2[0-4]\\d)|(1\\d{2})|([1-9]?\\d))$\""
   ]
  },
  {
   "cell_type": "code",
   "execution_count": 23,
   "metadata": {},
   "outputs": [
    {
     "name": "stdout",
     "output_type": "stream",
     "text": [
      "0 \t <re.Match object; span=(0, 1), match='0'>\n",
      "100 \t <re.Match object; span=(0, 3), match='100'>\n",
      "255 \t <re.Match object; span=(0, 3), match='255'>\n",
      "256 \t None\n",
      "-1 \t None\n",
      "01 \t None\n",
      "000 \t None\n",
      "010 \t None\n",
      "333 \t None\n"
     ]
    }
   ],
   "source": [
    "for s in ['0', '100', '255', '256', '-1', '01', '000', '010', '333']:\n",
    "    print(s, '\\t', re.search(pattern, s))"
   ]
  },
  {
   "cell_type": "markdown",
   "metadata": {},
   "source": [
    "匹配IPv地址"
   ]
  },
  {
   "cell_type": "code",
   "execution_count": 17,
   "metadata": {},
   "outputs": [],
   "source": [
    "pattern = \"^((25[0-5])|(2[0-4]\\d)|(1\\d{2})|([1-9]?\\d))(\\.((25[0-5])|(2[0-4]\\d)|(1\\d{2})|([1-9]?\\d))){3}$\""
   ]
  },
  {
   "cell_type": "code",
   "execution_count": 18,
   "metadata": {},
   "outputs": [
    {
     "name": "stdout",
     "output_type": "stream",
     "text": [
      "172.16.254.1 \t <re.Match object; span=(0, 12), match='172.16.254.1'>\n",
      "256.256.256.256 \t None\n",
      "01.255.255.255 \t None\n",
      "1e1.4.5.6 \t None\n",
      "255.255,25.1 \t None\n"
     ]
    }
   ],
   "source": [
    "strings = [\n",
    "    \"172.16.254.1\",\n",
    "    \"256.256.256.256\",\n",
    "    \"01.255.255.255\",\n",
    "    \"1e1.4.5.6\",\n",
    "    \"255.255,25.1\"\n",
    "]\n",
    "for s in strings:\n",
    "    print(s, '\\t', re.search(pattern, s))"
   ]
  },
  {
   "cell_type": "markdown",
   "metadata": {},
   "source": [
    "## IPv6地址"
   ]
  },
  {
   "cell_type": "code",
   "execution_count": 29,
   "metadata": {},
   "outputs": [],
   "source": [
    "pattern = \"^([\\da-fA-F]{1,4}:){7}[\\da-fA-F]{1,4}$\""
   ]
  },
  {
   "cell_type": "code",
   "execution_count": 31,
   "metadata": {},
   "outputs": [
    {
     "name": "stdout",
     "output_type": "stream",
     "text": [
      "2001:0db8:85a3:0000:0000:8a2e:0370:7334\n",
      "<re.Match object; span=(0, 39), match='2001:0db8:85a3:0000:0000:8a2e:0370:7334'>\n",
      "\n",
      "2001:db8:85a3:0:0:8A2E:0370:7334\n",
      "<re.Match object; span=(0, 32), match='2001:db8:85a3:0:0:8A2E:0370:7334'>\n",
      "\n",
      "2001:0db8:85a3::8A2E:0370:7334\n",
      "None\n",
      "\n",
      "02001:0db8:85a3:0000:0000:8a2e:0370:7334\n",
      "None\n",
      "\n"
     ]
    }
   ],
   "source": [
    "ipv6s = [\n",
    "    \"2001:0db8:85a3:0000:0000:8a2e:0370:7334\",\n",
    "    \"2001:db8:85a3:0:0:8A2E:0370:7334\",\n",
    "    \"2001:0db8:85a3::8A2E:0370:7334\",\n",
    "    \"02001:0db8:85a3:0000:0000:8a2e:0370:7334\"\n",
    "]\n",
    "for s in ipv6s:\n",
    "    print(s)\n",
    "    print(re.search(pattern, s))\n",
    "    print()"
   ]
  },
  {
   "cell_type": "markdown",
   "metadata": {},
   "source": [
    "## 网址"
   ]
  },
  {
   "cell_type": "code",
   "execution_count": 3,
   "metadata": {},
   "outputs": [],
   "source": [
    "pattern = \"[a-zA-Z]+://\\S*(\\.com|\\.cn)\""
   ]
  },
  {
   "cell_type": "code",
   "execution_count": 4,
   "metadata": {
    "ExecuteTime": {
     "end_time": "2019-10-18T08:37:06.223031Z",
     "start_time": "2019-10-18T08:37:06.212063Z"
    }
   },
   "outputs": [
    {
     "name": "stdout",
     "output_type": "stream",
     "text": [
      "<re.Match object; span=(9, 29), match='http://www.baidu.com'>\n",
      "None\n",
      "None\n",
      "None\n"
     ]
    }
   ],
   "source": [
    "string1 = \"<a href='http://www.baidu.com'>\"\n",
    "string2 = \"<a href='http://www.baidu,com'>\" # 最后不是以.com或.cn结尾\n",
    "string3 = \"<a href='http://ww w.baidu.com'>\" # 中间含空格\n",
    "string4 = \"<a href='://www.baidu.com'>\" # ://前缺乏字母\n",
    "\n",
    "print(re.search(pattern, string1))\n",
    "print(re.search(pattern, string2))\n",
    "print(re.search(pattern, string3))\n",
    "print(re.search(pattern, string4))"
   ]
  },
  {
   "cell_type": "markdown",
   "metadata": {},
   "source": [
    "## 电话号码"
   ]
  },
  {
   "cell_type": "code",
   "execution_count": 5,
   "metadata": {},
   "outputs": [],
   "source": [
    "pattern = \"(\\d{4}|\\d{3})-\\d{8}\""
   ]
  },
  {
   "cell_type": "code",
   "execution_count": 6,
   "metadata": {
    "ExecuteTime": {
     "end_time": "2019-10-18T08:37:03.948021Z",
     "start_time": "2019-10-18T08:37:03.940037Z"
    }
   },
   "outputs": [
    {
     "name": "stdout",
     "output_type": "stream",
     "text": [
      "<re.Match object; span=(4, 16), match='021-67282636'>\n",
      "<re.Match object; span=(4, 17), match='0221-67282636'>\n"
     ]
    }
   ],
   "source": [
    "string1 = \"dfsd021-6728263653343derw_.dwer232\"\n",
    "string2 = \"dfsd0221-6728263653343derw_.dwer232\"\n",
    "\n",
    "print(re.search(pattern, string1))\n",
    "print(re.search(pattern, string2))"
   ]
  },
  {
   "cell_type": "markdown",
   "metadata": {},
   "source": [
    "## 汉字"
   ]
  },
  {
   "cell_type": "code",
   "execution_count": 7,
   "metadata": {},
   "outputs": [],
   "source": [
    "pattern = r\"[\\u4e00-\\u9fff]+\""
   ]
  },
  {
   "cell_type": "code",
   "execution_count": 8,
   "metadata": {
    "ExecuteTime": {
     "end_time": "2019-10-18T08:45:11.790120Z",
     "start_time": "2019-10-18T08:45:11.783114Z"
    }
   },
   "outputs": [
    {
     "data": {
      "text/plain": [
       "['你好', '中文句号']"
      ]
     },
     "execution_count": 8,
     "metadata": {},
     "output_type": "execute_result"
    }
   ],
   "source": [
    "re.findall(pattern, 'hello, 你好, 中文句号。')"
   ]
  },
  {
   "cell_type": "markdown",
   "metadata": {},
   "source": [
    "# 例题\n",
    "- [LeetCode 1078. Bigram 分词](https://leetcode-cn.com/problems/occurrences-after-bigram/) 使用了**正后发断言**和**单词边界**\n",
    "- [LeetCode 468. 验证IP地址](https://leetcode-cn.com/problems/validate-ip-address/)"
   ]
  }
 ],
 "metadata": {
  "kernelspec": {
   "display_name": "python37",
   "language": "python",
   "name": "python37"
  },
  "language_info": {
   "codemirror_mode": {
    "name": "ipython",
    "version": 3
   },
   "file_extension": ".py",
   "mimetype": "text/x-python",
   "name": "python",
   "nbconvert_exporter": "python",
   "pygments_lexer": "ipython3",
   "version": "3.7.1"
  }
 },
 "nbformat": 4,
 "nbformat_minor": 4
}
