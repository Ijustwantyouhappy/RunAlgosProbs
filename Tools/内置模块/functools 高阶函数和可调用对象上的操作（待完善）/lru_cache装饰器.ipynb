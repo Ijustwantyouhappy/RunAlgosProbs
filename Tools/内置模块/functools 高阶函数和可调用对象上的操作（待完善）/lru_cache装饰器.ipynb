{
 "cells": [
  {
   "cell_type": "code",
   "execution_count": 1,
   "metadata": {},
   "outputs": [
    {
     "data": {
      "text/plain": [
       "'system: Microsoft Windows 10 教育版, 18363, 64 位'"
      ]
     },
     "execution_count": 1,
     "metadata": {},
     "output_type": "execute_result"
    },
    {
     "data": {
      "text/plain": [
       "'memory: 15.86G'"
      ]
     },
     "execution_count": 1,
     "metadata": {},
     "output_type": "execute_result"
    },
    {
     "data": {
      "text/plain": [
       "'cpu: 4'"
      ]
     },
     "execution_count": 1,
     "metadata": {},
     "output_type": "execute_result"
    },
    {
     "data": {
      "text/plain": [
       "'python: 3.7.1 (default, Oct 28 2018, 08:39:03) [MSC v.1912 64 bit (AMD64)]'"
      ]
     },
     "execution_count": 1,
     "metadata": {},
     "output_type": "execute_result"
    },
    {
     "data": {
      "text/plain": [
       "'2020-10-04 21:32:54'"
      ]
     },
     "execution_count": 1,
     "metadata": {},
     "output_type": "execute_result"
    }
   ],
   "source": [
    "import sys, time, wmi, psutil\n",
    "SYSTEM_INFO = wmi.WMI().Win32_OperatingSystem()[0]\n",
    "\"system: {0}, {1}, {2}\".format(SYSTEM_INFO.Caption, SYSTEM_INFO.BuildNumber, SYSTEM_INFO.OSArchitecture) \n",
    "\"memory: {}G\".format(round(psutil.virtual_memory().total / 1024**3, 2))\n",
    "\"cpu: {}\".format(psutil.cpu_count())\n",
    "\"python: {}\".format(sys.version)\n",
    "time.strftime('%Y-%m-%d %H:%M:%S', time.localtime(time.time()))"
   ]
  },
  {
   "cell_type": "markdown",
   "metadata": {},
   "source": [
    "- **@author**: run_walker\n",
    "- **@references**:\n",
    "    1. [functools.lru_cache装饰器](https://www.cnblogs.com/liao-lin/p/10855288.html)\n",
    "    2. [functools.lru_cache装饰器详解](https://blog.csdn.net/wzqnls/article/details/78506022)"
   ]
  },
  {
   "cell_type": "markdown",
   "metadata": {},
   "source": [
    "`functools.lru_cache`是非常实用的装饰器，它能把装饰的函数的结果保存起来，避免传入相同的参数时重复计算。***LRU***是***Least Recently Used***的缩写,表明缓存不会无限制增长，一段时间不用的缓存条目会被扔掉。"
   ]
  },
  {
   "cell_type": "markdown",
   "metadata": {},
   "source": [
    "<div class=\"alert alert-block alert-warning\">\n",
    "    <i class=\"fa fa-sticky-note\" aria-hidden=\"true\"><b> Note:</b></i>\n",
    "    <ul>\n",
    "        <li>装饰的函数的参数必须可以被哈希。</li>\n",
    "        <li>如果给参数`maxsize`传入None，则缓存没有空间限制，可以无限增长。</li>\n",
    "    </ul>\n",
    "</div>"
   ]
  },
  {
   "cell_type": "code",
   "execution_count": 3,
   "metadata": {},
   "outputs": [],
   "source": [
    "import functools"
   ]
  },
  {
   "cell_type": "code",
   "execution_count": 4,
   "metadata": {},
   "outputs": [
    {
     "name": "stdout",
     "output_type": "stream",
     "text": [
      "Help on function lru_cache in module functools:\n",
      "\n",
      "lru_cache(maxsize=128, typed=False)\n",
      "    Least-recently-used cache decorator.\n",
      "    \n",
      "    If *maxsize* is set to None, the LRU features are disabled and the cache\n",
      "    can grow without bound.\n",
      "    \n",
      "    If *typed* is True, arguments of different types will be cached separately.\n",
      "    For example, f(3.0) and f(3) will be treated as distinct calls with\n",
      "    distinct results.\n",
      "    \n",
      "    Arguments to the cached function must be hashable.\n",
      "    \n",
      "    View the cache statistics named tuple (hits, misses, maxsize, currsize)\n",
      "    with f.cache_info().  Clear the cache and statistics with f.cache_clear().\n",
      "    Access the underlying function with f.__wrapped__.\n",
      "    \n",
      "    See:  http://en.wikipedia.org/wiki/Cache_algorithms#Least_Recently_Used\n",
      "\n"
     ]
    }
   ],
   "source": [
    "help(functools.lru_cache)"
   ]
  },
  {
   "cell_type": "code",
   "execution_count": 6,
   "metadata": {},
   "outputs": [],
   "source": [
    "import time\n",
    "import functools\n",
    "\n",
    "\n",
    "def clock(func):\n",
    "    @functools.wraps(func)\n",
    "    def clocked(*args, **kwargs):\n",
    "        t0 = time.time()\n",
    "        result = func(*args, **kwargs)\n",
    "        cost_t = time.time() - t0\n",
    "        name = func.__name__\n",
    "        arg_lst = []\n",
    "        if args:\n",
    "            arg_lst += [repr(arg) for arg in args]\n",
    "        if kwargs:\n",
    "            arg_lst += ['%s=%r' % (k, w) for k, w in sorted(kwargs.items())]\n",
    "        arg_str = ', '.join(arg_lst)\n",
    "        print('[%0.8fs] %s(%s) -> %r ' % (cost_t, name, arg_str, result))\n",
    "        return result\n",
    "    return clocked"
   ]
  },
  {
   "cell_type": "code",
   "execution_count": 7,
   "metadata": {},
   "outputs": [],
   "source": [
    "@clock\n",
    "def fibonacci(n):\n",
    "    if n < 2:\n",
    "        return n\n",
    "    return fibonacci(n - 2) + fibonacci(n - 1)"
   ]
  },
  {
   "cell_type": "code",
   "execution_count": 8,
   "metadata": {},
   "outputs": [
    {
     "name": "stdout",
     "output_type": "stream",
     "text": [
      "[0.00000000s] fibonacci(0) -> 0 \n",
      "[0.00000000s] fibonacci(1) -> 1 \n",
      "[0.00400186s] fibonacci(2) -> 1 \n",
      "[0.00000000s] fibonacci(1) -> 1 \n",
      "[0.00000000s] fibonacci(0) -> 0 \n",
      "[0.00000000s] fibonacci(1) -> 1 \n",
      "[0.00299692s] fibonacci(2) -> 1 \n",
      "[0.00599909s] fibonacci(3) -> 2 \n",
      "[0.01401424s] fibonacci(4) -> 3 \n",
      "[0.00000000s] fibonacci(1) -> 1 \n",
      "[0.00000000s] fibonacci(0) -> 0 \n",
      "[0.00000000s] fibonacci(1) -> 1 \n",
      "[0.00299907s] fibonacci(2) -> 1 \n",
      "[0.00499964s] fibonacci(3) -> 2 \n",
      "[0.00000000s] fibonacci(0) -> 0 \n",
      "[0.00000000s] fibonacci(1) -> 1 \n",
      "[0.00200033s] fibonacci(2) -> 1 \n",
      "[0.00000000s] fibonacci(1) -> 1 \n",
      "[0.00000000s] fibonacci(0) -> 0 \n",
      "[0.00000000s] fibonacci(1) -> 1 \n",
      "[0.00199866s] fibonacci(2) -> 1 \n",
      "[0.00400043s] fibonacci(3) -> 2 \n",
      "[0.00900173s] fibonacci(4) -> 3 \n",
      "[0.01599836s] fibonacci(5) -> 5 \n",
      "[0.03199887s] fibonacci(6) -> 8 \n"
     ]
    },
    {
     "data": {
      "text/plain": [
       "8"
      ]
     },
     "execution_count": 8,
     "metadata": {},
     "output_type": "execute_result"
    }
   ],
   "source": [
    "fibonacci(6)"
   ]
  },
  {
   "cell_type": "markdown",
   "metadata": {},
   "source": [
    "可以看出使用递归会进行很多重复的计算，数据量增多时调用和计算更多。"
   ]
  },
  {
   "cell_type": "code",
   "execution_count": 9,
   "metadata": {},
   "outputs": [],
   "source": [
    "@functools.lru_cache()\n",
    "@clock\n",
    "def fibonacci_lru(n):\n",
    "    if n < 2:\n",
    "        return n\n",
    "    return fibonacci_lru(n - 2) + fibonacci_lru(n - 1)"
   ]
  },
  {
   "cell_type": "code",
   "execution_count": 10,
   "metadata": {},
   "outputs": [
    {
     "name": "stdout",
     "output_type": "stream",
     "text": [
      "[0.00000000s] fibonacci_lru(0) -> 0 \n",
      "[0.00000000s] fibonacci_lru(1) -> 1 \n",
      "[0.00400043s] fibonacci_lru(2) -> 1 \n",
      "[0.00000000s] fibonacci_lru(3) -> 2 \n",
      "[0.00800037s] fibonacci_lru(4) -> 3 \n",
      "[0.00000000s] fibonacci_lru(5) -> 5 \n",
      "[0.01000142s] fibonacci_lru(6) -> 8 \n"
     ]
    },
    {
     "data": {
      "text/plain": [
       "8"
      ]
     },
     "execution_count": 10,
     "metadata": {},
     "output_type": "execute_result"
    }
   ],
   "source": [
    "fibonacci_lru(6)"
   ]
  },
  {
   "cell_type": "code",
   "execution_count": 11,
   "metadata": {},
   "outputs": [
    {
     "data": {
      "text/plain": [
       "8"
      ]
     },
     "execution_count": 11,
     "metadata": {},
     "output_type": "execute_result"
    }
   ],
   "source": [
    "fibonacci_lru(6)  # 直接从缓存中取出结果"
   ]
  },
  {
   "cell_type": "code",
   "execution_count": 12,
   "metadata": {},
   "outputs": [
    {
     "name": "stdout",
     "output_type": "stream",
     "text": [
      "[0.00000000s] fibonacci_lru(7) -> 13 \n",
      "[0.00299954s] fibonacci_lru(8) -> 21 \n"
     ]
    },
    {
     "data": {
      "text/plain": [
       "21"
      ]
     },
     "execution_count": 12,
     "metadata": {},
     "output_type": "execute_result"
    }
   ],
   "source": [
    "fibonacci_lru(8)"
   ]
  },
  {
   "cell_type": "markdown",
   "metadata": {},
   "source": [
    "可以看到对出现过的参数，直接从缓存读取结果，不再重复计算。"
   ]
  },
  {
   "cell_type": "code",
   "execution_count": 13,
   "metadata": {},
   "outputs": [
    {
     "data": {
      "text/plain": [
       "CacheInfo(hits=8, misses=9, maxsize=128, currsize=9)"
      ]
     },
     "execution_count": 13,
     "metadata": {},
     "output_type": "execute_result"
    }
   ],
   "source": [
    "fibonacci_lru.cache_info()"
   ]
  },
  {
   "cell_type": "code",
   "execution_count": 17,
   "metadata": {},
   "outputs": [],
   "source": [
    "fibonacci_lru.cache_clear()"
   ]
  },
  {
   "cell_type": "code",
   "execution_count": 18,
   "metadata": {},
   "outputs": [
    {
     "data": {
      "text/plain": [
       "CacheInfo(hits=0, misses=0, maxsize=128, currsize=0)"
      ]
     },
     "execution_count": 18,
     "metadata": {},
     "output_type": "execute_result"
    }
   ],
   "source": [
    "fibonacci_lru.cache_info()"
   ]
  },
  {
   "cell_type": "code",
   "execution_count": 19,
   "metadata": {},
   "outputs": [
    {
     "name": "stdout",
     "output_type": "stream",
     "text": [
      "[0.00000000s] fibonacci_lru(0) -> 0 \n",
      "[0.00000000s] fibonacci_lru(1) -> 1 \n",
      "[0.00197005s] fibonacci_lru(2) -> 1 \n",
      "[0.00000000s] fibonacci_lru(3) -> 2 \n",
      "[0.00496697s] fibonacci_lru(4) -> 3 \n",
      "[0.00000000s] fibonacci_lru(5) -> 5 \n",
      "[0.00796771s] fibonacci_lru(6) -> 8 \n"
     ]
    },
    {
     "data": {
      "text/plain": [
       "8"
      ]
     },
     "execution_count": 19,
     "metadata": {},
     "output_type": "execute_result"
    }
   ],
   "source": [
    "fibonacci_lru(6)"
   ]
  },
  {
   "cell_type": "markdown",
   "metadata": {},
   "source": [
    "调用`func.cache_clear()`清空缓存后，再次调用会重新进行计算。"
   ]
  },
  {
   "cell_type": "markdown",
   "metadata": {},
   "source": [
    "**总结**：`lru_cache`不能查看缓存的具体内容，在实际应用场景中这一点可能十分关键，所以更适合于一些很小的函数的递归实现，在leetcode刷题中经常会用到该功能；而对于一个需要查看当前已经解决过的所有情况的任务而言，需要自己手动建立一个哈希表，每次调用函数前判断其中是否已经存在了结果，如果没有的话，计算完毕后再将结果和输入参数的map更新进去。"
   ]
  },
  {
   "cell_type": "code",
   "execution_count": null,
   "metadata": {},
   "outputs": [],
   "source": []
  }
 ],
 "metadata": {
  "kernelspec": {
   "display_name": "python37",
   "language": "python",
   "name": "python37"
  },
  "language_info": {
   "codemirror_mode": {
    "name": "ipython",
    "version": 3
   },
   "file_extension": ".py",
   "mimetype": "text/x-python",
   "name": "python",
   "nbconvert_exporter": "python",
   "pygments_lexer": "ipython3",
   "version": "3.7.1"
  }
 },
 "nbformat": 4,
 "nbformat_minor": 4
}
